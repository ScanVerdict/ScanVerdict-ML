{
 "cells": [
  {
   "cell_type": "code",
   "execution_count": 26,
   "metadata": {
    "ExecuteTime": {
     "end_time": "2023-06-21T21:06:53.744907400Z",
     "start_time": "2023-06-21T21:06:53.736398400Z"
    }
   },
   "outputs": [],
   "source": [
    "import pandas as pd\n",
    "import matplotlib.pyplot as plt\n",
    "from langdetect import detect, DetectorFactory\n",
    "from langdetect.lang_detect_exception import LangDetectException\n",
    "import numpy as np"
   ]
  },
  {
   "cell_type": "code",
   "execution_count": 27,
   "metadata": {
    "ExecuteTime": {
     "end_time": "2023-06-21T21:07:09.607639100Z",
     "start_time": "2023-06-21T21:06:53.749421600Z"
    }
   },
   "outputs": [
    {
     "data": {
      "text/plain": "                   Name  grading  date  \\\nID                                       \n0      Reezaane Bundhoo        4    12   \n1      Akram Althawbani        5     3   \n2          Ibrahim Sobh        4     1   \n3         Mareike Engel        5     5   \n4     shrishail kurangi        3     6   \n...                 ...      ...   ...   \n5009  Ammellle Ammellle        5    48   \n5010     Amélie Glorian        4    12   \n5012          jules qci        5    72   \n5013        Pierre Yger        5    48   \n5014  Valentin Delepaut        5    36   \n\n                                                   Text Language  \nID                                                                \n0     Delicious cakes, hot/cold beverages and great ...       en  \n1     Best place but it's still camels man opinion. ...       en  \n2     Amazing place to buy bread and sweets , always...       en  \n3     Love the baguette and croissant. Staff is alwa...       en  \n4     All the items I have tried here are really gre...       en  \n...                                                 ...      ...  \n5009                      Salle intimiste très agréable       fr  \n5010                                      Ancien cinéma       fr  \n5012                            Bonne salle rien a dire       fr  \n5013                       Un superbe salle authentique       fr  \n5014                       Super salle et programmation       fr  \n\n[3722 rows x 5 columns]",
      "text/html": "<div>\n<style scoped>\n    .dataframe tbody tr th:only-of-type {\n        vertical-align: middle;\n    }\n\n    .dataframe tbody tr th {\n        vertical-align: top;\n    }\n\n    .dataframe thead th {\n        text-align: right;\n    }\n</style>\n<table border=\"1\" class=\"dataframe\">\n  <thead>\n    <tr style=\"text-align: right;\">\n      <th></th>\n      <th>Name</th>\n      <th>grading</th>\n      <th>date</th>\n      <th>Text</th>\n      <th>Language</th>\n    </tr>\n    <tr>\n      <th>ID</th>\n      <th></th>\n      <th></th>\n      <th></th>\n      <th></th>\n      <th></th>\n    </tr>\n  </thead>\n  <tbody>\n    <tr>\n      <th>0</th>\n      <td>Reezaane Bundhoo</td>\n      <td>4</td>\n      <td>12</td>\n      <td>Delicious cakes, hot/cold beverages and great ...</td>\n      <td>en</td>\n    </tr>\n    <tr>\n      <th>1</th>\n      <td>Akram Althawbani</td>\n      <td>5</td>\n      <td>3</td>\n      <td>Best place but it's still camels man opinion. ...</td>\n      <td>en</td>\n    </tr>\n    <tr>\n      <th>2</th>\n      <td>Ibrahim Sobh</td>\n      <td>4</td>\n      <td>1</td>\n      <td>Amazing place to buy bread and sweets , always...</td>\n      <td>en</td>\n    </tr>\n    <tr>\n      <th>3</th>\n      <td>Mareike Engel</td>\n      <td>5</td>\n      <td>5</td>\n      <td>Love the baguette and croissant. Staff is alwa...</td>\n      <td>en</td>\n    </tr>\n    <tr>\n      <th>4</th>\n      <td>shrishail kurangi</td>\n      <td>3</td>\n      <td>6</td>\n      <td>All the items I have tried here are really gre...</td>\n      <td>en</td>\n    </tr>\n    <tr>\n      <th>...</th>\n      <td>...</td>\n      <td>...</td>\n      <td>...</td>\n      <td>...</td>\n      <td>...</td>\n    </tr>\n    <tr>\n      <th>5009</th>\n      <td>Ammellle Ammellle</td>\n      <td>5</td>\n      <td>48</td>\n      <td>Salle intimiste très agréable</td>\n      <td>fr</td>\n    </tr>\n    <tr>\n      <th>5010</th>\n      <td>Amélie Glorian</td>\n      <td>4</td>\n      <td>12</td>\n      <td>Ancien cinéma</td>\n      <td>fr</td>\n    </tr>\n    <tr>\n      <th>5012</th>\n      <td>jules qci</td>\n      <td>5</td>\n      <td>72</td>\n      <td>Bonne salle rien a dire</td>\n      <td>fr</td>\n    </tr>\n    <tr>\n      <th>5013</th>\n      <td>Pierre Yger</td>\n      <td>5</td>\n      <td>48</td>\n      <td>Un superbe salle authentique</td>\n      <td>fr</td>\n    </tr>\n    <tr>\n      <th>5014</th>\n      <td>Valentin Delepaut</td>\n      <td>5</td>\n      <td>36</td>\n      <td>Super salle et programmation</td>\n      <td>fr</td>\n    </tr>\n  </tbody>\n</table>\n<p>3722 rows × 5 columns</p>\n</div>"
     },
     "execution_count": 27,
     "metadata": {},
     "output_type": "execute_result"
    }
   ],
   "source": [
    "# Convertir le dictionnaire en DataFrame\n",
    "\n",
    "# df = pd.read_csv('dataset1.csv', sep=';')\n",
    "df = pd.read_csv('data.csv')\n",
    "df = df.dropna()\n",
    "\n",
    "# Remplacer les valeurs dans grading par des int\n",
    "df[\"grading\"] = [int(x[0]) if x[0].isdigit() and \"/\" not in x else int(5*float(x.split('/')[0])/float(x.split('/')[1])) for x in df[\"grading\"]]\n",
    "\n",
    "# Remplace date par un dictionnaire {months: number, years: number}\n",
    "def transform_date(date):\n",
    "    weeks_or_days = ['week', 'day', 'semaine', 'jour']\n",
    "    date_array = date.split()\n",
    "    if any(word in date_array for word in weeks_or_days):\n",
    "        return 0\n",
    "    elif 'month' in date or 'mois' in date:\n",
    "        if date_array[0].isdigit():\n",
    "            return int(date_array[0])\n",
    "        return 1\n",
    "    elif date_array[0].isdigit():\n",
    "        return int(date_array[0])*12\n",
    "    return 12\n",
    "\n",
    "df[\"date\"] = df[\"date\"].apply(transform_date)\n",
    "\n",
    "df.index_name = 'ID'\n",
    "# Renommer la colonne d'index en \"ID\"\n",
    "df = df.rename_axis('ID').reset_index()\n",
    "df.set_index('ID', inplace=True)\n",
    "# Ajouter la colonne Language à la DataFrame\n",
    "\n",
    "# Pour que les détections soient consistent\n",
    "DetectorFactory.seed = 0\n",
    "def detect_language(text):\n",
    "    try:\n",
    "        return detect(text)\n",
    "    except LangDetectException:\n",
    "        return 'unknown'\n",
    "\n",
    "df['Language'] = df['Text'].apply(detect_language)\n",
    "df.drop(df.loc[df['Language'] == 'unknown'].index, inplace=True)\n",
    "\n",
    "df"
   ]
  },
  {
   "cell_type": "markdown",
   "source": [
    "## Translation"
   ],
   "metadata": {
    "collapsed": false
   }
  },
  {
   "cell_type": "code",
   "execution_count": 28,
   "outputs": [
    {
     "data": {
      "text/plain": "                   Name  grading  date  \\\nID                                       \n0      Reezaane Bundhoo        4    12   \n1      Akram Althawbani        5     3   \n2          Ibrahim Sobh        4     1   \n3         Mareike Engel        5     5   \n4     shrishail kurangi        3     6   \n...                 ...      ...   ...   \n5009  Ammellle Ammellle        5    48   \n5010     Amélie Glorian        4    12   \n5012          jules qci        5    72   \n5013        Pierre Yger        5    48   \n5014  Valentin Delepaut        5    36   \n\n                                                   Text Language  \nID                                                                \n0     Delicious cakes, hot/cold beverages and great ...       en  \n1     Best place but it's still camels man opinion. ...       en  \n2     Amazing place to buy bread and sweets , always...       en  \n3     Love the baguette and croissant. Staff is alwa...       en  \n4     All the items I have tried here are really gre...       en  \n...                                                 ...      ...  \n5009                        Very pleasant intimate room       en  \n5010                                         old cinema       en  \n5012                           Good room nothing to say       en  \n5013                            A superb authentic room       en  \n5014                         Great room and programming       en  \n\n[3722 rows x 5 columns]",
      "text/html": "<div>\n<style scoped>\n    .dataframe tbody tr th:only-of-type {\n        vertical-align: middle;\n    }\n\n    .dataframe tbody tr th {\n        vertical-align: top;\n    }\n\n    .dataframe thead th {\n        text-align: right;\n    }\n</style>\n<table border=\"1\" class=\"dataframe\">\n  <thead>\n    <tr style=\"text-align: right;\">\n      <th></th>\n      <th>Name</th>\n      <th>grading</th>\n      <th>date</th>\n      <th>Text</th>\n      <th>Language</th>\n    </tr>\n    <tr>\n      <th>ID</th>\n      <th></th>\n      <th></th>\n      <th></th>\n      <th></th>\n      <th></th>\n    </tr>\n  </thead>\n  <tbody>\n    <tr>\n      <th>0</th>\n      <td>Reezaane Bundhoo</td>\n      <td>4</td>\n      <td>12</td>\n      <td>Delicious cakes, hot/cold beverages and great ...</td>\n      <td>en</td>\n    </tr>\n    <tr>\n      <th>1</th>\n      <td>Akram Althawbani</td>\n      <td>5</td>\n      <td>3</td>\n      <td>Best place but it's still camels man opinion. ...</td>\n      <td>en</td>\n    </tr>\n    <tr>\n      <th>2</th>\n      <td>Ibrahim Sobh</td>\n      <td>4</td>\n      <td>1</td>\n      <td>Amazing place to buy bread and sweets , always...</td>\n      <td>en</td>\n    </tr>\n    <tr>\n      <th>3</th>\n      <td>Mareike Engel</td>\n      <td>5</td>\n      <td>5</td>\n      <td>Love the baguette and croissant. Staff is alwa...</td>\n      <td>en</td>\n    </tr>\n    <tr>\n      <th>4</th>\n      <td>shrishail kurangi</td>\n      <td>3</td>\n      <td>6</td>\n      <td>All the items I have tried here are really gre...</td>\n      <td>en</td>\n    </tr>\n    <tr>\n      <th>...</th>\n      <td>...</td>\n      <td>...</td>\n      <td>...</td>\n      <td>...</td>\n      <td>...</td>\n    </tr>\n    <tr>\n      <th>5009</th>\n      <td>Ammellle Ammellle</td>\n      <td>5</td>\n      <td>48</td>\n      <td>Very pleasant intimate room</td>\n      <td>en</td>\n    </tr>\n    <tr>\n      <th>5010</th>\n      <td>Amélie Glorian</td>\n      <td>4</td>\n      <td>12</td>\n      <td>old cinema</td>\n      <td>en</td>\n    </tr>\n    <tr>\n      <th>5012</th>\n      <td>jules qci</td>\n      <td>5</td>\n      <td>72</td>\n      <td>Good room nothing to say</td>\n      <td>en</td>\n    </tr>\n    <tr>\n      <th>5013</th>\n      <td>Pierre Yger</td>\n      <td>5</td>\n      <td>48</td>\n      <td>A superb authentic room</td>\n      <td>en</td>\n    </tr>\n    <tr>\n      <th>5014</th>\n      <td>Valentin Delepaut</td>\n      <td>5</td>\n      <td>36</td>\n      <td>Great room and programming</td>\n      <td>en</td>\n    </tr>\n  </tbody>\n</table>\n<p>3722 rows × 5 columns</p>\n</div>"
     },
     "execution_count": 28,
     "metadata": {},
     "output_type": "execute_result"
    }
   ],
   "source": [
    "\"\"\"#pip install google-cloud-translate==2.0.1\n",
    "from google.cloud import translate_v2 as translate\n",
    "import os, json\n",
    "from dotenv import load_dotenv\n",
    "load_dotenv()\n",
    "\n",
    "CREDENTIALS = json.loads(os.environ.get('CREDENTIALS'))\n",
    "\n",
    "if os.path.exists('credentials.json'):\n",
    "    pass\n",
    "else:\n",
    "    with open('credentials.json', 'w') as credFile:\n",
    "        json.dump(CREDENTIALS, credFile)\n",
    "os.environ['GOOGLE_APPLICATION_CREDENTIALS'] = 'credentials.json'\n",
    "\n",
    "def translate_text(row):\n",
    "    translate_client = translate.Client()\n",
    "\n",
    "    text = row['Text']\n",
    "    if isinstance(text, bytes):\n",
    "        text = text.decode(\"utf-8\")\n",
    "\n",
    "    # Only translate the text if the language isn't 'en'.\n",
    "    if row['Language'] != 'en':\n",
    "        try:\n",
    "            result = translate_client.translate(text, target_language='en')\n",
    "            return pd.Series([result[\"translatedText\"], 'en'])\n",
    "        except Exception:\n",
    "            return pd.Series([text, row['Language']])  # if translation fails, return original text and language\n",
    "    else:\n",
    "        return pd.Series([text, row['Language']])  # if text is already in English, return original text and language\n",
    "\n",
    "df[['Text', 'Language']] = df.apply(translate_text, axis=1)\n",
    "df\n",
    "\"\"\"\n",
    "\n",
    "from deep_translator import GoogleTranslator\n",
    "\n",
    "def translate_text(df):\n",
    "    for i, row in df.iterrows():\n",
    "        if row['Language'] != 'en':\n",
    "            text = row['Text']\n",
    "            translated_text = GoogleTranslator(source='auto', target='en').translate(text)\n",
    "            df.at[i, 'Text'] = translated_text\n",
    "            df.at[i, 'Language'] = 'en'\n",
    "    return df\n",
    "\n",
    "# Apply the function to the DataFrame\n",
    "df = translate_text(df)\n",
    "df"
   ],
   "metadata": {
    "collapsed": false,
    "ExecuteTime": {
     "end_time": "2023-06-21T21:14:28.111901700Z",
     "start_time": "2023-06-21T21:07:09.609143700Z"
    }
   }
  },
  {
   "attachments": {},
   "cell_type": "markdown",
   "metadata": {},
   "source": [
    "## EDA"
   ]
  },
  {
   "cell_type": "code",
   "execution_count": 29,
   "metadata": {
    "ExecuteTime": {
     "end_time": "2023-06-21T21:14:28.326697700Z",
     "start_time": "2023-06-21T21:14:28.140831100Z"
    }
   },
   "outputs": [
    {
     "data": {
      "text/plain": "<Figure size 1000x500 with 1 Axes>",
      "image/png": "[encoded data removed]"
     },
     "metadata": {},
     "output_type": "display_data"
    }
   ],
   "source": [
    "ax = df['grading'].value_counts().sort_index() \\\n",
    "    .plot(kind='bar',\n",
    "          title='Count of Reviews by Stars',\n",
    "          figsize=(10, 5))\n",
    "ax.set_xlabel('Review Stars')\n",
    "plt.show()"
   ]
  },
  {
   "attachments": {},
   "cell_type": "markdown",
   "metadata": {},
   "source": [
    "## Sentiment Analysis"
   ]
  },
  {
   "attachments": {},
   "cell_type": "markdown",
   "metadata": {},
   "source": [
    "### Roberta"
   ]
  },
  {
   "cell_type": "code",
   "execution_count": 30,
   "metadata": {
    "ExecuteTime": {
     "end_time": "2023-06-21T21:14:28.326697700Z",
     "start_time": "2023-06-21T21:14:28.303339700Z"
    }
   },
   "outputs": [],
   "source": [
    "from transformers import pipeline\n",
    "from transformers import AutoTokenizer"
   ]
  },
  {
   "cell_type": "code",
   "execution_count": 31,
   "metadata": {
    "ExecuteTime": {
     "end_time": "2023-06-21T21:22:09.059389300Z",
     "start_time": "2023-06-21T21:14:28.326697700Z"
    }
   },
   "outputs": [
    {
     "data": {
      "text/plain": "                   Name  grading  date  \\\nID                                       \n0      Reezaane Bundhoo        4    12   \n1      Akram Althawbani        5     3   \n2          Ibrahim Sobh        4     1   \n3         Mareike Engel        5     5   \n4     shrishail kurangi        3     6   \n...                 ...      ...   ...   \n5009  Ammellle Ammellle        5    48   \n5010     Amélie Glorian        4    12   \n5012          jules qci        5    72   \n5013        Pierre Yger        5    48   \n5014  Valentin Delepaut        5    36   \n\n                                                   Text Language  \\\nID                                                                 \n0     Delicious cakes, hot/cold beverages and great ...       en   \n1     Best place but it's still camels man opinion. ...       en   \n2     Amazing place to buy bread and sweets , always...       en   \n3     Love the baguette and croissant. Staff is alwa...       en   \n4     All the items I have tried here are really gre...       en   \n...                                                 ...      ...   \n5009                        Very pleasant intimate room       en   \n5010                                         old cinema       en   \n5012                           Good room nothing to say       en   \n5013                            A superb authentic room       en   \n5014                         Great room and programming       en   \n\n     label (roberta)  score (roberta)  \nID                                     \n0           POSITIVE         0.907862  \n1           POSITIVE         0.809464  \n2            NEUTRAL         0.368061  \n3           POSITIVE         0.991683  \n4           NEGATIVE         0.392930  \n...              ...              ...  \n5009        POSITIVE         0.966187  \n5010         NEUTRAL         0.736137  \n5012        POSITIVE         0.725447  \n5013        POSITIVE         0.827901  \n5014        POSITIVE         0.925133  \n\n[3722 rows x 7 columns]",
      "text/html": "<div>\n<style scoped>\n    .dataframe tbody tr th:only-of-type {\n        vertical-align: middle;\n    }\n\n    .dataframe tbody tr th {\n        vertical-align: top;\n    }\n\n    .dataframe thead th {\n        text-align: right;\n    }\n</style>\n<table border=\"1\" class=\"dataframe\">\n  <thead>\n    <tr style=\"text-align: right;\">\n      <th></th>\n      <th>Name</th>\n      <th>grading</th>\n      <th>date</th>\n      <th>Text</th>\n      <th>Language</th>\n      <th>label (roberta)</th>\n      <th>score (roberta)</th>\n    </tr>\n    <tr>\n      <th>ID</th>\n      <th></th>\n      <th></th>\n      <th></th>\n      <th></th>\n      <th></th>\n      <th></th>\n      <th></th>\n    </tr>\n  </thead>\n  <tbody>\n    <tr>\n      <th>0</th>\n      <td>Reezaane Bundhoo</td>\n      <td>4</td>\n      <td>12</td>\n      <td>Delicious cakes, hot/cold beverages and great ...</td>\n      <td>en</td>\n      <td>POSITIVE</td>\n      <td>0.907862</td>\n    </tr>\n    <tr>\n      <th>1</th>\n      <td>Akram Althawbani</td>\n      <td>5</td>\n      <td>3</td>\n      <td>Best place but it's still camels man opinion. ...</td>\n      <td>en</td>\n      <td>POSITIVE</td>\n      <td>0.809464</td>\n    </tr>\n    <tr>\n      <th>2</th>\n      <td>Ibrahim Sobh</td>\n      <td>4</td>\n      <td>1</td>\n      <td>Amazing place to buy bread and sweets , always...</td>\n      <td>en</td>\n      <td>NEUTRAL</td>\n      <td>0.368061</td>\n    </tr>\n    <tr>\n      <th>3</th>\n      <td>Mareike Engel</td>\n      <td>5</td>\n      <td>5</td>\n      <td>Love the baguette and croissant. Staff is alwa...</td>\n      <td>en</td>\n      <td>POSITIVE</td>\n      <td>0.991683</td>\n    </tr>\n    <tr>\n      <th>4</th>\n      <td>shrishail kurangi</td>\n      <td>3</td>\n      <td>6</td>\n      <td>All the items I have tried here are really gre...</td>\n      <td>en</td>\n      <td>NEGATIVE</td>\n      <td>0.392930</td>\n    </tr>\n    <tr>\n      <th>...</th>\n      <td>...</td>\n      <td>...</td>\n      <td>...</td>\n      <td>...</td>\n      <td>...</td>\n      <td>...</td>\n      <td>...</td>\n    </tr>\n    <tr>\n      <th>5009</th>\n      <td>Ammellle Ammellle</td>\n      <td>5</td>\n      <td>48</td>\n      <td>Very pleasant intimate room</td>\n      <td>en</td>\n      <td>POSITIVE</td>\n      <td>0.966187</td>\n    </tr>\n    <tr>\n      <th>5010</th>\n      <td>Amélie Glorian</td>\n      <td>4</td>\n      <td>12</td>\n      <td>old cinema</td>\n      <td>en</td>\n      <td>NEUTRAL</td>\n      <td>0.736137</td>\n    </tr>\n    <tr>\n      <th>5012</th>\n      <td>jules qci</td>\n      <td>5</td>\n      <td>72</td>\n      <td>Good room nothing to say</td>\n      <td>en</td>\n      <td>POSITIVE</td>\n      <td>0.725447</td>\n    </tr>\n    <tr>\n      <th>5013</th>\n      <td>Pierre Yger</td>\n      <td>5</td>\n      <td>48</td>\n      <td>A superb authentic room</td>\n      <td>en</td>\n      <td>POSITIVE</td>\n      <td>0.827901</td>\n    </tr>\n    <tr>\n      <th>5014</th>\n      <td>Valentin Delepaut</td>\n      <td>5</td>\n      <td>36</td>\n      <td>Great room and programming</td>\n      <td>en</td>\n      <td>POSITIVE</td>\n      <td>0.925133</td>\n    </tr>\n  </tbody>\n</table>\n<p>3722 rows × 7 columns</p>\n</div>"
     },
     "execution_count": 31,
     "metadata": {},
     "output_type": "execute_result"
    }
   ],
   "source": [
    "# Sentiment Analysis with Roberta\n",
    "\"\"\"\n",
    "nlp = pipeline(\"sentiment-analysis\", model=f\"cardiffnlp/twitter-roberta-base-sentiment\")\n",
    "\n",
    "# Run the polarity score on the entire dataset\n",
    "res = pd.DataFrame(columns=['label', 'score'])\n",
    "for index, row in df.iterrows():\n",
    "    text = row['Text']\n",
    "    langue = row['Language']\n",
    "    if langue == 'en':\n",
    "        dict = pd.DataFrame(nlp(text))\n",
    "        dict['ID'] = index\n",
    "        res = pd.concat([res, dict], axis=0)\n",
    "\"\"\"\n",
    "tokenizer = AutoTokenizer.from_pretrained(\"cardiffnlp/twitter-roberta-base-sentiment\")\n",
    "\n",
    "nlp = pipeline(\"sentiment-analysis\", model=\"cardiffnlp/twitter-roberta-base-sentiment\", tokenizer=tokenizer)\n",
    "\n",
    "res = pd.DataFrame(columns=['label', 'score'])\n",
    "for index, row in df.iterrows():\n",
    "    text = row['Text']\n",
    "    langue = row['Language']\n",
    "\n",
    "    # If the language is English and the token length doesn't exceed the limit\n",
    "    if langue == 'en':\n",
    "        tokens = tokenizer.encode(text, return_tensors='pt')\n",
    "\n",
    "        if len(tokens[0]) <= 512:\n",
    "            dict = pd.DataFrame(nlp(text))\n",
    "            dict['ID'] = index\n",
    "            res = pd.concat([res, dict], axis=0)\n",
    "\n",
    "# Remplacement des valeurs\n",
    "res['label'] = res['label'].replace('LABEL_0', 'NEGATIVE')\n",
    "res['label'] = res['label'].replace('LABEL_1', 'NEUTRAL')\n",
    "res['label'] = res['label'].replace('LABEL_2', 'POSITIVE')\n",
    "res[\"ID\"] = res['ID'].astype(int)\n",
    "res = res.rename(columns={\"label\": \"label (roberta)\", \"score\": \"score (roberta)\"})\n",
    "res.set_index('ID', inplace=True)\n",
    "\n",
    "# Merge the two dataframes\n",
    "df = df.merge(res, left_index=True, right_index=True, how='left')\n",
    "df\n"
   ]
  },
  {
   "attachments": {},
   "cell_type": "markdown",
   "metadata": {},
   "source": [
    "## nlptown/bert-base-multilingual-uncased-sentiment"
   ]
  },
  {
   "cell_type": "code",
   "execution_count": 32,
   "metadata": {
    "ExecuteTime": {
     "end_time": "2023-06-21T21:22:09.093344400Z",
     "start_time": "2023-06-21T21:22:09.060400100Z"
    }
   },
   "outputs": [
    {
     "data": {
      "text/plain": "'\\nnlp = pipeline(\"sentiment-analysis\", model=f\"nlptown/bert-base-multilingual-uncased-sentiment\")\\n\\n# Run the polarity score on the entire dataset\\nres = pd.DataFrame(columns=[\\'label\\', \\'score\\'])\\nfor index, row in df.iterrows():\\n    text = row[\\'Text\\']\\n    langue = row[\\'Language\\']\\n    if langue == \\'en\\' or langue == \\'fr\\' or langue == \\'es\\' or langue == \\'it\\' or langue == \\'de\\' or langue == \\'nl\\':\\n\\n        tokens = tokenizer.encode(text, return_tensors=\\'pt\\')\\n\\n        if len(tokens[0]) <= 512:\\n            dict = pd.DataFrame(nlp(text))\\n            dict[\\'ID\\'] = index\\n            res = pd.concat([res, dict], axis=0)\\n\\n# Remplacement des valeurs\\nres[\\'label\\'] = res[\\'label\\'].replace(\\'1 star\\', int(1))\\nres[\\'label\\'] = res[\\'label\\'].replace(\\'2 stars\\', int(2))\\nres[\\'label\\'] = res[\\'label\\'].replace(\\'3 stars\\', int(3))\\nres[\\'label\\'] = res[\\'label\\'].replace(\\'4 stars\\', int(4))\\nres[\\'label\\'] = res[\\'label\\'].replace(\\'5 stars\\', int(5))\\nres[\"ID\"] = res[\\'ID\\'].astype(int)\\nres = res.rename(columns={\\'label\\': \\'label (Bert), over 5\\', \\'score\\': \\'score (Bert)\\'})\\nres.set_index(\\'ID\\', inplace=True)\\n\\n# Merge the two dataframes\\ndf = df.merge(res, left_index=True, right_index=True, how=\\'left\\')\\ndf\\n'"
     },
     "execution_count": 32,
     "metadata": {},
     "output_type": "execute_result"
    }
   ],
   "source": [
    "# Sentiment Analysis Bert-base-uncased\n",
    "# Plusieurs langages disponibles (dont le français)\n",
    "#English\t150k\n",
    "#Dutch\t80k\n",
    "#German\t137k\n",
    "#French\t140k\n",
    "#Italian\t72k\n",
    "#Spanish\n",
    "# Il classifie les phrases en étoiles (1 à 5)\n",
    "# Ce modèle est connu\n",
    "\"\"\"\n",
    "nlp = pipeline(\"sentiment-analysis\", model=f\"nlptown/bert-base-multilingual-uncased-sentiment\")\n",
    "\n",
    "# Run the polarity score on the entire dataset\n",
    "res = pd.DataFrame(columns=['label', 'score'])\n",
    "for index, row in df.iterrows():\n",
    "    text = row['Text']\n",
    "    langue = row['Language']\n",
    "    if langue == 'en' or langue == 'fr' or langue == 'es' or langue == 'it' or langue == 'de' or langue == 'nl':\n",
    "\n",
    "        tokens = tokenizer.encode(text, return_tensors='pt')\n",
    "\n",
    "        if len(tokens[0]) <= 512:\n",
    "            dict = pd.DataFrame(nlp(text))\n",
    "            dict['ID'] = index\n",
    "            res = pd.concat([res, dict], axis=0)\n",
    "\n",
    "# Remplacement des valeurs\n",
    "res['label'] = res['label'].replace('1 star', int(1))\n",
    "res['label'] = res['label'].replace('2 stars', int(2))\n",
    "res['label'] = res['label'].replace('3 stars', int(3))\n",
    "res['label'] = res['label'].replace('4 stars', int(4))\n",
    "res['label'] = res['label'].replace('5 stars', int(5))\n",
    "res[\"ID\"] = res['ID'].astype(int)\n",
    "res = res.rename(columns={'label': 'label (Bert), over 5', 'score': 'score (Bert)'})\n",
    "res.set_index('ID', inplace=True)\n",
    "\n",
    "# Merge the two dataframes\n",
    "df = df.merge(res, left_index=True, right_index=True, how='left')\n",
    "df\n",
    "\"\"\"\n",
    "# print(df.isnull().sum())\n",
    "# print(f\"Negative: {df[df['label (roberta)'] == 'NEGATIVE'].count()}, Positive: {df[df['label (roberta)'] == 'POSITIVE'].count()}, Neutral: {df[df['label (roberta)'] == 'NEUTRAL'].count()}\")\n"
   ]
  },
  {
   "cell_type": "markdown",
   "source": [
    "## Using Sklearn"
   ],
   "metadata": {
    "collapsed": false
   }
  },
  {
   "cell_type": "code",
   "execution_count": 33,
   "outputs": [
    {
     "data": {
      "text/plain": "\"\\nfrom sklearn.feature_extraction.text import CountVectorizer\\nfrom sklearn.naive_bayes import MultinomialNB\\nfrom sklearn.model_selection import train_test_split\\nfrom sklearn.metrics import accuracy_score, precision_score, recall_score, f1_score\\n\\ndf = df.drop(df[df['label (roberta)'].isna()].index)\\n\\n# Assume X is your list of texts and y is your list of labels\\nX_train, X_test, y_train, y_test = train_test_split(df['Text'], df['label (roberta)'], test_size=0.2)\\n\\n# Transform the text data into numerical vectors\\nvectorizer = CountVectorizer()\\nX_train_vectors = vectorizer.fit_transform(X_train)\\nX_test_vectors = vectorizer.transform(X_test)\\n\\n# Train the classifier\\nclf = MultinomialNB()\\nclf.fit(X_train_vectors, y_train)\\n\\n# Test the classifier\\npredictions = clf.predict(X_test_vectors)\\n\\n# Calculate metrics\\naccuracy = accuracy_score(y_test, predictions)\\nprecision = precision_score(y_test, predictions, average='weighted', zero_division=0)\\nrecall = recall_score(y_test, predictions, average='weighted')\\nf1 = f1_score(y_test, predictions, average='weighted')\\n\\nprint(f'Accuracy: {accuracy}')\\nprint(f'Precision: {precision}')\\nprint(f'Recall: {recall}')\\nprint(f'F1 Score: {f1}')\\n\\nfrom sklearn.metrics import confusion_matrix\\nimport seaborn as sns\\nimport matplotlib.pyplot as plt\\n\\n# Calculate the confusion matrix\\ncm = confusion_matrix(y_test, predictions)\\n\\n# DISPLAY CONFUSION MATRIX\\n# Transpose the confusion matrix\\ncm = cm.T\\n# Define the labels of the matrix\\nlabels = ['Negative', 'Neutral', 'Positive']\\n# Create a dataframe from the confusion matrix for easier plotting\\ncm_df = pd.DataFrame(cm, index=labels, columns=labels)\\n# Display the confusion matrix\\nplt.figure(figsize=(10,7))\\nsns.heatmap(cm_df, annot=True, fmt='d', cmap='Blues')\\nplt.title('Confusion Matrix')\\nplt.ylabel('Predicted Label')\\nplt.xlabel('True Label')\\nplt.show()\\n\""
     },
     "execution_count": 33,
     "metadata": {},
     "output_type": "execute_result"
    }
   ],
   "source": [
    "\"\"\"\n",
    "from sklearn.feature_extraction.text import CountVectorizer\n",
    "from sklearn.naive_bayes import MultinomialNB\n",
    "from sklearn.model_selection import train_test_split\n",
    "from sklearn.metrics import accuracy_score, precision_score, recall_score, f1_score\n",
    "\n",
    "df = df.drop(df[df['label (roberta)'].isna()].index)\n",
    "\n",
    "# Assume X is your list of texts and y is your list of labels\n",
    "X_train, X_test, y_train, y_test = train_test_split(df['Text'], df['label (roberta)'], test_size=0.2)\n",
    "\n",
    "# Transform the text data into numerical vectors\n",
    "vectorizer = CountVectorizer()\n",
    "X_train_vectors = vectorizer.fit_transform(X_train)\n",
    "X_test_vectors = vectorizer.transform(X_test)\n",
    "\n",
    "# Train the classifier\n",
    "clf = MultinomialNB()\n",
    "clf.fit(X_train_vectors, y_train)\n",
    "\n",
    "# Test the classifier\n",
    "predictions = clf.predict(X_test_vectors)\n",
    "\n",
    "# Calculate metrics\n",
    "accuracy = accuracy_score(y_test, predictions)\n",
    "precision = precision_score(y_test, predictions, average='weighted', zero_division=0)\n",
    "recall = recall_score(y_test, predictions, average='weighted')\n",
    "f1 = f1_score(y_test, predictions, average='weighted')\n",
    "\n",
    "print(f'Accuracy: {accuracy}')\n",
    "print(f'Precision: {precision}')\n",
    "print(f'Recall: {recall}')\n",
    "print(f'F1 Score: {f1}')\n",
    "\n",
    "from sklearn.metrics import confusion_matrix\n",
    "import seaborn as sns\n",
    "import matplotlib.pyplot as plt\n",
    "\n",
    "# Calculate the confusion matrix\n",
    "cm = confusion_matrix(y_test, predictions)\n",
    "\n",
    "# DISPLAY CONFUSION MATRIX\n",
    "# Transpose the confusion matrix\n",
    "cm = cm.T\n",
    "# Define the labels of the matrix\n",
    "labels = ['Negative', 'Neutral', 'Positive']\n",
    "# Create a dataframe from the confusion matrix for easier plotting\n",
    "cm_df = pd.DataFrame(cm, index=labels, columns=labels)\n",
    "# Display the confusion matrix\n",
    "plt.figure(figsize=(10,7))\n",
    "sns.heatmap(cm_df, annot=True, fmt='d', cmap='Blues')\n",
    "plt.title('Confusion Matrix')\n",
    "plt.ylabel('Predicted Label')\n",
    "plt.xlabel('True Label')\n",
    "plt.show()\n",
    "\"\"\""
   ],
   "metadata": {
    "collapsed": false,
    "ExecuteTime": {
     "end_time": "2023-06-21T21:22:09.182847600Z",
     "start_time": "2023-06-21T21:22:09.073366600Z"
    }
   }
  },
  {
   "attachments": {},
   "cell_type": "markdown",
   "metadata": {},
   "source": [
    "## Exportation des données"
   ]
  },
  {
   "cell_type": "code",
   "execution_count": 34,
   "metadata": {
    "ExecuteTime": {
     "end_time": "2023-06-21T21:22:09.320979500Z",
     "start_time": "2023-06-21T21:22:09.093266700Z"
    }
   },
   "outputs": [],
   "source": [
    "import csv\n",
    "\n",
    "chemin_fichier = 'processed_data.csv'\n",
    "\n",
    "# Exporter le DataFrame dans un fichier CSV\n",
    "df.to_csv(chemin_fichier, index=False)"
   ]
  },
  {
   "cell_type": "markdown",
   "source": [
    "## Score du modèle"
   ],
   "metadata": {
    "collapsed": false
   }
  },
  {
   "cell_type": "code",
   "execution_count": 35,
   "outputs": [
    {
     "name": "stdout",
     "output_type": "stream",
     "text": [
      "(5015, 4)\n"
     ]
    },
    {
     "data": {
      "text/plain": "                Name  grading          date  \\\n0   Reezaane Bundhoo  4 stars    a year ago   \n1   Akram Althawbani  5 stars  3 months ago   \n2       Ibrahim Sobh  4 stars   a month ago   \n3      Mareike Engel  5 stars  5 months ago   \n4  shrishail kurangi  3 stars  6 months ago   \n\n                                                Text  \n0  Delicious cakes, hot/cold beverages and great ...  \n1  Best place but it's still camels man opinion. ...  \n2  Amazing place to buy bread and sweets , always...  \n3  Love the baguette and croissant. Staff is alwa...  \n4  All the items I have tried here are really gre...  ",
      "text/html": "<div>\n<style scoped>\n    .dataframe tbody tr th:only-of-type {\n        vertical-align: middle;\n    }\n\n    .dataframe tbody tr th {\n        vertical-align: top;\n    }\n\n    .dataframe thead th {\n        text-align: right;\n    }\n</style>\n<table border=\"1\" class=\"dataframe\">\n  <thead>\n    <tr style=\"text-align: right;\">\n      <th></th>\n      <th>Name</th>\n      <th>grading</th>\n      <th>date</th>\n      <th>Text</th>\n    </tr>\n  </thead>\n  <tbody>\n    <tr>\n      <th>0</th>\n      <td>Reezaane Bundhoo</td>\n      <td>4 stars</td>\n      <td>a year ago</td>\n      <td>Delicious cakes, hot/cold beverages and great ...</td>\n    </tr>\n    <tr>\n      <th>1</th>\n      <td>Akram Althawbani</td>\n      <td>5 stars</td>\n      <td>3 months ago</td>\n      <td>Best place but it's still camels man opinion. ...</td>\n    </tr>\n    <tr>\n      <th>2</th>\n      <td>Ibrahim Sobh</td>\n      <td>4 stars</td>\n      <td>a month ago</td>\n      <td>Amazing place to buy bread and sweets , always...</td>\n    </tr>\n    <tr>\n      <th>3</th>\n      <td>Mareike Engel</td>\n      <td>5 stars</td>\n      <td>5 months ago</td>\n      <td>Love the baguette and croissant. Staff is alwa...</td>\n    </tr>\n    <tr>\n      <th>4</th>\n      <td>shrishail kurangi</td>\n      <td>3 stars</td>\n      <td>6 months ago</td>\n      <td>All the items I have tried here are really gre...</td>\n    </tr>\n  </tbody>\n</table>\n</div>"
     },
     "execution_count": 35,
     "metadata": {},
     "output_type": "execute_result"
    }
   ],
   "source": [
    "# test_df = pd.read_csv('dataset1.csv', sep=';')\n",
    "test_df = pd.read_csv('data.csv')\n",
    "print(test_df.shape)\n",
    "test_df.head()"
   ],
   "metadata": {
    "collapsed": false,
    "ExecuteTime": {
     "end_time": "2023-06-21T21:22:09.356553Z",
     "start_time": "2023-06-21T21:22:09.156742300Z"
    }
   }
  },
  {
   "cell_type": "code",
   "execution_count": 36,
   "outputs": [
    {
     "data": {
      "text/plain": "(3726, 4)"
     },
     "execution_count": 36,
     "metadata": {},
     "output_type": "execute_result"
    }
   ],
   "source": [
    "test_df = test_df.dropna()\n",
    "test_df.shape"
   ],
   "metadata": {
    "collapsed": false,
    "ExecuteTime": {
     "end_time": "2023-06-21T21:22:09.356553Z",
     "start_time": "2023-06-21T21:22:09.216575Z"
    }
   }
  },
  {
   "cell_type": "code",
   "execution_count": 37,
   "outputs": [
    {
     "ename": "KeyError",
     "evalue": "'Target'",
     "output_type": "error",
     "traceback": [
      "\u001B[1;31m---------------------------------------------------------------------------\u001B[0m",
      "\u001B[1;31mKeyError\u001B[0m                                  Traceback (most recent call last)",
      "File \u001B[1;32m~\\anaconda3\\lib\\site-packages\\pandas\\core\\indexes\\base.py:3802\u001B[0m, in \u001B[0;36mIndex.get_loc\u001B[1;34m(self, key, method, tolerance)\u001B[0m\n\u001B[0;32m   3801\u001B[0m \u001B[38;5;28;01mtry\u001B[39;00m:\n\u001B[1;32m-> 3802\u001B[0m     \u001B[38;5;28;01mreturn\u001B[39;00m \u001B[38;5;28;43mself\u001B[39;49m\u001B[38;5;241;43m.\u001B[39;49m\u001B[43m_engine\u001B[49m\u001B[38;5;241;43m.\u001B[39;49m\u001B[43mget_loc\u001B[49m\u001B[43m(\u001B[49m\u001B[43mcasted_key\u001B[49m\u001B[43m)\u001B[49m\n\u001B[0;32m   3803\u001B[0m \u001B[38;5;28;01mexcept\u001B[39;00m \u001B[38;5;167;01mKeyError\u001B[39;00m \u001B[38;5;28;01mas\u001B[39;00m err:\n",
      "File \u001B[1;32m~\\anaconda3\\lib\\site-packages\\pandas\\_libs\\index.pyx:138\u001B[0m, in \u001B[0;36mpandas._libs.index.IndexEngine.get_loc\u001B[1;34m()\u001B[0m\n",
      "File \u001B[1;32m~\\anaconda3\\lib\\site-packages\\pandas\\_libs\\index.pyx:165\u001B[0m, in \u001B[0;36mpandas._libs.index.IndexEngine.get_loc\u001B[1;34m()\u001B[0m\n",
      "File \u001B[1;32mpandas\\_libs\\hashtable_class_helper.pxi:5745\u001B[0m, in \u001B[0;36mpandas._libs.hashtable.PyObjectHashTable.get_item\u001B[1;34m()\u001B[0m\n",
      "File \u001B[1;32mpandas\\_libs\\hashtable_class_helper.pxi:5753\u001B[0m, in \u001B[0;36mpandas._libs.hashtable.PyObjectHashTable.get_item\u001B[1;34m()\u001B[0m\n",
      "\u001B[1;31mKeyError\u001B[0m: 'Target'",
      "\nThe above exception was the direct cause of the following exception:\n",
      "\u001B[1;31mKeyError\u001B[0m                                  Traceback (most recent call last)",
      "Cell \u001B[1;32mIn[37], line 2\u001B[0m\n\u001B[0;32m      1\u001B[0m X_test \u001B[38;5;241m=\u001B[39m test_df[\u001B[38;5;124m'\u001B[39m\u001B[38;5;124mText\u001B[39m\u001B[38;5;124m'\u001B[39m]\n\u001B[1;32m----> 2\u001B[0m y_test \u001B[38;5;241m=\u001B[39m \u001B[43mtest_df\u001B[49m\u001B[43m[\u001B[49m\u001B[38;5;124;43m'\u001B[39;49m\u001B[38;5;124;43mTarget\u001B[39;49m\u001B[38;5;124;43m'\u001B[39;49m\u001B[43m]\u001B[49m\n\u001B[0;32m      3\u001B[0m X_test\n",
      "File \u001B[1;32m~\\anaconda3\\lib\\site-packages\\pandas\\core\\frame.py:3807\u001B[0m, in \u001B[0;36mDataFrame.__getitem__\u001B[1;34m(self, key)\u001B[0m\n\u001B[0;32m   3805\u001B[0m \u001B[38;5;28;01mif\u001B[39;00m \u001B[38;5;28mself\u001B[39m\u001B[38;5;241m.\u001B[39mcolumns\u001B[38;5;241m.\u001B[39mnlevels \u001B[38;5;241m>\u001B[39m \u001B[38;5;241m1\u001B[39m:\n\u001B[0;32m   3806\u001B[0m     \u001B[38;5;28;01mreturn\u001B[39;00m \u001B[38;5;28mself\u001B[39m\u001B[38;5;241m.\u001B[39m_getitem_multilevel(key)\n\u001B[1;32m-> 3807\u001B[0m indexer \u001B[38;5;241m=\u001B[39m \u001B[38;5;28;43mself\u001B[39;49m\u001B[38;5;241;43m.\u001B[39;49m\u001B[43mcolumns\u001B[49m\u001B[38;5;241;43m.\u001B[39;49m\u001B[43mget_loc\u001B[49m\u001B[43m(\u001B[49m\u001B[43mkey\u001B[49m\u001B[43m)\u001B[49m\n\u001B[0;32m   3808\u001B[0m \u001B[38;5;28;01mif\u001B[39;00m is_integer(indexer):\n\u001B[0;32m   3809\u001B[0m     indexer \u001B[38;5;241m=\u001B[39m [indexer]\n",
      "File \u001B[1;32m~\\anaconda3\\lib\\site-packages\\pandas\\core\\indexes\\base.py:3804\u001B[0m, in \u001B[0;36mIndex.get_loc\u001B[1;34m(self, key, method, tolerance)\u001B[0m\n\u001B[0;32m   3802\u001B[0m     \u001B[38;5;28;01mreturn\u001B[39;00m \u001B[38;5;28mself\u001B[39m\u001B[38;5;241m.\u001B[39m_engine\u001B[38;5;241m.\u001B[39mget_loc(casted_key)\n\u001B[0;32m   3803\u001B[0m \u001B[38;5;28;01mexcept\u001B[39;00m \u001B[38;5;167;01mKeyError\u001B[39;00m \u001B[38;5;28;01mas\u001B[39;00m err:\n\u001B[1;32m-> 3804\u001B[0m     \u001B[38;5;28;01mraise\u001B[39;00m \u001B[38;5;167;01mKeyError\u001B[39;00m(key) \u001B[38;5;28;01mfrom\u001B[39;00m \u001B[38;5;21;01merr\u001B[39;00m\n\u001B[0;32m   3805\u001B[0m \u001B[38;5;28;01mexcept\u001B[39;00m \u001B[38;5;167;01mTypeError\u001B[39;00m:\n\u001B[0;32m   3806\u001B[0m     \u001B[38;5;66;03m# If we have a listlike key, _check_indexing_error will raise\u001B[39;00m\n\u001B[0;32m   3807\u001B[0m     \u001B[38;5;66;03m#  InvalidIndexError. Otherwise we fall through and re-raise\u001B[39;00m\n\u001B[0;32m   3808\u001B[0m     \u001B[38;5;66;03m#  the TypeError.\u001B[39;00m\n\u001B[0;32m   3809\u001B[0m     \u001B[38;5;28mself\u001B[39m\u001B[38;5;241m.\u001B[39m_check_indexing_error(key)\n",
      "\u001B[1;31mKeyError\u001B[0m: 'Target'"
     ]
    }
   ],
   "source": [
    "X_test = test_df['Text']\n",
    "y_test = test_df['Target']\n",
    "X_test"
   ],
   "metadata": {
    "collapsed": false,
    "ExecuteTime": {
     "end_time": "2023-06-21T21:22:10.539155200Z",
     "start_time": "2023-06-21T21:22:09.230728500Z"
    }
   }
  },
  {
   "cell_type": "code",
   "execution_count": null,
   "outputs": [],
   "source": [
    "# Traduire les phrases en anglais\n",
    "\n",
    "X_test = X_test.apply(GoogleTranslator(source='auto', target='en').translate)\n",
    "X_test"
   ],
   "metadata": {
    "collapsed": false
   }
  },
  {
   "cell_type": "code",
   "execution_count": null,
   "outputs": [],
   "source": [
    "y_pred = X_test.apply(lambda x: nlp(x)[0]['label'])"
   ],
   "metadata": {
    "collapsed": false
   }
  },
  {
   "cell_type": "code",
   "execution_count": null,
   "outputs": [],
   "source": [
    "# remplacer LABEL_0 par 0, LABEL_1 par 1 et LABEL_2 par 2\n",
    "y_pred = y_pred.replace('LABEL_0', 0)\n",
    "y_pred = y_pred.replace('LABEL_1', 1)\n",
    "y_pred = y_pred.replace('LABEL_2', 2)\n",
    "y_pred"
   ],
   "metadata": {
    "collapsed": false
   }
  },
  {
   "cell_type": "code",
   "execution_count": null,
   "outputs": [],
   "source": [
    "def accuracy(y_test, y_pred):\n",
    "    return np.mean(y_test == y_pred)"
   ],
   "metadata": {
    "collapsed": false
   }
  },
  {
   "cell_type": "code",
   "execution_count": null,
   "outputs": [],
   "source": [
    "# Remplacer la valeur de la ligne 1515 par 0\n",
    "y_test = y_test.replace('À', 0)"
   ],
   "metadata": {
    "collapsed": false
   }
  },
  {
   "cell_type": "code",
   "execution_count": null,
   "outputs": [],
   "source": [
    "y_pred = y_pred.astype(int)\n",
    "y_test = y_test.astype(int)"
   ],
   "metadata": {
    "collapsed": false
   }
  },
  {
   "cell_type": "code",
   "execution_count": null,
   "outputs": [],
   "source": [
    "score = accuracy(y_test, y_pred)\n",
    "print(f\"Accuracy: {score:.2f}\")"
   ],
   "metadata": {
    "collapsed": false
   }
  },
  {
   "cell_type": "markdown",
   "source": [],
   "metadata": {
    "collapsed": false
   }
  }
 ],
 "metadata": {
  "kernelspec": {
   "display_name": "Python 3",
   "language": "python",
   "name": "python3"
  },
  "language_info": {
   "codemirror_mode": {
    "name": "ipython",
    "version": 3
   },
   "file_extension": ".py",
   "mimetype": "text/x-python",
   "name": "python",
   "nbconvert_exporter": "python",
   "pygments_lexer": "ipython3",
   "version": "3.9.1"
  },
  "orig_nbformat": 4
 },
 "nbformat": 4,
 "nbformat_minor": 2
}
