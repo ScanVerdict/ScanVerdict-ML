{
 "cells": [
  {
   "cell_type": "code",
   "execution_count": 1,
   "metadata": {
    "ExecuteTime": {
     "end_time": "2023-06-19T11:28:06.736319400Z",
     "start_time": "2023-06-19T11:28:06.656795500Z"
    }
   },
   "outputs": [],
   "source": [
    "import pandas as pd\n",
    "import matplotlib.pyplot as plt\n",
    "from langdetect import detect"
   ]
  },
  {
   "cell_type": "code",
   "execution_count": 2,
   "metadata": {
    "ExecuteTime": {
     "end_time": "2023-06-19T11:28:06.837089100Z",
     "start_time": "2023-06-19T11:28:06.741726500Z"
    }
   },
   "outputs": [
    {
     "data": {
      "text/plain": "'\\n# Créer un exmple de dictionnaire\\ndictionary = {\\n    \\'name1\\': (\\'5 stars\\', \\'7 years ago\\', \"It is so bad\"),\\n    \\'name2\\': (\\'5 stars\\', \\'7 years ago\\', \\'it sucks\\'),\\n    \\'name3\\': (\\'5 stars\\', \\'7 years ago\\', \"It\\'s okay\"),\\n    \\'name4\\': (\\'5 stars\\', \\'7 years ago\\', \\'It is very good\\'),\\n    \\'name5\\': (\\'5 stars\\', \\'7 years ago\\', \"c\\'est un peu nul\"),\\n    \\'name6\\': (\\'5 stars\\', \\'7 years ago\\', \"Le robot est très bon\"),\\n    \\'name7\\': (\\'5 stars\\', \\'7 years ago\\', \"The robot is very good\"),\\n    \\'name8\\': (\\'5 stars\\', \\'7 years ago\\', \"El robot es muy bueno\"),\\n    \\'name9\\': (\\'5 stars\\', \\'7 years ago\\', \"Il robot è molto buono\"),\\n}\\ndf = pd.DataFrame(dictionary, index=[\\'grading\\', \\'date\\', \\'Text\\']).T\\n'"
     },
     "execution_count": 2,
     "metadata": {},
     "output_type": "execute_result"
    }
   ],
   "source": [
    "\"\"\"\n",
    "# Créer un exmple de dictionnaire\n",
    "dictionary = {\n",
    "    'name1': ('5 stars', '7 years ago', \"It is so bad\"),\n",
    "    'name2': ('5 stars', '7 years ago', 'it sucks'),\n",
    "    'name3': ('5 stars', '7 years ago', \"It's okay\"),\n",
    "    'name4': ('5 stars', '7 years ago', 'It is very good'),\n",
    "    'name5': ('5 stars', '7 years ago', \"c'est un peu nul\"),\n",
    "    'name6': ('5 stars', '7 years ago', \"Le robot est très bon\"),\n",
    "    'name7': ('5 stars', '7 years ago', \"The robot is very good\"),\n",
    "    'name8': ('5 stars', '7 years ago', \"El robot es muy bueno\"),\n",
    "    'name9': ('5 stars', '7 years ago', \"Il robot è molto buono\"),\n",
    "}\n",
    "df = pd.DataFrame(dictionary, index=['grading', 'date', 'Text']).T\n",
    "\"\"\""
   ]
  },
  {
   "cell_type": "code",
   "execution_count": 3,
   "metadata": {
    "ExecuteTime": {
     "end_time": "2023-06-19T11:28:09.300706800Z",
     "start_time": "2023-06-19T11:28:06.797452900Z"
    }
   },
   "outputs": [
    {
     "name": "stdout",
     "output_type": "stream",
     "text": [
      "                  Name  grading                        date  \\\n",
      "ID                                                            \n",
      "0     Reezaane Bundhoo        4  {'months': 12, 'years': 1}   \n",
      "1     Akram Althawbani        5   {'months': 3, 'years': 0}   \n",
      "2         Ibrahim Sobh        4   {'months': 1, 'years': 0}   \n",
      "3        Mareike Engel        5   {'months': 5, 'years': 0}   \n",
      "4    shrishail kurangi        3   {'months': 6, 'years': 0}   \n",
      "..                 ...      ...                         ...   \n",
      "191       RF 94 (RF94)        5  {'months': 24, 'years': 2}   \n",
      "192   Stéphane Bouland        2  {'months': 10, 'years': 0}   \n",
      "193     KANDE TOUNKARA        5   {'months': 9, 'years': 0}   \n",
      "194          Choopa AB        5  {'months': 24, 'years': 2}   \n",
      "195   Nassim Bourguiba        5  {'months': 12, 'years': 1}   \n",
      "\n",
      "                                                  Text Language  \n",
      "ID                                                               \n",
      "0    Delicious cakes, hot/cold beverages and great ...       en  \n",
      "1    Best place but it's still camels man opinion. ...       en  \n",
      "2    Amazing place to buy bread and sweets , always...       en  \n",
      "3    Love the baguette and croissant. Staff is alwa...       en  \n",
      "4    All the items I have tried here are really gre...       en  \n",
      "..                                                 ...      ...  \n",
      "191                               Vraiment heja le top       fi  \n",
      "192                                  Employées froides       fr  \n",
      "193                                       Lieux au top       fr  \n",
      "194                              Le pain délicieux 😋 …       fr  \n",
      "195                                 Boulangerie au top       fr  \n",
      "\n",
      "[196 rows x 5 columns]\n"
     ]
    }
   ],
   "source": [
    "# Convertir le dictionnaire en DataFrame\n",
    "\n",
    "df = pd.read_csv('data.csv', sep=',')\n",
    "df = df.dropna()\n",
    "\n",
    "# Remplacer les valeurs dans grading par des int\n",
    "df[\"grading\"] = [int(x[0]) if x[0].isdigit() else None for x in df[\"grading\"]]\n",
    "\n",
    "# Remplace date par un dictionnaire {months: number, years: number}\n",
    "def transform_date(date):\n",
    "    weeks_or_days = ['week', 'day', 'semaine', 'jour']\n",
    "    date_array = date.split()\n",
    "    if any(word in date_array for word in weeks_or_days):\n",
    "        return {'months': 0, 'years': 0}\n",
    "    elif 'month' in date or 'mois' in date:\n",
    "        if date_array[0].isdigit():\n",
    "            return {'months': int(date_array[0]), 'years': 0}\n",
    "        return {'months': 1, 'years': 0}\n",
    "    elif date_array[0].isdigit():\n",
    "        return {'months': int(date_array[0])*12, 'years': int(date_array[0])}\n",
    "    return {'months': 12, 'years': 1}\n",
    "\n",
    "df[\"date\"] = df[\"date\"].apply(transform_date)\n",
    "\n",
    "df.index_name = 'ID'\n",
    "# Renommer la colonne d'index en \"ID\"\n",
    "df = df.rename_axis('ID').reset_index()\n",
    "df.set_index('ID', inplace=True)\n",
    "# Ajouter la colonne Language à la DataFrame\n",
    "df['Language'] = df['Text'].apply(detect)\n",
    "print(df)"
   ]
  },
  {
   "cell_type": "markdown",
   "source": [
    "## Translation"
   ],
   "metadata": {
    "collapsed": false
   }
  },
  {
   "cell_type": "code",
   "execution_count": 4,
   "outputs": [
    {
     "data": {
      "text/plain": "                  Name  grading                        date  \\\nID                                                            \n0     Reezaane Bundhoo        4  {'months': 12, 'years': 1}   \n1     Akram Althawbani        5   {'months': 3, 'years': 0}   \n2         Ibrahim Sobh        4   {'months': 1, 'years': 0}   \n3        Mareike Engel        5   {'months': 5, 'years': 0}   \n4    shrishail kurangi        3   {'months': 6, 'years': 0}   \n..                 ...      ...                         ...   \n191       RF 94 (RF94)        5  {'months': 24, 'years': 2}   \n192   Stéphane Bouland        2  {'months': 10, 'years': 0}   \n193     KANDE TOUNKARA        5   {'months': 9, 'years': 0}   \n194          Choopa AB        5  {'months': 24, 'years': 2}   \n195   Nassim Bourguiba        5  {'months': 12, 'years': 1}   \n\n                                                  Text Language  \nID                                                               \n0    Delicious cakes, hot/cold beverages and great ...       en  \n1    Best place but it's still camels man opinion. ...       en  \n2    Amazing place to buy bread and sweets , always...       en  \n3    Love the baguette and croissant. Staff is alwa...       en  \n4    All the items I have tried here are really gre...       en  \n..                                                 ...      ...  \n191                                Really heja the top       en  \n192                                     Cold employees       en  \n193                                         Top places       en  \n194                             The delicious bread 😋…       en  \n195                                   Top notch bakery       en  \n\n[196 rows x 5 columns]",
      "text/html": "<div>\n<style scoped>\n    .dataframe tbody tr th:only-of-type {\n        vertical-align: middle;\n    }\n\n    .dataframe tbody tr th {\n        vertical-align: top;\n    }\n\n    .dataframe thead th {\n        text-align: right;\n    }\n</style>\n<table border=\"1\" class=\"dataframe\">\n  <thead>\n    <tr style=\"text-align: right;\">\n      <th></th>\n      <th>Name</th>\n      <th>grading</th>\n      <th>date</th>\n      <th>Text</th>\n      <th>Language</th>\n    </tr>\n    <tr>\n      <th>ID</th>\n      <th></th>\n      <th></th>\n      <th></th>\n      <th></th>\n      <th></th>\n    </tr>\n  </thead>\n  <tbody>\n    <tr>\n      <th>0</th>\n      <td>Reezaane Bundhoo</td>\n      <td>4</td>\n      <td>{'months': 12, 'years': 1}</td>\n      <td>Delicious cakes, hot/cold beverages and great ...</td>\n      <td>en</td>\n    </tr>\n    <tr>\n      <th>1</th>\n      <td>Akram Althawbani</td>\n      <td>5</td>\n      <td>{'months': 3, 'years': 0}</td>\n      <td>Best place but it's still camels man opinion. ...</td>\n      <td>en</td>\n    </tr>\n    <tr>\n      <th>2</th>\n      <td>Ibrahim Sobh</td>\n      <td>4</td>\n      <td>{'months': 1, 'years': 0}</td>\n      <td>Amazing place to buy bread and sweets , always...</td>\n      <td>en</td>\n    </tr>\n    <tr>\n      <th>3</th>\n      <td>Mareike Engel</td>\n      <td>5</td>\n      <td>{'months': 5, 'years': 0}</td>\n      <td>Love the baguette and croissant. Staff is alwa...</td>\n      <td>en</td>\n    </tr>\n    <tr>\n      <th>4</th>\n      <td>shrishail kurangi</td>\n      <td>3</td>\n      <td>{'months': 6, 'years': 0}</td>\n      <td>All the items I have tried here are really gre...</td>\n      <td>en</td>\n    </tr>\n    <tr>\n      <th>...</th>\n      <td>...</td>\n      <td>...</td>\n      <td>...</td>\n      <td>...</td>\n      <td>...</td>\n    </tr>\n    <tr>\n      <th>191</th>\n      <td>RF 94 (RF94)</td>\n      <td>5</td>\n      <td>{'months': 24, 'years': 2}</td>\n      <td>Really heja the top</td>\n      <td>en</td>\n    </tr>\n    <tr>\n      <th>192</th>\n      <td>Stéphane Bouland</td>\n      <td>2</td>\n      <td>{'months': 10, 'years': 0}</td>\n      <td>Cold employees</td>\n      <td>en</td>\n    </tr>\n    <tr>\n      <th>193</th>\n      <td>KANDE TOUNKARA</td>\n      <td>5</td>\n      <td>{'months': 9, 'years': 0}</td>\n      <td>Top places</td>\n      <td>en</td>\n    </tr>\n    <tr>\n      <th>194</th>\n      <td>Choopa AB</td>\n      <td>5</td>\n      <td>{'months': 24, 'years': 2}</td>\n      <td>The delicious bread 😋…</td>\n      <td>en</td>\n    </tr>\n    <tr>\n      <th>195</th>\n      <td>Nassim Bourguiba</td>\n      <td>5</td>\n      <td>{'months': 12, 'years': 1}</td>\n      <td>Top notch bakery</td>\n      <td>en</td>\n    </tr>\n  </tbody>\n</table>\n<p>196 rows × 5 columns</p>\n</div>"
     },
     "execution_count": 4,
     "metadata": {},
     "output_type": "execute_result"
    }
   ],
   "source": [
    "\"\"\"#pip install google-cloud-translate==2.0.1\n",
    "from google.cloud import translate_v2 as translate\n",
    "import os, json\n",
    "from dotenv import load_dotenv\n",
    "load_dotenv()\n",
    "\n",
    "CREDENTIALS = json.loads(os.environ.get('CREDENTIALS'))\n",
    "\n",
    "if os.path.exists('credentials.json'):\n",
    "    pass\n",
    "else:\n",
    "    with open('credentials.json', 'w') as credFile:\n",
    "        json.dump(CREDENTIALS, credFile)\n",
    "os.environ['GOOGLE_APPLICATION_CREDENTIALS'] = 'credentials.json'\n",
    "\n",
    "def translate_text(row):\n",
    "    translate_client = translate.Client()\n",
    "\n",
    "    text = row['Text']\n",
    "    if isinstance(text, bytes):\n",
    "        text = text.decode(\"utf-8\")\n",
    "\n",
    "    # Only translate the text if the language isn't 'en'.\n",
    "    if row['Language'] != 'en':\n",
    "        try:\n",
    "            result = translate_client.translate(text, target_language='en')\n",
    "            return pd.Series([result[\"translatedText\"], 'en'])\n",
    "        except Exception:\n",
    "            return pd.Series([text, row['Language']])  # if translation fails, return original text and language\n",
    "    else:\n",
    "        return pd.Series([text, row['Language']])  # if text is already in English, return original text and language\n",
    "\n",
    "df[['Text', 'Language']] = df.apply(translate_text, axis=1)\n",
    "df\n",
    "\"\"\"\n",
    "\n",
    "from deep_translator import GoogleTranslator\n",
    "\n",
    "def translate_text(row):\n",
    "    text = row['Text']\n",
    "\n",
    "    # translate the text to English\n",
    "    translated_text = GoogleTranslator(source='auto', target='en').translate(text)\n",
    "\n",
    "    return pd.Series([translated_text, 'en'])\n",
    "\n",
    "# Apply the function to the DataFrame\n",
    "df[['Text', 'Language']] = df.apply(translate_text, axis=1)\n",
    "df\n"
   ],
   "metadata": {
    "collapsed": false,
    "ExecuteTime": {
     "end_time": "2023-06-19T11:28:36.996886600Z",
     "start_time": "2023-06-19T11:28:09.307221900Z"
    }
   }
  },
  {
   "attachments": {},
   "cell_type": "markdown",
   "metadata": {},
   "source": [
    "## EDA"
   ]
  },
  {
   "cell_type": "code",
   "execution_count": 5,
   "metadata": {
    "ExecuteTime": {
     "end_time": "2023-06-19T11:28:37.796985300Z",
     "start_time": "2023-06-19T11:28:36.999418500Z"
    }
   },
   "outputs": [
    {
     "data": {
      "text/plain": "<Figure size 1000x500 with 1 Axes>",
      "image/png": "[encoded data removed]"
     },
     "metadata": {},
     "output_type": "display_data"
    }
   ],
   "source": [
    "ax = df['grading'].value_counts().sort_index() \\\n",
    "    .plot(kind='bar',\n",
    "          title='Count of Reviews by Stars',\n",
    "          figsize=(10, 5))\n",
    "ax.set_xlabel('Review Stars')\n",
    "plt.show()"
   ]
  },
  {
   "attachments": {},
   "cell_type": "markdown",
   "metadata": {},
   "source": [
    "## Sentiment Analysis"
   ]
  },
  {
   "attachments": {},
   "cell_type": "markdown",
   "metadata": {},
   "source": [
    "### Roberta"
   ]
  },
  {
   "cell_type": "code",
   "execution_count": 6,
   "metadata": {
    "ExecuteTime": {
     "end_time": "2023-06-19T11:28:48.372013500Z",
     "start_time": "2023-06-19T11:28:37.799559400Z"
    }
   },
   "outputs": [
    {
     "name": "stderr",
     "output_type": "stream",
     "text": [
      "C:\\Users\\jacqu\\anaconda3\\lib\\site-packages\\tqdm\\auto.py:21: TqdmWarning: IProgress not found. Please update jupyter and ipywidgets. See https://ipywidgets.readthedocs.io/en/stable/user_install.html\n",
      "  from .autonotebook import tqdm as notebook_tqdm\n"
     ]
    }
   ],
   "source": [
    "from transformers import pipeline"
   ]
  },
  {
   "cell_type": "code",
   "execution_count": 7,
   "metadata": {
    "ExecuteTime": {
     "end_time": "2023-06-19T11:29:32.259782600Z",
     "start_time": "2023-06-19T11:28:48.376490100Z"
    }
   },
   "outputs": [
    {
     "name": "stderr",
     "output_type": "stream",
     "text": [
      "WARNING[XFORMERS]: xFormers can't load C++/CUDA extensions. xFormers was built for:\n",
      "    PyTorch 2.0.1+cu118 with CUDA 1108 (you have 2.0.1+cpu)\n",
      "    Python  3.10.11 (you have 3.10.9)\n",
      "  Please reinstall xformers (see https://github.com/facebookresearch/xformers#installing-xformers)\n",
      "  Memory-efficient attention, SwiGLU, sparse and more won't be available.\n",
      "  Set XFORMERS_MORE_DETAILS=1 for more details\n"
     ]
    },
    {
     "data": {
      "text/plain": "                  Name  grading                        date  \\\nID                                                            \n0     Reezaane Bundhoo        4  {'months': 12, 'years': 1}   \n1     Akram Althawbani        5   {'months': 3, 'years': 0}   \n2         Ibrahim Sobh        4   {'months': 1, 'years': 0}   \n3        Mareike Engel        5   {'months': 5, 'years': 0}   \n4    shrishail kurangi        3   {'months': 6, 'years': 0}   \n..                 ...      ...                         ...   \n191       RF 94 (RF94)        5  {'months': 24, 'years': 2}   \n192   Stéphane Bouland        2  {'months': 10, 'years': 0}   \n193     KANDE TOUNKARA        5   {'months': 9, 'years': 0}   \n194          Choopa AB        5  {'months': 24, 'years': 2}   \n195   Nassim Bourguiba        5  {'months': 12, 'years': 1}   \n\n                                                  Text Language  \\\nID                                                                \n0    Delicious cakes, hot/cold beverages and great ...       en   \n1    Best place but it's still camels man opinion. ...       en   \n2    Amazing place to buy bread and sweets , always...       en   \n3    Love the baguette and croissant. Staff is alwa...       en   \n4    All the items I have tried here are really gre...       en   \n..                                                 ...      ...   \n191                                Really heja the top       en   \n192                                     Cold employees       en   \n193                                         Top places       en   \n194                             The delicious bread 😋…       en   \n195                                   Top notch bakery       en   \n\n    label (roberta)  score (roberta)  \nID                                    \n0          POSITIVE         0.907862  \n1          POSITIVE         0.809464  \n2           NEUTRAL         0.368061  \n3          POSITIVE         0.991683  \n4          NEGATIVE         0.392930  \n..              ...              ...  \n191         NEUTRAL         0.725054  \n192         NEUTRAL         0.608334  \n193         NEUTRAL         0.618987  \n194        POSITIVE         0.884680  \n195        POSITIVE         0.748434  \n\n[196 rows x 7 columns]",
      "text/html": "<div>\n<style scoped>\n    .dataframe tbody tr th:only-of-type {\n        vertical-align: middle;\n    }\n\n    .dataframe tbody tr th {\n        vertical-align: top;\n    }\n\n    .dataframe thead th {\n        text-align: right;\n    }\n</style>\n<table border=\"1\" class=\"dataframe\">\n  <thead>\n    <tr style=\"text-align: right;\">\n      <th></th>\n      <th>Name</th>\n      <th>grading</th>\n      <th>date</th>\n      <th>Text</th>\n      <th>Language</th>\n      <th>label (roberta)</th>\n      <th>score (roberta)</th>\n    </tr>\n    <tr>\n      <th>ID</th>\n      <th></th>\n      <th></th>\n      <th></th>\n      <th></th>\n      <th></th>\n      <th></th>\n      <th></th>\n    </tr>\n  </thead>\n  <tbody>\n    <tr>\n      <th>0</th>\n      <td>Reezaane Bundhoo</td>\n      <td>4</td>\n      <td>{'months': 12, 'years': 1}</td>\n      <td>Delicious cakes, hot/cold beverages and great ...</td>\n      <td>en</td>\n      <td>POSITIVE</td>\n      <td>0.907862</td>\n    </tr>\n    <tr>\n      <th>1</th>\n      <td>Akram Althawbani</td>\n      <td>5</td>\n      <td>{'months': 3, 'years': 0}</td>\n      <td>Best place but it's still camels man opinion. ...</td>\n      <td>en</td>\n      <td>POSITIVE</td>\n      <td>0.809464</td>\n    </tr>\n    <tr>\n      <th>2</th>\n      <td>Ibrahim Sobh</td>\n      <td>4</td>\n      <td>{'months': 1, 'years': 0}</td>\n      <td>Amazing place to buy bread and sweets , always...</td>\n      <td>en</td>\n      <td>NEUTRAL</td>\n      <td>0.368061</td>\n    </tr>\n    <tr>\n      <th>3</th>\n      <td>Mareike Engel</td>\n      <td>5</td>\n      <td>{'months': 5, 'years': 0}</td>\n      <td>Love the baguette and croissant. Staff is alwa...</td>\n      <td>en</td>\n      <td>POSITIVE</td>\n      <td>0.991683</td>\n    </tr>\n    <tr>\n      <th>4</th>\n      <td>shrishail kurangi</td>\n      <td>3</td>\n      <td>{'months': 6, 'years': 0}</td>\n      <td>All the items I have tried here are really gre...</td>\n      <td>en</td>\n      <td>NEGATIVE</td>\n      <td>0.392930</td>\n    </tr>\n    <tr>\n      <th>...</th>\n      <td>...</td>\n      <td>...</td>\n      <td>...</td>\n      <td>...</td>\n      <td>...</td>\n      <td>...</td>\n      <td>...</td>\n    </tr>\n    <tr>\n      <th>191</th>\n      <td>RF 94 (RF94)</td>\n      <td>5</td>\n      <td>{'months': 24, 'years': 2}</td>\n      <td>Really heja the top</td>\n      <td>en</td>\n      <td>NEUTRAL</td>\n      <td>0.725054</td>\n    </tr>\n    <tr>\n      <th>192</th>\n      <td>Stéphane Bouland</td>\n      <td>2</td>\n      <td>{'months': 10, 'years': 0}</td>\n      <td>Cold employees</td>\n      <td>en</td>\n      <td>NEUTRAL</td>\n      <td>0.608334</td>\n    </tr>\n    <tr>\n      <th>193</th>\n      <td>KANDE TOUNKARA</td>\n      <td>5</td>\n      <td>{'months': 9, 'years': 0}</td>\n      <td>Top places</td>\n      <td>en</td>\n      <td>NEUTRAL</td>\n      <td>0.618987</td>\n    </tr>\n    <tr>\n      <th>194</th>\n      <td>Choopa AB</td>\n      <td>5</td>\n      <td>{'months': 24, 'years': 2}</td>\n      <td>The delicious bread 😋…</td>\n      <td>en</td>\n      <td>POSITIVE</td>\n      <td>0.884680</td>\n    </tr>\n    <tr>\n      <th>195</th>\n      <td>Nassim Bourguiba</td>\n      <td>5</td>\n      <td>{'months': 12, 'years': 1}</td>\n      <td>Top notch bakery</td>\n      <td>en</td>\n      <td>POSITIVE</td>\n      <td>0.748434</td>\n    </tr>\n  </tbody>\n</table>\n<p>196 rows × 7 columns</p>\n</div>"
     },
     "execution_count": 7,
     "metadata": {},
     "output_type": "execute_result"
    }
   ],
   "source": [
    "from transformers import AutoTokenizer\n",
    "\n",
    "# Sentiment Analysis with Roberta\n",
    "\"\"\"\n",
    "nlp = pipeline(\"sentiment-analysis\", model=f\"cardiffnlp/twitter-roberta-base-sentiment\")\n",
    "\n",
    "# Run the polarity score on the entire dataset\n",
    "res = pd.DataFrame(columns=['label', 'score'])\n",
    "for index, row in df.iterrows():\n",
    "    text = row['Text']\n",
    "    langue = row['Language']\n",
    "    if langue == 'en':\n",
    "        dict = pd.DataFrame(nlp(text))\n",
    "        dict['ID'] = index\n",
    "        res = pd.concat([res, dict], axis=0)\n",
    "\"\"\"\n",
    "tokenizer = AutoTokenizer.from_pretrained(\"cardiffnlp/twitter-roberta-base-sentiment\")\n",
    "\n",
    "nlp = pipeline(\"sentiment-analysis\", model=\"cardiffnlp/twitter-roberta-base-sentiment\", tokenizer=tokenizer)\n",
    "\n",
    "res = pd.DataFrame(columns=['label', 'score'])\n",
    "for index, row in df.iterrows():\n",
    "    text = row['Text']\n",
    "    langue = row['Language']\n",
    "\n",
    "    # If the language is English and the token length doesn't exceed the limit\n",
    "    if langue == 'en':\n",
    "        tokens = tokenizer.encode(text, return_tensors='pt')\n",
    "\n",
    "        if len(tokens[0]) <= 512:\n",
    "            dict = pd.DataFrame(nlp(text))\n",
    "            dict['ID'] = index\n",
    "            res = pd.concat([res, dict], axis=0)\n",
    "\n",
    "# Remplacement des valeurs\n",
    "res['label'] = res['label'].replace('LABEL_0', 'NEGATIVE')\n",
    "res['label'] = res['label'].replace('LABEL_1', 'NEUTRAL')\n",
    "res['label'] = res['label'].replace('LABEL_2', 'POSITIVE')\n",
    "res[\"ID\"] = res['ID'].astype(int)\n",
    "res = res.rename(columns={\"label\": \"label (roberta)\", \"score\": \"score (roberta)\"})\n",
    "res.set_index('ID', inplace=True)\n",
    "\n",
    "# Merge the two dataframes\n",
    "df = df.merge(res, left_index=True, right_index=True, how='left')\n",
    "df\n"
   ]
  },
  {
   "attachments": {},
   "cell_type": "markdown",
   "metadata": {},
   "source": [
    "## nlptown/bert-base-multilingual-uncased-sentiment"
   ]
  },
  {
   "cell_type": "code",
   "execution_count": 8,
   "metadata": {
    "ExecuteTime": {
     "end_time": "2023-06-19T11:30:15.837817Z",
     "start_time": "2023-06-19T11:29:32.269545100Z"
    }
   },
   "outputs": [
    {
     "data": {
      "text/plain": "                  Name  grading                        date  \\\nID                                                            \n0     Reezaane Bundhoo        4  {'months': 12, 'years': 1}   \n1     Akram Althawbani        5   {'months': 3, 'years': 0}   \n2         Ibrahim Sobh        4   {'months': 1, 'years': 0}   \n3        Mareike Engel        5   {'months': 5, 'years': 0}   \n4    shrishail kurangi        3   {'months': 6, 'years': 0}   \n..                 ...      ...                         ...   \n191       RF 94 (RF94)        5  {'months': 24, 'years': 2}   \n192   Stéphane Bouland        2  {'months': 10, 'years': 0}   \n193     KANDE TOUNKARA        5   {'months': 9, 'years': 0}   \n194          Choopa AB        5  {'months': 24, 'years': 2}   \n195   Nassim Bourguiba        5  {'months': 12, 'years': 1}   \n\n                                                  Text Language  \\\nID                                                                \n0    Delicious cakes, hot/cold beverages and great ...       en   \n1    Best place but it's still camels man opinion. ...       en   \n2    Amazing place to buy bread and sweets , always...       en   \n3    Love the baguette and croissant. Staff is alwa...       en   \n4    All the items I have tried here are really gre...       en   \n..                                                 ...      ...   \n191                                Really heja the top       en   \n192                                     Cold employees       en   \n193                                         Top places       en   \n194                             The delicious bread 😋…       en   \n195                                   Top notch bakery       en   \n\n    label (roberta)  score (roberta)  label (Bert), over 5  score (Bert)  \nID                                                                        \n0          POSITIVE         0.907862                     4      0.656978  \n1          POSITIVE         0.809464                     4      0.494193  \n2           NEUTRAL         0.368061                     5      0.646831  \n3          POSITIVE         0.991683                     5      0.757214  \n4          NEGATIVE         0.392930                     3      0.356102  \n..              ...              ...                   ...           ...  \n191         NEUTRAL         0.725054                     5      0.860673  \n192         NEUTRAL         0.608334                     1      0.279206  \n193         NEUTRAL         0.618987                     5      0.892064  \n194        POSITIVE         0.884680                     5      0.544190  \n195        POSITIVE         0.748434                     5      0.856672  \n\n[196 rows x 9 columns]",
      "text/html": "<div>\n<style scoped>\n    .dataframe tbody tr th:only-of-type {\n        vertical-align: middle;\n    }\n\n    .dataframe tbody tr th {\n        vertical-align: top;\n    }\n\n    .dataframe thead th {\n        text-align: right;\n    }\n</style>\n<table border=\"1\" class=\"dataframe\">\n  <thead>\n    <tr style=\"text-align: right;\">\n      <th></th>\n      <th>Name</th>\n      <th>grading</th>\n      <th>date</th>\n      <th>Text</th>\n      <th>Language</th>\n      <th>label (roberta)</th>\n      <th>score (roberta)</th>\n      <th>label (Bert), over 5</th>\n      <th>score (Bert)</th>\n    </tr>\n    <tr>\n      <th>ID</th>\n      <th></th>\n      <th></th>\n      <th></th>\n      <th></th>\n      <th></th>\n      <th></th>\n      <th></th>\n      <th></th>\n      <th></th>\n    </tr>\n  </thead>\n  <tbody>\n    <tr>\n      <th>0</th>\n      <td>Reezaane Bundhoo</td>\n      <td>4</td>\n      <td>{'months': 12, 'years': 1}</td>\n      <td>Delicious cakes, hot/cold beverages and great ...</td>\n      <td>en</td>\n      <td>POSITIVE</td>\n      <td>0.907862</td>\n      <td>4</td>\n      <td>0.656978</td>\n    </tr>\n    <tr>\n      <th>1</th>\n      <td>Akram Althawbani</td>\n      <td>5</td>\n      <td>{'months': 3, 'years': 0}</td>\n      <td>Best place but it's still camels man opinion. ...</td>\n      <td>en</td>\n      <td>POSITIVE</td>\n      <td>0.809464</td>\n      <td>4</td>\n      <td>0.494193</td>\n    </tr>\n    <tr>\n      <th>2</th>\n      <td>Ibrahim Sobh</td>\n      <td>4</td>\n      <td>{'months': 1, 'years': 0}</td>\n      <td>Amazing place to buy bread and sweets , always...</td>\n      <td>en</td>\n      <td>NEUTRAL</td>\n      <td>0.368061</td>\n      <td>5</td>\n      <td>0.646831</td>\n    </tr>\n    <tr>\n      <th>3</th>\n      <td>Mareike Engel</td>\n      <td>5</td>\n      <td>{'months': 5, 'years': 0}</td>\n      <td>Love the baguette and croissant. Staff is alwa...</td>\n      <td>en</td>\n      <td>POSITIVE</td>\n      <td>0.991683</td>\n      <td>5</td>\n      <td>0.757214</td>\n    </tr>\n    <tr>\n      <th>4</th>\n      <td>shrishail kurangi</td>\n      <td>3</td>\n      <td>{'months': 6, 'years': 0}</td>\n      <td>All the items I have tried here are really gre...</td>\n      <td>en</td>\n      <td>NEGATIVE</td>\n      <td>0.392930</td>\n      <td>3</td>\n      <td>0.356102</td>\n    </tr>\n    <tr>\n      <th>...</th>\n      <td>...</td>\n      <td>...</td>\n      <td>...</td>\n      <td>...</td>\n      <td>...</td>\n      <td>...</td>\n      <td>...</td>\n      <td>...</td>\n      <td>...</td>\n    </tr>\n    <tr>\n      <th>191</th>\n      <td>RF 94 (RF94)</td>\n      <td>5</td>\n      <td>{'months': 24, 'years': 2}</td>\n      <td>Really heja the top</td>\n      <td>en</td>\n      <td>NEUTRAL</td>\n      <td>0.725054</td>\n      <td>5</td>\n      <td>0.860673</td>\n    </tr>\n    <tr>\n      <th>192</th>\n      <td>Stéphane Bouland</td>\n      <td>2</td>\n      <td>{'months': 10, 'years': 0}</td>\n      <td>Cold employees</td>\n      <td>en</td>\n      <td>NEUTRAL</td>\n      <td>0.608334</td>\n      <td>1</td>\n      <td>0.279206</td>\n    </tr>\n    <tr>\n      <th>193</th>\n      <td>KANDE TOUNKARA</td>\n      <td>5</td>\n      <td>{'months': 9, 'years': 0}</td>\n      <td>Top places</td>\n      <td>en</td>\n      <td>NEUTRAL</td>\n      <td>0.618987</td>\n      <td>5</td>\n      <td>0.892064</td>\n    </tr>\n    <tr>\n      <th>194</th>\n      <td>Choopa AB</td>\n      <td>5</td>\n      <td>{'months': 24, 'years': 2}</td>\n      <td>The delicious bread 😋…</td>\n      <td>en</td>\n      <td>POSITIVE</td>\n      <td>0.884680</td>\n      <td>5</td>\n      <td>0.544190</td>\n    </tr>\n    <tr>\n      <th>195</th>\n      <td>Nassim Bourguiba</td>\n      <td>5</td>\n      <td>{'months': 12, 'years': 1}</td>\n      <td>Top notch bakery</td>\n      <td>en</td>\n      <td>POSITIVE</td>\n      <td>0.748434</td>\n      <td>5</td>\n      <td>0.856672</td>\n    </tr>\n  </tbody>\n</table>\n<p>196 rows × 9 columns</p>\n</div>"
     },
     "execution_count": 8,
     "metadata": {},
     "output_type": "execute_result"
    }
   ],
   "source": [
    "# Sentiment Analysis Bert-base-uncased\n",
    "# Plusieurs langages disponibles (dont le français)\n",
    "#English\t150k\n",
    "#Dutch\t80k\n",
    "#German\t137k\n",
    "#French\t140k\n",
    "#Italian\t72k\n",
    "#Spanish\n",
    "# Il classifie les phrases en étoiles (1 à 5)\n",
    "# Ce modèle est connu\n",
    "\n",
    "nlp = pipeline(\"sentiment-analysis\", model=f\"nlptown/bert-base-multilingual-uncased-sentiment\")\n",
    "\n",
    "# Run the polarity score on the entire dataset\n",
    "res = pd.DataFrame(columns=['label', 'score'])\n",
    "for index, row in df.iterrows():\n",
    "    text = row['Text']\n",
    "    langue = row['Language']\n",
    "    if langue == 'en' or langue == 'fr' or langue == 'es' or langue == 'it' or langue == 'de' or langue == 'nl':\n",
    "        \"\"\"\n",
    "        dict = pd.DataFrame(nlp(text))\n",
    "        dict['ID'] = index\n",
    "        res = pd.concat([res, dict], axis=0)\n",
    "        \"\"\"\n",
    "        tokens = tokenizer.encode(text, return_tensors='pt')\n",
    "\n",
    "        if len(tokens[0]) <= 512:\n",
    "            dict = pd.DataFrame(nlp(text))\n",
    "            dict['ID'] = index\n",
    "            res = pd.concat([res, dict], axis=0)\n",
    "\n",
    "# Remplacement des valeurs\n",
    "res['label'] = res['label'].replace('1 star', int(1))\n",
    "res['label'] = res['label'].replace('2 stars', int(2))\n",
    "res['label'] = res['label'].replace('3 stars', int(3))\n",
    "res['label'] = res['label'].replace('4 stars', int(4))\n",
    "res['label'] = res['label'].replace('5 stars', int(5))\n",
    "res[\"ID\"] = res['ID'].astype(int)\n",
    "res = res.rename(columns={\"label\": \"label (Bert), over 5\", \"score\": \"score (Bert)\"})\n",
    "res.set_index('ID', inplace=True)\n",
    "\n",
    "# Merge the two dataframes\n",
    "df = df.merge(res, left_index=True, right_index=True, how='left')\n",
    "df\n",
    "\n",
    "# print(df.isnull().sum())\n",
    "# print(f\"Negative: {df[df['label (roberta)'] == 'NEGATIVE'].count()}, Positive: {df[df['label (roberta)'] == 'POSITIVE'].count()}, Neutral: {df[df['label (roberta)'] == 'NEUTRAL'].count()}\")"
   ]
  },
  {
   "cell_type": "markdown",
   "source": [
    "## Using Sklearn"
   ],
   "metadata": {
    "collapsed": false
   }
  },
  {
   "cell_type": "code",
   "execution_count": 9,
   "outputs": [
    {
     "name": "stdout",
     "output_type": "stream",
     "text": [
      "Accuracy: 0.675\n",
      "Precision: 0.645\n",
      "Recall: 0.675\n",
      "F1 Score: 0.6259026687598116\n"
     ]
    },
    {
     "data": {
      "text/plain": "<Figure size 1000x700 with 2 Axes>",
      "image/png": "[encoded data removed]"
     },
     "metadata": {},
     "output_type": "display_data"
    }
   ],
   "source": [
    "from sklearn.feature_extraction.text import CountVectorizer\n",
    "from sklearn.naive_bayes import MultinomialNB\n",
    "from sklearn.model_selection import train_test_split\n",
    "from sklearn.metrics import accuracy_score, precision_score, recall_score, f1_score\n",
    "\n",
    "# Assume X is your list of texts and y is your list of labels\n",
    "X_train, X_test, y_train, y_test = train_test_split(df['Text'], df['label (roberta)'], test_size=0.2)\n",
    "\n",
    "# Transform the text data into numerical vectors\n",
    "vectorizer = CountVectorizer()\n",
    "X_train_vectors = vectorizer.fit_transform(X_train)\n",
    "X_test_vectors = vectorizer.transform(X_test)\n",
    "\n",
    "# Train the classifier\n",
    "clf = MultinomialNB()\n",
    "clf.fit(X_train_vectors, y_train)\n",
    "\n",
    "# Test the classifier\n",
    "predictions = clf.predict(X_test_vectors)\n",
    "\n",
    "# Calculate metrics\n",
    "accuracy = accuracy_score(y_test, predictions)\n",
    "precision = precision_score(y_test, predictions, average='weighted', zero_division=0)\n",
    "recall = recall_score(y_test, predictions, average='weighted')\n",
    "f1 = f1_score(y_test, predictions, average='weighted')\n",
    "\n",
    "print(f'Accuracy: {accuracy}')\n",
    "print(f'Precision: {precision}')\n",
    "print(f'Recall: {recall}')\n",
    "print(f'F1 Score: {f1}')\n",
    "\n",
    "from sklearn.metrics import confusion_matrix\n",
    "import seaborn as sns\n",
    "import matplotlib.pyplot as plt\n",
    "\n",
    "# Calculate the confusion matrix\n",
    "cm = confusion_matrix(y_test, predictions)\n",
    "\n",
    "# DISPLAY CONFUSION MATRIX\n",
    "# Transpose the confusion matrix\n",
    "cm = cm.T\n",
    "# Define the labels of the matrix\n",
    "labels = ['Negative', 'Neutral', 'Positive']\n",
    "# Create a dataframe from the confusion matrix for easier plotting\n",
    "cm_df = pd.DataFrame(cm, index=labels, columns=labels)\n",
    "# Display the confusion matrix\n",
    "plt.figure(figsize=(10,7))\n",
    "sns.heatmap(cm_df, annot=True, fmt='d', cmap='Blues')\n",
    "plt.title('Confusion Matrix')\n",
    "plt.ylabel('Predicted Label')\n",
    "plt.xlabel('True Label')\n",
    "plt.show()\n"
   ],
   "metadata": {
    "collapsed": false,
    "ExecuteTime": {
     "end_time": "2023-06-19T11:30:16.543385700Z",
     "start_time": "2023-06-19T11:30:15.857673400Z"
    }
   }
  },
  {
   "attachments": {},
   "cell_type": "markdown",
   "metadata": {},
   "source": [
    "## Comparaison des modèles"
   ]
  },
  {
   "cell_type": "code",
   "execution_count": 9,
   "metadata": {
    "ExecuteTime": {
     "end_time": "2023-06-19T11:30:16.560683700Z",
     "start_time": "2023-06-19T11:30:16.545609800Z"
    }
   },
   "outputs": [],
   "source": []
  }
 ],
 "metadata": {
  "kernelspec": {
   "display_name": "Python 3",
   "language": "python",
   "name": "python3"
  },
  "language_info": {
   "codemirror_mode": {
    "name": "ipython",
    "version": 3
   },
   "file_extension": ".py",
   "mimetype": "text/x-python",
   "name": "python",
   "nbconvert_exporter": "python",
   "pygments_lexer": "ipython3",
   "version": "3.9.1"
  },
  "orig_nbformat": 4
 },
 "nbformat": 4,
 "nbformat_minor": 2
}
