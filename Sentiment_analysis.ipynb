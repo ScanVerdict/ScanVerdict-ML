{
 "cells": [
  {
   "cell_type": "code",
   "execution_count": 1,
   "metadata": {
    "ExecuteTime": {
     "end_time": "2023-06-19T21:45:10.157057100Z",
     "start_time": "2023-06-19T21:45:10.127096800Z"
    }
   },
   "outputs": [],
   "source": [
    "import pandas as pd\n",
    "import matplotlib.pyplot as plt\n",
    "from langdetect import detect, DetectorFactory\n",
    "from langdetect.lang_detect_exception import LangDetectException\n"
   ]
  },
  {
   "cell_type": "code",
   "execution_count": 2,
   "metadata": {
    "ExecuteTime": {
     "end_time": "2023-06-19T21:45:10.172578800Z",
     "start_time": "2023-06-19T21:45:10.155868700Z"
    }
   },
   "outputs": [
    {
     "data": {
      "text/plain": "'\\n# Créer un exmple de dictionnaire\\ndictionary = {\\n    \\'name1\\': (\\'5 stars\\', \\'7 years ago\\', \"It is so bad\"),\\n    \\'name2\\': (\\'5 stars\\', \\'7 years ago\\', \\'it sucks\\'),\\n    \\'name3\\': (\\'5 stars\\', \\'7 years ago\\', \"It\\'s okay\"),\\n    \\'name4\\': (\\'5 stars\\', \\'7 years ago\\', \\'It is very good\\'),\\n    \\'name5\\': (\\'5 stars\\', \\'7 years ago\\', \"c\\'est un peu nul\"),\\n    \\'name6\\': (\\'5 stars\\', \\'7 years ago\\', \"Le robot est très bon\"),\\n    \\'name7\\': (\\'5 stars\\', \\'7 years ago\\', \"The robot is very good\"),\\n    \\'name8\\': (\\'5 stars\\', \\'7 years ago\\', \"El robot es muy bueno\"),\\n    \\'name9\\': (\\'5 stars\\', \\'7 years ago\\', \"Il robot è molto buono\"),\\n}\\ndf = pd.DataFrame(dictionary, index=[\\'grading\\', \\'date\\', \\'Text\\']).T\\n'"
     },
     "execution_count": 2,
     "metadata": {},
     "output_type": "execute_result"
    }
   ],
   "source": [
    "\"\"\"\n",
    "# Créer un exmple de dictionnaire\n",
    "dictionary = {\n",
    "    'name1': ('5 stars', '7 years ago', \"It is so bad\"),\n",
    "    'name2': ('5 stars', '7 years ago', 'it sucks'),\n",
    "    'name3': ('5 stars', '7 years ago', \"It's okay\"),\n",
    "    'name4': ('5 stars', '7 years ago', 'It is very good'),\n",
    "    'name5': ('5 stars', '7 years ago', \"c'est un peu nul\"),\n",
    "    'name6': ('5 stars', '7 years ago', \"Le robot est très bon\"),\n",
    "    'name7': ('5 stars', '7 years ago', \"The robot is very good\"),\n",
    "    'name8': ('5 stars', '7 years ago', \"El robot es muy bueno\"),\n",
    "    'name9': ('5 stars', '7 years ago', \"Il robot è molto buono\"),\n",
    "}\n",
    "df = pd.DataFrame(dictionary, index=['grading', 'date', 'Text']).T\n",
    "\"\"\""
   ]
  },
  {
   "cell_type": "code",
   "execution_count": 3,
   "metadata": {
    "ExecuteTime": {
     "end_time": "2023-06-19T21:45:28.497775400Z",
     "start_time": "2023-06-19T21:45:10.179100600Z"
    }
   },
   "outputs": [
    {
     "name": "stdout",
     "output_type": "stream",
     "text": [
      "                   Name  grading                        date  \\\n",
      "ID                                                             \n",
      "0      Reezaane Bundhoo        4  {'months': 12, 'years': 1}   \n",
      "1      Akram Althawbani        5   {'months': 3, 'years': 0}   \n",
      "2          Ibrahim Sobh        4   {'months': 1, 'years': 0}   \n",
      "3         Mareike Engel        5   {'months': 5, 'years': 0}   \n",
      "4     shrishail kurangi        3   {'months': 6, 'years': 0}   \n",
      "...                 ...      ...                         ...   \n",
      "5009  Ammellle Ammellle        5  {'months': 48, 'years': 4}   \n",
      "5010     Amélie Glorian        4  {'months': 12, 'years': 1}   \n",
      "5012          jules qci        5  {'months': 72, 'years': 6}   \n",
      "5013        Pierre Yger        5  {'months': 48, 'years': 4}   \n",
      "5014  Valentin Delepaut        5  {'months': 36, 'years': 3}   \n",
      "\n",
      "                                                   Text Language  \n",
      "ID                                                                \n",
      "0     Delicious cakes, hot/cold beverages and great ...       en  \n",
      "1     Best place but it's still camels man opinion. ...       en  \n",
      "2     Amazing place to buy bread and sweets , always...       en  \n",
      "3     Love the baguette and croissant. Staff is alwa...       en  \n",
      "4     All the items I have tried here are really gre...       en  \n",
      "...                                                 ...      ...  \n",
      "5009                      Salle intimiste très agréable       fr  \n",
      "5010                                      Ancien cinéma       fr  \n",
      "5012                            Bonne salle rien a dire       fr  \n",
      "5013                       Un superbe salle authentique       fr  \n",
      "5014                       Super salle et programmation       fr  \n",
      "\n",
      "[3722 rows x 5 columns]\n"
     ]
    }
   ],
   "source": [
    "# Convertir le dictionnaire en DataFrame\n",
    "\n",
    "df = pd.read_csv('data.csv', sep=',')\n",
    "df = df.dropna()\n",
    "\n",
    "# Remplacer les valeurs dans grading par des int\n",
    "df[\"grading\"] = [int(x[0]) if x[0].isdigit() and \"/\" not in x else int(5*float(x.split('/')[0])/float(x.split('/')[1])) for x in df[\"grading\"]]\n",
    "\n",
    "# Remplace date par un dictionnaire {months: number, years: number}\n",
    "def transform_date(date):\n",
    "    weeks_or_days = ['week', 'day', 'semaine', 'jour']\n",
    "    date_array = date.split()\n",
    "    if any(word in date_array for word in weeks_or_days):\n",
    "        return {'months': 0, 'years': 0}\n",
    "    elif 'month' in date or 'mois' in date:\n",
    "        if date_array[0].isdigit():\n",
    "            return {'months': int(date_array[0]), 'years': 0}\n",
    "        return {'months': 1, 'years': 0}\n",
    "    elif date_array[0].isdigit():\n",
    "        return {'months': int(date_array[0])*12, 'years': int(date_array[0])}\n",
    "    return {'months': 12, 'years': 1}\n",
    "\n",
    "df[\"date\"] = df[\"date\"].apply(transform_date)\n",
    "\n",
    "df.index_name = 'ID'\n",
    "# Renommer la colonne d'index en \"ID\"\n",
    "df = df.rename_axis('ID').reset_index()\n",
    "df.set_index('ID', inplace=True)\n",
    "# Ajouter la colonne Language à la DataFrame\n",
    "\n",
    "# Pour que les détections soient consistent\n",
    "DetectorFactory.seed = 0\n",
    "def detect_language(text):\n",
    "    try:\n",
    "        return detect(text)\n",
    "    except LangDetectException:\n",
    "        return 'unknown'\n",
    "\n",
    "df['Language'] = df['Text'].apply(detect_language)\n",
    "df.drop(df.loc[df['Language'] == 'unknown'].index, inplace=True)\n",
    "\n",
    "df"
   ]
  },
  {
   "cell_type": "markdown",
   "source": [
    "## Translation"
   ],
   "metadata": {
    "collapsed": false
   }
  },
  {
   "cell_type": "code",
   "execution_count": 4,
   "outputs": [
    {
     "data": {
      "text/plain": "                   Name  grading                        date  \\\nID                                                             \n0      Reezaane Bundhoo        4  {'months': 12, 'years': 1}   \n1      Akram Althawbani        5   {'months': 3, 'years': 0}   \n2          Ibrahim Sobh        4   {'months': 1, 'years': 0}   \n3         Mareike Engel        5   {'months': 5, 'years': 0}   \n4     shrishail kurangi        3   {'months': 6, 'years': 0}   \n...                 ...      ...                         ...   \n5009  Ammellle Ammellle        5  {'months': 48, 'years': 4}   \n5010     Amélie Glorian        4  {'months': 12, 'years': 1}   \n5012          jules qci        5  {'months': 72, 'years': 6}   \n5013        Pierre Yger        5  {'months': 48, 'years': 4}   \n5014  Valentin Delepaut        5  {'months': 36, 'years': 3}   \n\n                                                   Text Language  \nID                                                                \n0     Delicious cakes, hot/cold beverages and great ...       en  \n1     Best place but it's still camels man opinion. ...       en  \n2     Amazing place to buy bread and sweets , always...       en  \n3     Love the baguette and croissant. Staff is alwa...       en  \n4     All the items I have tried here are really gre...       en  \n...                                                 ...      ...  \n5009                        Very pleasant intimate room       en  \n5010                                         old cinema       en  \n5012                           Good room nothing to say       en  \n5013                            A superb authentic room       en  \n5014                         Great room and programming       en  \n\n[3722 rows x 5 columns]",
      "text/html": "<div>\n<style scoped>\n    .dataframe tbody tr th:only-of-type {\n        vertical-align: middle;\n    }\n\n    .dataframe tbody tr th {\n        vertical-align: top;\n    }\n\n    .dataframe thead th {\n        text-align: right;\n    }\n</style>\n<table border=\"1\" class=\"dataframe\">\n  <thead>\n    <tr style=\"text-align: right;\">\n      <th></th>\n      <th>Name</th>\n      <th>grading</th>\n      <th>date</th>\n      <th>Text</th>\n      <th>Language</th>\n    </tr>\n    <tr>\n      <th>ID</th>\n      <th></th>\n      <th></th>\n      <th></th>\n      <th></th>\n      <th></th>\n    </tr>\n  </thead>\n  <tbody>\n    <tr>\n      <th>0</th>\n      <td>Reezaane Bundhoo</td>\n      <td>4</td>\n      <td>{'months': 12, 'years': 1}</td>\n      <td>Delicious cakes, hot/cold beverages and great ...</td>\n      <td>en</td>\n    </tr>\n    <tr>\n      <th>1</th>\n      <td>Akram Althawbani</td>\n      <td>5</td>\n      <td>{'months': 3, 'years': 0}</td>\n      <td>Best place but it's still camels man opinion. ...</td>\n      <td>en</td>\n    </tr>\n    <tr>\n      <th>2</th>\n      <td>Ibrahim Sobh</td>\n      <td>4</td>\n      <td>{'months': 1, 'years': 0}</td>\n      <td>Amazing place to buy bread and sweets , always...</td>\n      <td>en</td>\n    </tr>\n    <tr>\n      <th>3</th>\n      <td>Mareike Engel</td>\n      <td>5</td>\n      <td>{'months': 5, 'years': 0}</td>\n      <td>Love the baguette and croissant. Staff is alwa...</td>\n      <td>en</td>\n    </tr>\n    <tr>\n      <th>4</th>\n      <td>shrishail kurangi</td>\n      <td>3</td>\n      <td>{'months': 6, 'years': 0}</td>\n      <td>All the items I have tried here are really gre...</td>\n      <td>en</td>\n    </tr>\n    <tr>\n      <th>...</th>\n      <td>...</td>\n      <td>...</td>\n      <td>...</td>\n      <td>...</td>\n      <td>...</td>\n    </tr>\n    <tr>\n      <th>5009</th>\n      <td>Ammellle Ammellle</td>\n      <td>5</td>\n      <td>{'months': 48, 'years': 4}</td>\n      <td>Very pleasant intimate room</td>\n      <td>en</td>\n    </tr>\n    <tr>\n      <th>5010</th>\n      <td>Amélie Glorian</td>\n      <td>4</td>\n      <td>{'months': 12, 'years': 1}</td>\n      <td>old cinema</td>\n      <td>en</td>\n    </tr>\n    <tr>\n      <th>5012</th>\n      <td>jules qci</td>\n      <td>5</td>\n      <td>{'months': 72, 'years': 6}</td>\n      <td>Good room nothing to say</td>\n      <td>en</td>\n    </tr>\n    <tr>\n      <th>5013</th>\n      <td>Pierre Yger</td>\n      <td>5</td>\n      <td>{'months': 48, 'years': 4}</td>\n      <td>A superb authentic room</td>\n      <td>en</td>\n    </tr>\n    <tr>\n      <th>5014</th>\n      <td>Valentin Delepaut</td>\n      <td>5</td>\n      <td>{'months': 36, 'years': 3}</td>\n      <td>Great room and programming</td>\n      <td>en</td>\n    </tr>\n  </tbody>\n</table>\n<p>3722 rows × 5 columns</p>\n</div>"
     },
     "execution_count": 4,
     "metadata": {},
     "output_type": "execute_result"
    }
   ],
   "source": [
    "\"\"\"#pip install google-cloud-translate==2.0.1\n",
    "from google.cloud import translate_v2 as translate\n",
    "import os, json\n",
    "from dotenv import load_dotenv\n",
    "load_dotenv()\n",
    "\n",
    "CREDENTIALS = json.loads(os.environ.get('CREDENTIALS'))\n",
    "\n",
    "if os.path.exists('credentials.json'):\n",
    "    pass\n",
    "else:\n",
    "    with open('credentials.json', 'w') as credFile:\n",
    "        json.dump(CREDENTIALS, credFile)\n",
    "os.environ['GOOGLE_APPLICATION_CREDENTIALS'] = 'credentials.json'\n",
    "\n",
    "def translate_text(row):\n",
    "    translate_client = translate.Client()\n",
    "\n",
    "    text = row['Text']\n",
    "    if isinstance(text, bytes):\n",
    "        text = text.decode(\"utf-8\")\n",
    "\n",
    "    # Only translate the text if the language isn't 'en'.\n",
    "    if row['Language'] != 'en':\n",
    "        try:\n",
    "            result = translate_client.translate(text, target_language='en')\n",
    "            return pd.Series([result[\"translatedText\"], 'en'])\n",
    "        except Exception:\n",
    "            return pd.Series([text, row['Language']])  # if translation fails, return original text and language\n",
    "    else:\n",
    "        return pd.Series([text, row['Language']])  # if text is already in English, return original text and language\n",
    "\n",
    "df[['Text', 'Language']] = df.apply(translate_text, axis=1)\n",
    "df\n",
    "\"\"\"\n",
    "\n",
    "from deep_translator import GoogleTranslator\n",
    "\n",
    "def translate_text(row):\n",
    "    text = row['Text']\n",
    "\n",
    "    # translate the text to English\n",
    "    if row['Language'] != 'en':\n",
    "        translated_text = GoogleTranslator(source='auto', target='en').translate(text)\n",
    "        return pd.Series([translated_text, 'en'])\n",
    "    return row\n",
    "\n",
    "# Apply the function to the DataFrame\n",
    "df[['Text', 'Language']] = df.apply(translate_text, axis=1)\n",
    "df\n"
   ],
   "metadata": {
    "collapsed": false,
    "ExecuteTime": {
     "end_time": "2023-06-19T22:02:36.792185Z",
     "start_time": "2023-06-19T21:45:28.495760600Z"
    }
   }
  },
  {
   "attachments": {},
   "cell_type": "markdown",
   "metadata": {},
   "source": [
    "## EDA"
   ]
  },
  {
   "cell_type": "code",
   "execution_count": 5,
   "metadata": {
    "ExecuteTime": {
     "end_time": "2023-06-19T22:02:37.224521300Z",
     "start_time": "2023-06-19T22:02:36.793389900Z"
    }
   },
   "outputs": [
    {
     "data": {
      "text/plain": "<Figure size 1000x500 with 1 Axes>",
      "image/png": "[encoded data removed]"
     },
     "metadata": {},
     "output_type": "display_data"
    }
   ],
   "source": [
    "ax = df['grading'].value_counts().sort_index() \\\n",
    "    .plot(kind='bar',\n",
    "          title='Count of Reviews by Stars',\n",
    "          figsize=(10, 5))\n",
    "ax.set_xlabel('Review Stars')\n",
    "plt.show()"
   ]
  },
  {
   "attachments": {},
   "cell_type": "markdown",
   "metadata": {},
   "source": [
    "## Sentiment Analysis"
   ]
  },
  {
   "attachments": {},
   "cell_type": "markdown",
   "metadata": {},
   "source": [
    "### Roberta"
   ]
  },
  {
   "cell_type": "code",
   "execution_count": 6,
   "metadata": {
    "ExecuteTime": {
     "end_time": "2023-06-19T22:02:43.953595400Z",
     "start_time": "2023-06-19T22:02:37.225981400Z"
    }
   },
   "outputs": [
    {
     "name": "stderr",
     "output_type": "stream",
     "text": [
      "C:\\Users\\jacqu\\anaconda3\\lib\\site-packages\\tqdm\\auto.py:21: TqdmWarning: IProgress not found. Please update jupyter and ipywidgets. See https://ipywidgets.readthedocs.io/en/stable/user_install.html\n",
      "  from .autonotebook import tqdm as notebook_tqdm\n"
     ]
    }
   ],
   "source": [
    "from transformers import pipeline"
   ]
  },
  {
   "cell_type": "code",
   "execution_count": 7,
   "metadata": {
    "ExecuteTime": {
     "end_time": "2023-06-19T22:10:51.423304300Z",
     "start_time": "2023-06-19T22:02:43.953595400Z"
    }
   },
   "outputs": [
    {
     "name": "stderr",
     "output_type": "stream",
     "text": [
      "WARNING[XFORMERS]: xFormers can't load C++/CUDA extensions. xFormers was built for:\n",
      "    PyTorch 2.0.1+cu118 with CUDA 1108 (you have 2.0.1+cpu)\n",
      "    Python  3.10.11 (you have 3.10.9)\n",
      "  Please reinstall xformers (see https://github.com/facebookresearch/xformers#installing-xformers)\n",
      "  Memory-efficient attention, SwiGLU, sparse and more won't be available.\n",
      "  Set XFORMERS_MORE_DETAILS=1 for more details\n"
     ]
    },
    {
     "data": {
      "text/plain": "                   Name  grading                        date  \\\nID                                                             \n0      Reezaane Bundhoo        4  {'months': 12, 'years': 1}   \n1      Akram Althawbani        5   {'months': 3, 'years': 0}   \n2          Ibrahim Sobh        4   {'months': 1, 'years': 0}   \n3         Mareike Engel        5   {'months': 5, 'years': 0}   \n4     shrishail kurangi        3   {'months': 6, 'years': 0}   \n...                 ...      ...                         ...   \n5009  Ammellle Ammellle        5  {'months': 48, 'years': 4}   \n5010     Amélie Glorian        4  {'months': 12, 'years': 1}   \n5012          jules qci        5  {'months': 72, 'years': 6}   \n5013        Pierre Yger        5  {'months': 48, 'years': 4}   \n5014  Valentin Delepaut        5  {'months': 36, 'years': 3}   \n\n                                                   Text Language  \\\nID                                                                 \n0     Delicious cakes, hot/cold beverages and great ...       en   \n1     Best place but it's still camels man opinion. ...       en   \n2     Amazing place to buy bread and sweets , always...       en   \n3     Love the baguette and croissant. Staff is alwa...       en   \n4     All the items I have tried here are really gre...       en   \n...                                                 ...      ...   \n5009                        Very pleasant intimate room       en   \n5010                                         old cinema       en   \n5012                           Good room nothing to say       en   \n5013                            A superb authentic room       en   \n5014                         Great room and programming       en   \n\n     label (roberta)  score (roberta)  \nID                                     \n0           POSITIVE         0.907862  \n1           POSITIVE         0.809464  \n2            NEUTRAL         0.368061  \n3           POSITIVE         0.991683  \n4           NEGATIVE         0.392930  \n...              ...              ...  \n5009        POSITIVE         0.966187  \n5010         NEUTRAL         0.736137  \n5012        POSITIVE         0.725447  \n5013        POSITIVE         0.827901  \n5014        POSITIVE         0.925133  \n\n[3722 rows x 7 columns]",
      "text/html": "<div>\n<style scoped>\n    .dataframe tbody tr th:only-of-type {\n        vertical-align: middle;\n    }\n\n    .dataframe tbody tr th {\n        vertical-align: top;\n    }\n\n    .dataframe thead th {\n        text-align: right;\n    }\n</style>\n<table border=\"1\" class=\"dataframe\">\n  <thead>\n    <tr style=\"text-align: right;\">\n      <th></th>\n      <th>Name</th>\n      <th>grading</th>\n      <th>date</th>\n      <th>Text</th>\n      <th>Language</th>\n      <th>label (roberta)</th>\n      <th>score (roberta)</th>\n    </tr>\n    <tr>\n      <th>ID</th>\n      <th></th>\n      <th></th>\n      <th></th>\n      <th></th>\n      <th></th>\n      <th></th>\n      <th></th>\n    </tr>\n  </thead>\n  <tbody>\n    <tr>\n      <th>0</th>\n      <td>Reezaane Bundhoo</td>\n      <td>4</td>\n      <td>{'months': 12, 'years': 1}</td>\n      <td>Delicious cakes, hot/cold beverages and great ...</td>\n      <td>en</td>\n      <td>POSITIVE</td>\n      <td>0.907862</td>\n    </tr>\n    <tr>\n      <th>1</th>\n      <td>Akram Althawbani</td>\n      <td>5</td>\n      <td>{'months': 3, 'years': 0}</td>\n      <td>Best place but it's still camels man opinion. ...</td>\n      <td>en</td>\n      <td>POSITIVE</td>\n      <td>0.809464</td>\n    </tr>\n    <tr>\n      <th>2</th>\n      <td>Ibrahim Sobh</td>\n      <td>4</td>\n      <td>{'months': 1, 'years': 0}</td>\n      <td>Amazing place to buy bread and sweets , always...</td>\n      <td>en</td>\n      <td>NEUTRAL</td>\n      <td>0.368061</td>\n    </tr>\n    <tr>\n      <th>3</th>\n      <td>Mareike Engel</td>\n      <td>5</td>\n      <td>{'months': 5, 'years': 0}</td>\n      <td>Love the baguette and croissant. Staff is alwa...</td>\n      <td>en</td>\n      <td>POSITIVE</td>\n      <td>0.991683</td>\n    </tr>\n    <tr>\n      <th>4</th>\n      <td>shrishail kurangi</td>\n      <td>3</td>\n      <td>{'months': 6, 'years': 0}</td>\n      <td>All the items I have tried here are really gre...</td>\n      <td>en</td>\n      <td>NEGATIVE</td>\n      <td>0.392930</td>\n    </tr>\n    <tr>\n      <th>...</th>\n      <td>...</td>\n      <td>...</td>\n      <td>...</td>\n      <td>...</td>\n      <td>...</td>\n      <td>...</td>\n      <td>...</td>\n    </tr>\n    <tr>\n      <th>5009</th>\n      <td>Ammellle Ammellle</td>\n      <td>5</td>\n      <td>{'months': 48, 'years': 4}</td>\n      <td>Very pleasant intimate room</td>\n      <td>en</td>\n      <td>POSITIVE</td>\n      <td>0.966187</td>\n    </tr>\n    <tr>\n      <th>5010</th>\n      <td>Amélie Glorian</td>\n      <td>4</td>\n      <td>{'months': 12, 'years': 1}</td>\n      <td>old cinema</td>\n      <td>en</td>\n      <td>NEUTRAL</td>\n      <td>0.736137</td>\n    </tr>\n    <tr>\n      <th>5012</th>\n      <td>jules qci</td>\n      <td>5</td>\n      <td>{'months': 72, 'years': 6}</td>\n      <td>Good room nothing to say</td>\n      <td>en</td>\n      <td>POSITIVE</td>\n      <td>0.725447</td>\n    </tr>\n    <tr>\n      <th>5013</th>\n      <td>Pierre Yger</td>\n      <td>5</td>\n      <td>{'months': 48, 'years': 4}</td>\n      <td>A superb authentic room</td>\n      <td>en</td>\n      <td>POSITIVE</td>\n      <td>0.827901</td>\n    </tr>\n    <tr>\n      <th>5014</th>\n      <td>Valentin Delepaut</td>\n      <td>5</td>\n      <td>{'months': 36, 'years': 3}</td>\n      <td>Great room and programming</td>\n      <td>en</td>\n      <td>POSITIVE</td>\n      <td>0.925133</td>\n    </tr>\n  </tbody>\n</table>\n<p>3722 rows × 7 columns</p>\n</div>"
     },
     "execution_count": 7,
     "metadata": {},
     "output_type": "execute_result"
    }
   ],
   "source": [
    "from transformers import AutoTokenizer\n",
    "\n",
    "# Sentiment Analysis with Roberta\n",
    "\"\"\"\n",
    "nlp = pipeline(\"sentiment-analysis\", model=f\"cardiffnlp/twitter-roberta-base-sentiment\")\n",
    "\n",
    "# Run the polarity score on the entire dataset\n",
    "res = pd.DataFrame(columns=['label', 'score'])\n",
    "for index, row in df.iterrows():\n",
    "    text = row['Text']\n",
    "    langue = row['Language']\n",
    "    if langue == 'en':\n",
    "        dict = pd.DataFrame(nlp(text))\n",
    "        dict['ID'] = index\n",
    "        res = pd.concat([res, dict], axis=0)\n",
    "\"\"\"\n",
    "tokenizer = AutoTokenizer.from_pretrained(\"cardiffnlp/twitter-roberta-base-sentiment\")\n",
    "\n",
    "nlp = pipeline(\"sentiment-analysis\", model=\"cardiffnlp/twitter-roberta-base-sentiment\", tokenizer=tokenizer)\n",
    "\n",
    "res = pd.DataFrame(columns=['label', 'score'])\n",
    "for index, row in df.iterrows():\n",
    "    text = row['Text']\n",
    "    langue = row['Language']\n",
    "\n",
    "    # If the language is English and the token length doesn't exceed the limit\n",
    "    if langue == 'en':\n",
    "        tokens = tokenizer.encode(text, return_tensors='pt')\n",
    "\n",
    "        if len(tokens[0]) <= 512:\n",
    "            dict = pd.DataFrame(nlp(text))\n",
    "            dict['ID'] = index\n",
    "            res = pd.concat([res, dict], axis=0)\n",
    "\n",
    "# Remplacement des valeurs\n",
    "res['label'] = res['label'].replace('LABEL_0', 'NEGATIVE')\n",
    "res['label'] = res['label'].replace('LABEL_1', 'NEUTRAL')\n",
    "res['label'] = res['label'].replace('LABEL_2', 'POSITIVE')\n",
    "res[\"ID\"] = res['ID'].astype(int)\n",
    "res = res.rename(columns={\"label\": \"label (roberta)\", \"score\": \"score (roberta)\"})\n",
    "res.set_index('ID', inplace=True)\n",
    "\n",
    "# Merge the two dataframes\n",
    "df = df.merge(res, left_index=True, right_index=True, how='left')\n",
    "df\n"
   ]
  },
  {
   "attachments": {},
   "cell_type": "markdown",
   "metadata": {},
   "source": [
    "## nlptown/bert-base-multilingual-uncased-sentiment"
   ]
  },
  {
   "cell_type": "code",
   "execution_count": 8,
   "metadata": {
    "ExecuteTime": {
     "end_time": "2023-06-19T22:15:14.379080400Z",
     "start_time": "2023-06-19T22:10:51.423304300Z"
    }
   },
   "outputs": [
    {
     "name": "stderr",
     "output_type": "stream",
     "text": [
      "Token indices sequence length is longer than the specified maximum sequence length for this model (524 > 512). Running this sequence through the model will result in indexing errors\n"
     ]
    },
    {
     "ename": "RuntimeError",
     "evalue": "The size of tensor a (524) must match the size of tensor b (512) at non-singleton dimension 1",
     "output_type": "error",
     "traceback": [
      "\u001B[1;31m---------------------------------------------------------------------------\u001B[0m",
      "\u001B[1;31mRuntimeError\u001B[0m                              Traceback (most recent call last)",
      "Cell \u001B[1;32mIn[8], line 28\u001B[0m\n\u001B[0;32m     25\u001B[0m tokens \u001B[38;5;241m=\u001B[39m tokenizer\u001B[38;5;241m.\u001B[39mencode(text, return_tensors\u001B[38;5;241m=\u001B[39m\u001B[38;5;124m'\u001B[39m\u001B[38;5;124mpt\u001B[39m\u001B[38;5;124m'\u001B[39m)\n\u001B[0;32m     27\u001B[0m \u001B[38;5;28;01mif\u001B[39;00m \u001B[38;5;28mlen\u001B[39m(tokens[\u001B[38;5;241m0\u001B[39m]) \u001B[38;5;241m<\u001B[39m\u001B[38;5;241m=\u001B[39m \u001B[38;5;241m512\u001B[39m:\n\u001B[1;32m---> 28\u001B[0m     \u001B[38;5;28mdict\u001B[39m \u001B[38;5;241m=\u001B[39m pd\u001B[38;5;241m.\u001B[39mDataFrame(\u001B[43mnlp\u001B[49m\u001B[43m(\u001B[49m\u001B[43mtext\u001B[49m\u001B[43m)\u001B[49m)\n\u001B[0;32m     29\u001B[0m     \u001B[38;5;28mdict\u001B[39m[\u001B[38;5;124m'\u001B[39m\u001B[38;5;124mID\u001B[39m\u001B[38;5;124m'\u001B[39m] \u001B[38;5;241m=\u001B[39m index\n\u001B[0;32m     30\u001B[0m     res \u001B[38;5;241m=\u001B[39m pd\u001B[38;5;241m.\u001B[39mconcat([res, \u001B[38;5;28mdict\u001B[39m], axis\u001B[38;5;241m=\u001B[39m\u001B[38;5;241m0\u001B[39m)\n",
      "File \u001B[1;32m~\\anaconda3\\lib\\site-packages\\transformers\\pipelines\\text_classification.py:155\u001B[0m, in \u001B[0;36mTextClassificationPipeline.__call__\u001B[1;34m(self, *args, **kwargs)\u001B[0m\n\u001B[0;32m    121\u001B[0m \u001B[38;5;28;01mdef\u001B[39;00m \u001B[38;5;21m__call__\u001B[39m(\u001B[38;5;28mself\u001B[39m, \u001B[38;5;241m*\u001B[39margs, \u001B[38;5;241m*\u001B[39m\u001B[38;5;241m*\u001B[39mkwargs):\n\u001B[0;32m    122\u001B[0m \u001B[38;5;250m    \u001B[39m\u001B[38;5;124;03m\"\"\"\u001B[39;00m\n\u001B[0;32m    123\u001B[0m \u001B[38;5;124;03m    Classify the text(s) given as inputs.\u001B[39;00m\n\u001B[0;32m    124\u001B[0m \n\u001B[1;32m   (...)\u001B[0m\n\u001B[0;32m    153\u001B[0m \u001B[38;5;124;03m        If `top_k` is used, one such dictionary is returned per label.\u001B[39;00m\n\u001B[0;32m    154\u001B[0m \u001B[38;5;124;03m    \"\"\"\u001B[39;00m\n\u001B[1;32m--> 155\u001B[0m     result \u001B[38;5;241m=\u001B[39m \u001B[38;5;28msuper\u001B[39m()\u001B[38;5;241m.\u001B[39m\u001B[38;5;21m__call__\u001B[39m(\u001B[38;5;241m*\u001B[39margs, \u001B[38;5;241m*\u001B[39m\u001B[38;5;241m*\u001B[39mkwargs)\n\u001B[0;32m    156\u001B[0m     \u001B[38;5;66;03m# TODO try and retrieve it in a nicer way from _sanitize_parameters.\u001B[39;00m\n\u001B[0;32m    157\u001B[0m     _legacy \u001B[38;5;241m=\u001B[39m \u001B[38;5;124m\"\u001B[39m\u001B[38;5;124mtop_k\u001B[39m\u001B[38;5;124m\"\u001B[39m \u001B[38;5;129;01mnot\u001B[39;00m \u001B[38;5;129;01min\u001B[39;00m kwargs\n",
      "File \u001B[1;32m~\\anaconda3\\lib\\site-packages\\transformers\\pipelines\\base.py:1119\u001B[0m, in \u001B[0;36mPipeline.__call__\u001B[1;34m(self, inputs, num_workers, batch_size, *args, **kwargs)\u001B[0m\n\u001B[0;32m   1111\u001B[0m     \u001B[38;5;28;01mreturn\u001B[39;00m \u001B[38;5;28mnext\u001B[39m(\n\u001B[0;32m   1112\u001B[0m         \u001B[38;5;28miter\u001B[39m(\n\u001B[0;32m   1113\u001B[0m             \u001B[38;5;28mself\u001B[39m\u001B[38;5;241m.\u001B[39mget_iterator(\n\u001B[1;32m   (...)\u001B[0m\n\u001B[0;32m   1116\u001B[0m         )\n\u001B[0;32m   1117\u001B[0m     )\n\u001B[0;32m   1118\u001B[0m \u001B[38;5;28;01melse\u001B[39;00m:\n\u001B[1;32m-> 1119\u001B[0m     \u001B[38;5;28;01mreturn\u001B[39;00m \u001B[38;5;28;43mself\u001B[39;49m\u001B[38;5;241;43m.\u001B[39;49m\u001B[43mrun_single\u001B[49m\u001B[43m(\u001B[49m\u001B[43minputs\u001B[49m\u001B[43m,\u001B[49m\u001B[43m \u001B[49m\u001B[43mpreprocess_params\u001B[49m\u001B[43m,\u001B[49m\u001B[43m \u001B[49m\u001B[43mforward_params\u001B[49m\u001B[43m,\u001B[49m\u001B[43m \u001B[49m\u001B[43mpostprocess_params\u001B[49m\u001B[43m)\u001B[49m\n",
      "File \u001B[1;32m~\\anaconda3\\lib\\site-packages\\transformers\\pipelines\\base.py:1126\u001B[0m, in \u001B[0;36mPipeline.run_single\u001B[1;34m(self, inputs, preprocess_params, forward_params, postprocess_params)\u001B[0m\n\u001B[0;32m   1124\u001B[0m \u001B[38;5;28;01mdef\u001B[39;00m \u001B[38;5;21mrun_single\u001B[39m(\u001B[38;5;28mself\u001B[39m, inputs, preprocess_params, forward_params, postprocess_params):\n\u001B[0;32m   1125\u001B[0m     model_inputs \u001B[38;5;241m=\u001B[39m \u001B[38;5;28mself\u001B[39m\u001B[38;5;241m.\u001B[39mpreprocess(inputs, \u001B[38;5;241m*\u001B[39m\u001B[38;5;241m*\u001B[39mpreprocess_params)\n\u001B[1;32m-> 1126\u001B[0m     model_outputs \u001B[38;5;241m=\u001B[39m \u001B[38;5;28mself\u001B[39m\u001B[38;5;241m.\u001B[39mforward(model_inputs, \u001B[38;5;241m*\u001B[39m\u001B[38;5;241m*\u001B[39mforward_params)\n\u001B[0;32m   1127\u001B[0m     outputs \u001B[38;5;241m=\u001B[39m \u001B[38;5;28mself\u001B[39m\u001B[38;5;241m.\u001B[39mpostprocess(model_outputs, \u001B[38;5;241m*\u001B[39m\u001B[38;5;241m*\u001B[39mpostprocess_params)\n\u001B[0;32m   1128\u001B[0m     \u001B[38;5;28;01mreturn\u001B[39;00m outputs\n",
      "File \u001B[1;32m~\\anaconda3\\lib\\site-packages\\transformers\\pipelines\\base.py:1025\u001B[0m, in \u001B[0;36mPipeline.forward\u001B[1;34m(self, model_inputs, **forward_params)\u001B[0m\n\u001B[0;32m   1023\u001B[0m     \u001B[38;5;28;01mwith\u001B[39;00m inference_context():\n\u001B[0;32m   1024\u001B[0m         model_inputs \u001B[38;5;241m=\u001B[39m \u001B[38;5;28mself\u001B[39m\u001B[38;5;241m.\u001B[39m_ensure_tensor_on_device(model_inputs, device\u001B[38;5;241m=\u001B[39m\u001B[38;5;28mself\u001B[39m\u001B[38;5;241m.\u001B[39mdevice)\n\u001B[1;32m-> 1025\u001B[0m         model_outputs \u001B[38;5;241m=\u001B[39m \u001B[38;5;28mself\u001B[39m\u001B[38;5;241m.\u001B[39m_forward(model_inputs, \u001B[38;5;241m*\u001B[39m\u001B[38;5;241m*\u001B[39mforward_params)\n\u001B[0;32m   1026\u001B[0m         model_outputs \u001B[38;5;241m=\u001B[39m \u001B[38;5;28mself\u001B[39m\u001B[38;5;241m.\u001B[39m_ensure_tensor_on_device(model_outputs, device\u001B[38;5;241m=\u001B[39mtorch\u001B[38;5;241m.\u001B[39mdevice(\u001B[38;5;124m\"\u001B[39m\u001B[38;5;124mcpu\u001B[39m\u001B[38;5;124m\"\u001B[39m))\n\u001B[0;32m   1027\u001B[0m \u001B[38;5;28;01melse\u001B[39;00m:\n",
      "File \u001B[1;32m~\\anaconda3\\lib\\site-packages\\transformers\\pipelines\\text_classification.py:182\u001B[0m, in \u001B[0;36mTextClassificationPipeline._forward\u001B[1;34m(self, model_inputs)\u001B[0m\n\u001B[0;32m    181\u001B[0m \u001B[38;5;28;01mdef\u001B[39;00m \u001B[38;5;21m_forward\u001B[39m(\u001B[38;5;28mself\u001B[39m, model_inputs):\n\u001B[1;32m--> 182\u001B[0m     \u001B[38;5;28;01mreturn\u001B[39;00m \u001B[38;5;28mself\u001B[39m\u001B[38;5;241m.\u001B[39mmodel(\u001B[38;5;241m*\u001B[39m\u001B[38;5;241m*\u001B[39mmodel_inputs)\n",
      "File \u001B[1;32m~\\anaconda3\\lib\\site-packages\\torch\\nn\\modules\\module.py:1501\u001B[0m, in \u001B[0;36mModule._call_impl\u001B[1;34m(self, *args, **kwargs)\u001B[0m\n\u001B[0;32m   1496\u001B[0m \u001B[38;5;66;03m# If we don't have any hooks, we want to skip the rest of the logic in\u001B[39;00m\n\u001B[0;32m   1497\u001B[0m \u001B[38;5;66;03m# this function, and just call forward.\u001B[39;00m\n\u001B[0;32m   1498\u001B[0m \u001B[38;5;28;01mif\u001B[39;00m \u001B[38;5;129;01mnot\u001B[39;00m (\u001B[38;5;28mself\u001B[39m\u001B[38;5;241m.\u001B[39m_backward_hooks \u001B[38;5;129;01mor\u001B[39;00m \u001B[38;5;28mself\u001B[39m\u001B[38;5;241m.\u001B[39m_backward_pre_hooks \u001B[38;5;129;01mor\u001B[39;00m \u001B[38;5;28mself\u001B[39m\u001B[38;5;241m.\u001B[39m_forward_hooks \u001B[38;5;129;01mor\u001B[39;00m \u001B[38;5;28mself\u001B[39m\u001B[38;5;241m.\u001B[39m_forward_pre_hooks\n\u001B[0;32m   1499\u001B[0m         \u001B[38;5;129;01mor\u001B[39;00m _global_backward_pre_hooks \u001B[38;5;129;01mor\u001B[39;00m _global_backward_hooks\n\u001B[0;32m   1500\u001B[0m         \u001B[38;5;129;01mor\u001B[39;00m _global_forward_hooks \u001B[38;5;129;01mor\u001B[39;00m _global_forward_pre_hooks):\n\u001B[1;32m-> 1501\u001B[0m     \u001B[38;5;28;01mreturn\u001B[39;00m forward_call(\u001B[38;5;241m*\u001B[39margs, \u001B[38;5;241m*\u001B[39m\u001B[38;5;241m*\u001B[39mkwargs)\n\u001B[0;32m   1502\u001B[0m \u001B[38;5;66;03m# Do not call functions when jit is used\u001B[39;00m\n\u001B[0;32m   1503\u001B[0m full_backward_hooks, non_full_backward_hooks \u001B[38;5;241m=\u001B[39m [], []\n",
      "File \u001B[1;32m~\\anaconda3\\lib\\site-packages\\transformers\\models\\bert\\modeling_bert.py:1562\u001B[0m, in \u001B[0;36mBertForSequenceClassification.forward\u001B[1;34m(self, input_ids, attention_mask, token_type_ids, position_ids, head_mask, inputs_embeds, labels, output_attentions, output_hidden_states, return_dict)\u001B[0m\n\u001B[0;32m   1554\u001B[0m \u001B[38;5;250m\u001B[39m\u001B[38;5;124mr\u001B[39m\u001B[38;5;124;03m\"\"\"\u001B[39;00m\n\u001B[0;32m   1555\u001B[0m \u001B[38;5;124;03mlabels (`torch.LongTensor` of shape `(batch_size,)`, *optional*):\u001B[39;00m\n\u001B[0;32m   1556\u001B[0m \u001B[38;5;124;03m    Labels for computing the sequence classification/regression loss. Indices should be in `[0, ...,\u001B[39;00m\n\u001B[0;32m   1557\u001B[0m \u001B[38;5;124;03m    config.num_labels - 1]`. If `config.num_labels == 1` a regression loss is computed (Mean-Square loss), If\u001B[39;00m\n\u001B[0;32m   1558\u001B[0m \u001B[38;5;124;03m    `config.num_labels > 1` a classification loss is computed (Cross-Entropy).\u001B[39;00m\n\u001B[0;32m   1559\u001B[0m \u001B[38;5;124;03m\"\"\"\u001B[39;00m\n\u001B[0;32m   1560\u001B[0m return_dict \u001B[38;5;241m=\u001B[39m return_dict \u001B[38;5;28;01mif\u001B[39;00m return_dict \u001B[38;5;129;01mis\u001B[39;00m \u001B[38;5;129;01mnot\u001B[39;00m \u001B[38;5;28;01mNone\u001B[39;00m \u001B[38;5;28;01melse\u001B[39;00m \u001B[38;5;28mself\u001B[39m\u001B[38;5;241m.\u001B[39mconfig\u001B[38;5;241m.\u001B[39muse_return_dict\n\u001B[1;32m-> 1562\u001B[0m outputs \u001B[38;5;241m=\u001B[39m \u001B[38;5;28;43mself\u001B[39;49m\u001B[38;5;241;43m.\u001B[39;49m\u001B[43mbert\u001B[49m\u001B[43m(\u001B[49m\n\u001B[0;32m   1563\u001B[0m \u001B[43m    \u001B[49m\u001B[43minput_ids\u001B[49m\u001B[43m,\u001B[49m\n\u001B[0;32m   1564\u001B[0m \u001B[43m    \u001B[49m\u001B[43mattention_mask\u001B[49m\u001B[38;5;241;43m=\u001B[39;49m\u001B[43mattention_mask\u001B[49m\u001B[43m,\u001B[49m\n\u001B[0;32m   1565\u001B[0m \u001B[43m    \u001B[49m\u001B[43mtoken_type_ids\u001B[49m\u001B[38;5;241;43m=\u001B[39;49m\u001B[43mtoken_type_ids\u001B[49m\u001B[43m,\u001B[49m\n\u001B[0;32m   1566\u001B[0m \u001B[43m    \u001B[49m\u001B[43mposition_ids\u001B[49m\u001B[38;5;241;43m=\u001B[39;49m\u001B[43mposition_ids\u001B[49m\u001B[43m,\u001B[49m\n\u001B[0;32m   1567\u001B[0m \u001B[43m    \u001B[49m\u001B[43mhead_mask\u001B[49m\u001B[38;5;241;43m=\u001B[39;49m\u001B[43mhead_mask\u001B[49m\u001B[43m,\u001B[49m\n\u001B[0;32m   1568\u001B[0m \u001B[43m    \u001B[49m\u001B[43minputs_embeds\u001B[49m\u001B[38;5;241;43m=\u001B[39;49m\u001B[43minputs_embeds\u001B[49m\u001B[43m,\u001B[49m\n\u001B[0;32m   1569\u001B[0m \u001B[43m    \u001B[49m\u001B[43moutput_attentions\u001B[49m\u001B[38;5;241;43m=\u001B[39;49m\u001B[43moutput_attentions\u001B[49m\u001B[43m,\u001B[49m\n\u001B[0;32m   1570\u001B[0m \u001B[43m    \u001B[49m\u001B[43moutput_hidden_states\u001B[49m\u001B[38;5;241;43m=\u001B[39;49m\u001B[43moutput_hidden_states\u001B[49m\u001B[43m,\u001B[49m\n\u001B[0;32m   1571\u001B[0m \u001B[43m    \u001B[49m\u001B[43mreturn_dict\u001B[49m\u001B[38;5;241;43m=\u001B[39;49m\u001B[43mreturn_dict\u001B[49m\u001B[43m,\u001B[49m\n\u001B[0;32m   1572\u001B[0m \u001B[43m\u001B[49m\u001B[43m)\u001B[49m\n\u001B[0;32m   1574\u001B[0m pooled_output \u001B[38;5;241m=\u001B[39m outputs[\u001B[38;5;241m1\u001B[39m]\n\u001B[0;32m   1576\u001B[0m pooled_output \u001B[38;5;241m=\u001B[39m \u001B[38;5;28mself\u001B[39m\u001B[38;5;241m.\u001B[39mdropout(pooled_output)\n",
      "File \u001B[1;32m~\\anaconda3\\lib\\site-packages\\torch\\nn\\modules\\module.py:1501\u001B[0m, in \u001B[0;36mModule._call_impl\u001B[1;34m(self, *args, **kwargs)\u001B[0m\n\u001B[0;32m   1496\u001B[0m \u001B[38;5;66;03m# If we don't have any hooks, we want to skip the rest of the logic in\u001B[39;00m\n\u001B[0;32m   1497\u001B[0m \u001B[38;5;66;03m# this function, and just call forward.\u001B[39;00m\n\u001B[0;32m   1498\u001B[0m \u001B[38;5;28;01mif\u001B[39;00m \u001B[38;5;129;01mnot\u001B[39;00m (\u001B[38;5;28mself\u001B[39m\u001B[38;5;241m.\u001B[39m_backward_hooks \u001B[38;5;129;01mor\u001B[39;00m \u001B[38;5;28mself\u001B[39m\u001B[38;5;241m.\u001B[39m_backward_pre_hooks \u001B[38;5;129;01mor\u001B[39;00m \u001B[38;5;28mself\u001B[39m\u001B[38;5;241m.\u001B[39m_forward_hooks \u001B[38;5;129;01mor\u001B[39;00m \u001B[38;5;28mself\u001B[39m\u001B[38;5;241m.\u001B[39m_forward_pre_hooks\n\u001B[0;32m   1499\u001B[0m         \u001B[38;5;129;01mor\u001B[39;00m _global_backward_pre_hooks \u001B[38;5;129;01mor\u001B[39;00m _global_backward_hooks\n\u001B[0;32m   1500\u001B[0m         \u001B[38;5;129;01mor\u001B[39;00m _global_forward_hooks \u001B[38;5;129;01mor\u001B[39;00m _global_forward_pre_hooks):\n\u001B[1;32m-> 1501\u001B[0m     \u001B[38;5;28;01mreturn\u001B[39;00m forward_call(\u001B[38;5;241m*\u001B[39margs, \u001B[38;5;241m*\u001B[39m\u001B[38;5;241m*\u001B[39mkwargs)\n\u001B[0;32m   1502\u001B[0m \u001B[38;5;66;03m# Do not call functions when jit is used\u001B[39;00m\n\u001B[0;32m   1503\u001B[0m full_backward_hooks, non_full_backward_hooks \u001B[38;5;241m=\u001B[39m [], []\n",
      "File \u001B[1;32m~\\anaconda3\\lib\\site-packages\\transformers\\models\\bert\\modeling_bert.py:1013\u001B[0m, in \u001B[0;36mBertModel.forward\u001B[1;34m(self, input_ids, attention_mask, token_type_ids, position_ids, head_mask, inputs_embeds, encoder_hidden_states, encoder_attention_mask, past_key_values, use_cache, output_attentions, output_hidden_states, return_dict)\u001B[0m\n\u001B[0;32m   1006\u001B[0m \u001B[38;5;66;03m# Prepare head mask if needed\u001B[39;00m\n\u001B[0;32m   1007\u001B[0m \u001B[38;5;66;03m# 1.0 in head_mask indicate we keep the head\u001B[39;00m\n\u001B[0;32m   1008\u001B[0m \u001B[38;5;66;03m# attention_probs has shape bsz x n_heads x N x N\u001B[39;00m\n\u001B[0;32m   1009\u001B[0m \u001B[38;5;66;03m# input head_mask has shape [num_heads] or [num_hidden_layers x num_heads]\u001B[39;00m\n\u001B[0;32m   1010\u001B[0m \u001B[38;5;66;03m# and head_mask is converted to shape [num_hidden_layers x batch x num_heads x seq_length x seq_length]\u001B[39;00m\n\u001B[0;32m   1011\u001B[0m head_mask \u001B[38;5;241m=\u001B[39m \u001B[38;5;28mself\u001B[39m\u001B[38;5;241m.\u001B[39mget_head_mask(head_mask, \u001B[38;5;28mself\u001B[39m\u001B[38;5;241m.\u001B[39mconfig\u001B[38;5;241m.\u001B[39mnum_hidden_layers)\n\u001B[1;32m-> 1013\u001B[0m embedding_output \u001B[38;5;241m=\u001B[39m \u001B[38;5;28;43mself\u001B[39;49m\u001B[38;5;241;43m.\u001B[39;49m\u001B[43membeddings\u001B[49m\u001B[43m(\u001B[49m\n\u001B[0;32m   1014\u001B[0m \u001B[43m    \u001B[49m\u001B[43minput_ids\u001B[49m\u001B[38;5;241;43m=\u001B[39;49m\u001B[43minput_ids\u001B[49m\u001B[43m,\u001B[49m\n\u001B[0;32m   1015\u001B[0m \u001B[43m    \u001B[49m\u001B[43mposition_ids\u001B[49m\u001B[38;5;241;43m=\u001B[39;49m\u001B[43mposition_ids\u001B[49m\u001B[43m,\u001B[49m\n\u001B[0;32m   1016\u001B[0m \u001B[43m    \u001B[49m\u001B[43mtoken_type_ids\u001B[49m\u001B[38;5;241;43m=\u001B[39;49m\u001B[43mtoken_type_ids\u001B[49m\u001B[43m,\u001B[49m\n\u001B[0;32m   1017\u001B[0m \u001B[43m    \u001B[49m\u001B[43minputs_embeds\u001B[49m\u001B[38;5;241;43m=\u001B[39;49m\u001B[43minputs_embeds\u001B[49m\u001B[43m,\u001B[49m\n\u001B[0;32m   1018\u001B[0m \u001B[43m    \u001B[49m\u001B[43mpast_key_values_length\u001B[49m\u001B[38;5;241;43m=\u001B[39;49m\u001B[43mpast_key_values_length\u001B[49m\u001B[43m,\u001B[49m\n\u001B[0;32m   1019\u001B[0m \u001B[43m\u001B[49m\u001B[43m)\u001B[49m\n\u001B[0;32m   1020\u001B[0m encoder_outputs \u001B[38;5;241m=\u001B[39m \u001B[38;5;28mself\u001B[39m\u001B[38;5;241m.\u001B[39mencoder(\n\u001B[0;32m   1021\u001B[0m     embedding_output,\n\u001B[0;32m   1022\u001B[0m     attention_mask\u001B[38;5;241m=\u001B[39mextended_attention_mask,\n\u001B[1;32m   (...)\u001B[0m\n\u001B[0;32m   1030\u001B[0m     return_dict\u001B[38;5;241m=\u001B[39mreturn_dict,\n\u001B[0;32m   1031\u001B[0m )\n\u001B[0;32m   1032\u001B[0m sequence_output \u001B[38;5;241m=\u001B[39m encoder_outputs[\u001B[38;5;241m0\u001B[39m]\n",
      "File \u001B[1;32m~\\anaconda3\\lib\\site-packages\\torch\\nn\\modules\\module.py:1501\u001B[0m, in \u001B[0;36mModule._call_impl\u001B[1;34m(self, *args, **kwargs)\u001B[0m\n\u001B[0;32m   1496\u001B[0m \u001B[38;5;66;03m# If we don't have any hooks, we want to skip the rest of the logic in\u001B[39;00m\n\u001B[0;32m   1497\u001B[0m \u001B[38;5;66;03m# this function, and just call forward.\u001B[39;00m\n\u001B[0;32m   1498\u001B[0m \u001B[38;5;28;01mif\u001B[39;00m \u001B[38;5;129;01mnot\u001B[39;00m (\u001B[38;5;28mself\u001B[39m\u001B[38;5;241m.\u001B[39m_backward_hooks \u001B[38;5;129;01mor\u001B[39;00m \u001B[38;5;28mself\u001B[39m\u001B[38;5;241m.\u001B[39m_backward_pre_hooks \u001B[38;5;129;01mor\u001B[39;00m \u001B[38;5;28mself\u001B[39m\u001B[38;5;241m.\u001B[39m_forward_hooks \u001B[38;5;129;01mor\u001B[39;00m \u001B[38;5;28mself\u001B[39m\u001B[38;5;241m.\u001B[39m_forward_pre_hooks\n\u001B[0;32m   1499\u001B[0m         \u001B[38;5;129;01mor\u001B[39;00m _global_backward_pre_hooks \u001B[38;5;129;01mor\u001B[39;00m _global_backward_hooks\n\u001B[0;32m   1500\u001B[0m         \u001B[38;5;129;01mor\u001B[39;00m _global_forward_hooks \u001B[38;5;129;01mor\u001B[39;00m _global_forward_pre_hooks):\n\u001B[1;32m-> 1501\u001B[0m     \u001B[38;5;28;01mreturn\u001B[39;00m forward_call(\u001B[38;5;241m*\u001B[39margs, \u001B[38;5;241m*\u001B[39m\u001B[38;5;241m*\u001B[39mkwargs)\n\u001B[0;32m   1502\u001B[0m \u001B[38;5;66;03m# Do not call functions when jit is used\u001B[39;00m\n\u001B[0;32m   1503\u001B[0m full_backward_hooks, non_full_backward_hooks \u001B[38;5;241m=\u001B[39m [], []\n",
      "File \u001B[1;32m~\\anaconda3\\lib\\site-packages\\transformers\\models\\bert\\modeling_bert.py:236\u001B[0m, in \u001B[0;36mBertEmbeddings.forward\u001B[1;34m(self, input_ids, token_type_ids, position_ids, inputs_embeds, past_key_values_length)\u001B[0m\n\u001B[0;32m    234\u001B[0m \u001B[38;5;28;01mif\u001B[39;00m \u001B[38;5;28mself\u001B[39m\u001B[38;5;241m.\u001B[39mposition_embedding_type \u001B[38;5;241m==\u001B[39m \u001B[38;5;124m\"\u001B[39m\u001B[38;5;124mabsolute\u001B[39m\u001B[38;5;124m\"\u001B[39m:\n\u001B[0;32m    235\u001B[0m     position_embeddings \u001B[38;5;241m=\u001B[39m \u001B[38;5;28mself\u001B[39m\u001B[38;5;241m.\u001B[39mposition_embeddings(position_ids)\n\u001B[1;32m--> 236\u001B[0m     embeddings \u001B[38;5;241m+\u001B[39m\u001B[38;5;241m=\u001B[39m position_embeddings\n\u001B[0;32m    237\u001B[0m embeddings \u001B[38;5;241m=\u001B[39m \u001B[38;5;28mself\u001B[39m\u001B[38;5;241m.\u001B[39mLayerNorm(embeddings)\n\u001B[0;32m    238\u001B[0m embeddings \u001B[38;5;241m=\u001B[39m \u001B[38;5;28mself\u001B[39m\u001B[38;5;241m.\u001B[39mdropout(embeddings)\n",
      "\u001B[1;31mRuntimeError\u001B[0m: The size of tensor a (524) must match the size of tensor b (512) at non-singleton dimension 1"
     ]
    }
   ],
   "source": [
    "# Sentiment Analysis Bert-base-uncased\n",
    "# Plusieurs langages disponibles (dont le français)\n",
    "#English\t150k\n",
    "#Dutch\t80k\n",
    "#German\t137k\n",
    "#French\t140k\n",
    "#Italian\t72k\n",
    "#Spanish\n",
    "# Il classifie les phrases en étoiles (1 à 5)\n",
    "# Ce modèle est connu\n",
    "\n",
    "nlp = pipeline(\"sentiment-analysis\", model=f\"nlptown/bert-base-multilingual-uncased-sentiment\")\n",
    "\n",
    "# Run the polarity score on the entire dataset\n",
    "res = pd.DataFrame(columns=['label', 'score'])\n",
    "for index, row in df.iterrows():\n",
    "    text = row['Text']\n",
    "    langue = row['Language']\n",
    "    if langue == 'en' or langue == 'fr' or langue == 'es' or langue == 'it' or langue == 'de' or langue == 'nl':\n",
    "        \"\"\"\n",
    "        dict = pd.DataFrame(nlp(text))\n",
    "        dict['ID'] = index\n",
    "        res = pd.concat([res, dict], axis=0)\n",
    "        \"\"\"\n",
    "        tokens = tokenizer.encode(text, return_tensors='pt')\n",
    "\n",
    "        if len(tokens[0]) <= 512:\n",
    "            dict = pd.DataFrame(nlp(text))\n",
    "            dict['ID'] = index\n",
    "            res = pd.concat([res, dict], axis=0)\n",
    "\n",
    "# Remplacement des valeurs\n",
    "res['label'] = res['label'].replace('1 star', int(1))\n",
    "res['label'] = res['label'].replace('2 stars', int(2))\n",
    "res['label'] = res['label'].replace('3 stars', int(3))\n",
    "res['label'] = res['label'].replace('4 stars', int(4))\n",
    "res['label'] = res['label'].replace('5 stars', int(5))\n",
    "res[\"ID\"] = res['ID'].astype(int)\n",
    "res = res.rename(columns={\"label\": \"label (Bert), over 5\", \"score\": \"score (Bert)\"})\n",
    "res.set_index('ID', inplace=True)\n",
    "\n",
    "# Merge the two dataframes\n",
    "df = df.merge(res, left_index=True, right_index=True, how='left')\n",
    "df\n",
    "\n",
    "# print(df.isnull().sum())\n",
    "# print(f\"Negative: {df[df['label (roberta)'] == 'NEGATIVE'].count()}, Positive: {df[df['label (roberta)'] == 'POSITIVE'].count()}, Neutral: {df[df['label (roberta)'] == 'NEUTRAL'].count()}\")"
   ]
  },
  {
   "cell_type": "markdown",
   "source": [
    "## Using Sklearn"
   ],
   "metadata": {
    "collapsed": false
   }
  },
  {
   "cell_type": "code",
   "execution_count": 16,
   "outputs": [
    {
     "name": "stdout",
     "output_type": "stream",
     "text": [
      "Accuracy: 0.8113207547169812\n",
      "Precision: 0.8326112300552702\n",
      "Recall: 0.8113207547169812\n",
      "F1 Score: 0.7663429663232992\n"
     ]
    },
    {
     "data": {
      "text/plain": "<Figure size 1000x700 with 2 Axes>",
      "image/png": "[encoded data removed]"
     },
     "metadata": {},
     "output_type": "display_data"
    }
   ],
   "source": [
    "from sklearn.feature_extraction.text import CountVectorizer\n",
    "from sklearn.naive_bayes import MultinomialNB\n",
    "from sklearn.model_selection import train_test_split\n",
    "from sklearn.metrics import accuracy_score, precision_score, recall_score, f1_score\n",
    "\n",
    "df = df.drop(df[df['label (roberta)'].isna()].index)\n",
    "\n",
    "# Assume X is your list of texts and y is your list of labels\n",
    "X_train, X_test, y_train, y_test = train_test_split(df['Text'], df['label (roberta)'], test_size=0.2)\n",
    "\n",
    "# Transform the text data into numerical vectors\n",
    "vectorizer = CountVectorizer()\n",
    "X_train_vectors = vectorizer.fit_transform(X_train)\n",
    "X_test_vectors = vectorizer.transform(X_test)\n",
    "\n",
    "# Train the classifier\n",
    "clf = MultinomialNB()\n",
    "clf.fit(X_train_vectors, y_train)\n",
    "\n",
    "# Test the classifier\n",
    "predictions = clf.predict(X_test_vectors)\n",
    "\n",
    "# Calculate metrics\n",
    "accuracy = accuracy_score(y_test, predictions)\n",
    "precision = precision_score(y_test, predictions, average='weighted', zero_division=0)\n",
    "recall = recall_score(y_test, predictions, average='weighted')\n",
    "f1 = f1_score(y_test, predictions, average='weighted')\n",
    "\n",
    "print(f'Accuracy: {accuracy}')\n",
    "print(f'Precision: {precision}')\n",
    "print(f'Recall: {recall}')\n",
    "print(f'F1 Score: {f1}')\n",
    "\n",
    "from sklearn.metrics import confusion_matrix\n",
    "import seaborn as sns\n",
    "import matplotlib.pyplot as plt\n",
    "\n",
    "# Calculate the confusion matrix\n",
    "cm = confusion_matrix(y_test, predictions)\n",
    "\n",
    "# DISPLAY CONFUSION MATRIX\n",
    "# Transpose the confusion matrix\n",
    "cm = cm.T\n",
    "# Define the labels of the matrix\n",
    "labels = ['Negative', 'Neutral', 'Positive']\n",
    "# Create a dataframe from the confusion matrix for easier plotting\n",
    "cm_df = pd.DataFrame(cm, index=labels, columns=labels)\n",
    "# Display the confusion matrix\n",
    "plt.figure(figsize=(10,7))\n",
    "sns.heatmap(cm_df, annot=True, fmt='d', cmap='Blues')\n",
    "plt.title('Confusion Matrix')\n",
    "plt.ylabel('Predicted Label')\n",
    "plt.xlabel('True Label')\n",
    "plt.show()\n"
   ],
   "metadata": {
    "collapsed": false,
    "ExecuteTime": {
     "end_time": "2023-06-19T22:24:41.184740500Z",
     "start_time": "2023-06-19T22:24:40.860555Z"
    }
   }
  },
  {
   "attachments": {},
   "cell_type": "markdown",
   "metadata": {},
   "source": [
    "## Comparaison des modèles"
   ]
  },
  {
   "cell_type": "code",
   "execution_count": 10,
   "metadata": {
    "ExecuteTime": {
     "end_time": "2023-06-19T22:24:21.454789300Z",
     "start_time": "2023-06-19T22:24:21.429149500Z"
    }
   },
   "outputs": [],
   "source": []
  }
 ],
 "metadata": {
  "kernelspec": {
   "display_name": "Python 3",
   "language": "python",
   "name": "python3"
  },
  "language_info": {
   "codemirror_mode": {
    "name": "ipython",
    "version": 3
   },
   "file_extension": ".py",
   "mimetype": "text/x-python",
   "name": "python",
   "nbconvert_exporter": "python",
   "pygments_lexer": "ipython3",
   "version": "3.9.1"
  },
  "orig_nbformat": 4
 },
 "nbformat": 4,
 "nbformat_minor": 2
}
