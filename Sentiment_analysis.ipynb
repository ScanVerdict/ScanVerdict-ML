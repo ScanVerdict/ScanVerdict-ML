{
 "cells": [
  {
   "cell_type": "code",
   "execution_count": 1,
   "metadata": {
    "ExecuteTime": {
     "end_time": "2023-06-13T07:20:39.140543700Z",
     "start_time": "2023-06-13T07:20:37.509196300Z"
    }
   },
   "outputs": [
    {
     "name": "stdout",
     "output_type": "stream",
     "text": [
      "   ID   name grading   date                    Text\n",
      "0   0  name1       5  date1            It is so bad\n",
      "1   1  name2       4  date2                it sucks\n",
      "2   2  name3       3  date2               It's okay\n",
      "3   3  name4       5  date2         It is very good\n",
      "4   4  name5       5  date2        c'est un peu nul\n",
      "5   5  name6       5  date2  The robot is very good\n"
     ]
    }
   ],
   "source": [
    "import pandas as pd\n",
    "import matplotlib.pyplot as plt \n",
    "\n",
    "# Créer un exmple de dictionnaire\n",
    "dictionary = {\n",
    "    'name1': (5, 'date1', \"It is so bad\"),\n",
    "    'name2': (4, 'date2', 'it sucks'),\n",
    "    'name3': (3, 'date2', \"It's okay\"),\n",
    "    'name4': (5, 'date2', 'It is very good'),\n",
    "    'name5': (5, 'date2', \"c'est un peu nul\"),\n",
    "    'name6': (5, 'date2', \"The robot is very good\"),\n",
    "}\n",
    "\n",
    "# Convertir le dictionnaire en DataFrame\n",
    "df = pd.DataFrame(dictionary, index=['grading', 'date', 'Text']).T\n",
    "\n",
    "df = df.reset_index().rename(columns={\"index\": \"name\"})\n",
    "df = df.reset_index().rename(columns={\"index\": \"ID\"})\n",
    "\n",
    "print(df)"
   ]
  },
  {
   "attachments": {},
   "cell_type": "markdown",
   "metadata": {},
   "source": [
    "## EDA"
   ]
  },
  {
   "cell_type": "code",
   "execution_count": 2,
   "metadata": {
    "ExecuteTime": {
     "end_time": "2023-06-13T07:20:39.367764500Z",
     "start_time": "2023-06-13T07:20:39.137483Z"
    }
   },
   "outputs": [
    {
     "data": {
      "text/plain": "<Figure size 1000x500 with 1 Axes>",
      "image/png": "[encoded data removed]"
     },
     "metadata": {},
     "output_type": "display_data"
    }
   ],
   "source": [
    "ax = df['grading'].value_counts().sort_index() \\\n",
    "    .plot(kind='bar',\n",
    "          title='Count of Reviews by Stars',\n",
    "          figsize=(10, 5))\n",
    "ax.set_xlabel('Review Stars')\n",
    "plt.show()"
   ]
  },
  {
   "attachments": {},
   "cell_type": "markdown",
   "metadata": {},
   "source": [
    "## Sentiment Analysis"
   ]
  },
  {
   "attachments": {},
   "cell_type": "markdown",
   "metadata": {},
   "source": [
    "### Roberta"
   ]
  },
  {
   "cell_type": "code",
   "execution_count": 3,
   "metadata": {
    "ExecuteTime": {
     "end_time": "2023-06-13T07:20:44.248378900Z",
     "start_time": "2023-06-13T07:20:39.368764200Z"
    }
   },
   "outputs": [
    {
     "name": "stderr",
     "output_type": "stream",
     "text": [
      "C:\\Users\\jacqu\\anaconda3\\lib\\site-packages\\tqdm\\auto.py:21: TqdmWarning: IProgress not found. Please update jupyter and ipywidgets. See https://ipywidgets.readthedocs.io/en/stable/user_install.html\n",
      "  from .autonotebook import tqdm as notebook_tqdm\n"
     ]
    }
   ],
   "source": [
    "from transformers import pipeline"
   ]
  },
  {
   "cell_type": "code",
   "execution_count": 4,
   "metadata": {
    "ExecuteTime": {
     "end_time": "2023-06-13T07:21:12.634682500Z",
     "start_time": "2023-06-13T07:20:44.245307800Z"
    }
   },
   "outputs": [
    {
     "name": "stderr",
     "output_type": "stream",
     "text": [
      "Downloading (…)lve/main/config.json: 100%|██████████| 747/747 [00:00<?, ?B/s] \n",
      "C:\\Users\\jacqu\\anaconda3\\lib\\site-packages\\huggingface_hub\\file_download.py:133: UserWarning: `huggingface_hub` cache-system uses symlinks by default to efficiently store duplicated files but your machine does not support them in C:\\Users\\jacqu\\.cache\\huggingface\\hub. Caching files will still work but in a degraded version that might require more space on your disk. This warning can be disabled by setting the `HF_HUB_DISABLE_SYMLINKS_WARNING` environment variable. For more details, see https://huggingface.co/docs/huggingface_hub/how-to-cache#limitations.\n",
      "To support symlinks on Windows, you either need to activate Developer Mode or to run Python as an administrator. In order to see activate developer mode, see this article: https://docs.microsoft.com/en-us/windows/apps/get-started/enable-your-device-for-development\n",
      "  warnings.warn(message)\n",
      "Downloading pytorch_model.bin: 100%|██████████| 499M/499M [00:20<00:00, 24.0MB/s] \n",
      "Downloading (…)olve/main/vocab.json: 100%|██████████| 899k/899k [00:00<00:00, 5.30MB/s]\n",
      "Downloading (…)olve/main/merges.txt: 100%|██████████| 456k/456k [00:00<00:00, 1.82MB/s]\n",
      "Downloading (…)cial_tokens_map.json: 100%|██████████| 150/150 [00:00<00:00, 148kB/s]\n",
      "Xformers is not installed correctly. If you want to use memorry_efficient_attention to accelerate training use the following command to install Xformers\n",
      "pip install xformers.\n"
     ]
    },
    {
     "name": "stdout",
     "output_type": "stream",
     "text": [
      "   ID   name grading   date                    Text label (roberta)  \\\n",
      "0   0  name1       5  date1            It is so bad        NEGATIVE   \n",
      "1   1  name2       4  date2                it sucks        NEGATIVE   \n",
      "2   2  name3       3  date2               It's okay        POSITIVE   \n",
      "3   3  name4       5  date2         It is very good        POSITIVE   \n",
      "4   4  name5       5  date2        c'est un peu nul         NEUTRAL   \n",
      "5   5  name6       5  date2  The robot is very good        POSITIVE   \n",
      "\n",
      "   score (roberta)  \n",
      "0         0.961788  \n",
      "1         0.943688  \n",
      "2         0.682161  \n",
      "3         0.983293  \n",
      "4         0.687441  \n",
      "5         0.981288  \n"
     ]
    }
   ],
   "source": [
    "# Sentiment Analysis with Roberta\n",
    "\n",
    "nlp = pipeline(\"sentiment-analysis\", model=f\"cardiffnlp/twitter-roberta-base-sentiment\")\n",
    "\n",
    "# Run the polarity score on the entire dataset\n",
    "res = pd.DataFrame(columns=['label', 'score'])\n",
    "for index, row in df.iterrows():\n",
    "    text = row['Text']\n",
    "    dict = pd.DataFrame(nlp(text))\n",
    "    dict['ID'] = index\n",
    "    res = pd.concat([res, dict], axis=0)\n",
    "\n",
    "# Remplacement des valeurs\n",
    "res['label'] = res['label'].replace('LABEL_0', 'NEGATIVE')\n",
    "res['label'] = res['label'].replace('LABEL_1', 'NEUTRAL')\n",
    "res['label'] = res['label'].replace('LABEL_2', 'POSITIVE')\n",
    "res[\"ID\"] = res['ID'].astype(int)\n",
    "res = res.rename(columns={\"label\": \"label (roberta)\", \"score\": \"score (roberta)\"})\n",
    "\n",
    "# Merge the two dataframes\n",
    "df = df.merge(res, left_on='ID', right_on='ID')\n",
    "print(df)\n"
   ]
  },
  {
   "attachments": {},
   "cell_type": "markdown",
   "metadata": {},
   "source": [
    "### Kaludi/Reviews-Sentiment-Analysis"
   ]
  },
  {
   "cell_type": "code",
   "execution_count": 5,
   "metadata": {
    "ExecuteTime": {
     "end_time": "2023-06-13T07:22:27.863947600Z",
     "start_time": "2023-06-13T07:21:12.638054600Z"
    }
   },
   "outputs": [
    {
     "name": "stderr",
     "output_type": "stream",
     "text": [
      "Downloading (…)lve/main/config.json: 100%|██████████| 1.05k/1.05k [00:00<00:00, 1.05MB/s]\n",
      "Downloading pytorch_model.bin: 100%|██████████| 738M/738M [00:33<00:00, 21.9MB/s] \n",
      "Downloading (…)okenizer_config.json: 100%|██████████| 438/438 [00:00<?, ?B/s] \n",
      "Downloading spm.model: 100%|██████████| 2.46M/2.46M [00:00<00:00, 28.0MB/s]\n",
      "Downloading tokenizer.json: 100%|██████████| 8.66M/8.66M [00:00<00:00, 28.9MB/s]\n",
      "Downloading (…)in/added_tokens.json: 100%|██████████| 23.0/23.0 [00:00<?, ?B/s]\n",
      "Downloading (…)cial_tokens_map.json: 100%|██████████| 173/173 [00:00<?, ?B/s] \n"
     ]
    },
    {
     "name": "stdout",
     "output_type": "stream",
     "text": [
      "   ID   name grading   date                    Text label (roberta)  \\\n",
      "0   0  name1       5  date1            It is so bad        NEGATIVE   \n",
      "1   1  name2       4  date2                it sucks        NEGATIVE   \n",
      "2   2  name3       3  date2               It's okay        POSITIVE   \n",
      "3   3  name4       5  date2         It is very good        POSITIVE   \n",
      "4   4  name5       5  date2        c'est un peu nul         NEUTRAL   \n",
      "5   5  name6       5  date2  The robot is very good        POSITIVE   \n",
      "\n",
      "   score (roberta) label (rev)  score (rev)  \n",
      "0         0.961788    Negative     0.977560  \n",
      "1         0.943688    Negative     0.526841  \n",
      "2         0.682161    Positive     0.733796  \n",
      "3         0.983293    Positive     0.950893  \n",
      "4         0.687441    Positive     0.762750  \n",
      "5         0.981288    Positive     0.959777  \n"
     ]
    }
   ],
   "source": [
    "# Pas de neutral dans le modèle Kaludi\n",
    "# Ce modèle n'est pas très connu et j'ai pas l'impression qu'il soit très performant\n",
    "nlp = pipeline(\"sentiment-analysis\", model=f\"Kaludi/Reviews-Sentiment-Analysis\")\n",
    "\n",
    "# Run the polarity score on the entire dataset\n",
    "res = pd.DataFrame(columns=['label', 'score'])\n",
    "for index, row in df.iterrows():\n",
    "    text = row['Text']\n",
    "    dict = pd.DataFrame(nlp(text))\n",
    "    dict['ID'] = index\n",
    "    res = pd.concat([res, dict], axis=0)\n",
    "\n",
    "# Remplacement des valeurs\n",
    "res[\"ID\"] = res['ID'].astype(int)\n",
    "res = res.rename(columns={\"label\": \"label (rev)\", \"score\": \"score (rev)\"})\n",
    "\n",
    "# Merge the two dataframes\n",
    "df = df.merge(res, left_on='ID', right_on='ID')\n",
    "print(df)\n"
   ]
  },
  {
   "attachments": {},
   "cell_type": "markdown",
   "metadata": {},
   "source": [
    "## nlptown/bert-base-multilingual-uncased-sentiment"
   ]
  },
  {
   "cell_type": "code",
   "execution_count": 6,
   "metadata": {
    "ExecuteTime": {
     "end_time": "2023-06-13T07:23:20.428556200Z",
     "start_time": "2023-06-13T07:22:27.863947600Z"
    }
   },
   "outputs": [
    {
     "name": "stderr",
     "output_type": "stream",
     "text": [
      "Downloading (…)lve/main/config.json: 100%|██████████| 953/953 [00:00<?, ?B/s] \n",
      "Downloading pytorch_model.bin: 100%|██████████| 669M/669M [00:46<00:00, 14.4MB/s] \n",
      "Downloading (…)okenizer_config.json: 100%|██████████| 39.0/39.0 [00:00<?, ?B/s]\n",
      "Downloading (…)solve/main/vocab.txt: 100%|██████████| 872k/872k [00:00<00:00, 10.1MB/s]\n",
      "Downloading (…)cial_tokens_map.json: 100%|██████████| 112/112 [00:00<?, ?B/s] \n"
     ]
    },
    {
     "name": "stdout",
     "output_type": "stream",
     "text": [
      "   ID   name grading   date                    Text label (roberta)  \\\n",
      "0   0  name1       5  date1            It is so bad        NEGATIVE   \n",
      "1   1  name2       4  date2                it sucks        NEGATIVE   \n",
      "2   2  name3       3  date2               It's okay        POSITIVE   \n",
      "3   3  name4       5  date2         It is very good        POSITIVE   \n",
      "4   4  name5       5  date2        c'est un peu nul         NEUTRAL   \n",
      "5   5  name6       5  date2  The robot is very good        POSITIVE   \n",
      "\n",
      "   score (roberta) label (rev)  score (rev)  label (Bert), over 5  \\\n",
      "0         0.961788    Negative     0.977560                     1   \n",
      "1         0.943688    Negative     0.526841                     1   \n",
      "2         0.682161    Positive     0.733796                     3   \n",
      "3         0.983293    Positive     0.950893                     5   \n",
      "4         0.687441    Positive     0.762750                     2   \n",
      "5         0.981288    Positive     0.959777                     5   \n",
      "\n",
      "   score (Bert)  \n",
      "0      0.716054  \n",
      "1      0.630184  \n",
      "2      0.829224  \n",
      "3      0.463787  \n",
      "4      0.379257  \n",
      "5      0.462739  \n"
     ]
    }
   ],
   "source": [
    "# Sentiment Analysis Bert-base-uncased\n",
    "# Plusieurs langages disponibles (dont le français)\n",
    "# Il classifie les phrases en étoiles (1 à 5)\n",
    "# Ce modèle est connu\n",
    "\n",
    "nlp = pipeline(\"sentiment-analysis\", model=f\"nlptown/bert-base-multilingual-uncased-sentiment\")\n",
    "\n",
    "# Run the polarity score on the entire dataset\n",
    "res = pd.DataFrame(columns=['label', 'score'])\n",
    "for index, row in df.iterrows():\n",
    "    text = row['Text']\n",
    "    dict = pd.DataFrame(nlp(text))\n",
    "    dict['ID'] = index\n",
    "    res = pd.concat([res, dict], axis=0)\n",
    "\n",
    "# Remplacement des valeurs\n",
    "res['label'] = res['label'].replace('1 star', int(1))\n",
    "res['label'] = res['label'].replace('2 stars', int(2))\n",
    "res['label'] = res['label'].replace('3 stars', int(3))\n",
    "res['label'] = res['label'].replace('4 stars', int(4))\n",
    "res['label'] = res['label'].replace('5 stars', int(5))\n",
    "res[\"ID\"] = res['ID'].astype(int)\n",
    "res = res.rename(columns={\"label\": \"label (Bert), over 5\", \"score\": \"score (Bert)\"})\n",
    "\n",
    "# Merge the two dataframes\n",
    "df = df.merge(res, left_on='ID', right_on='ID')\n",
    "print(df)\n"
   ]
  },
  {
   "attachments": {},
   "cell_type": "markdown",
   "metadata": {},
   "source": [
    "## Comparaison des modèles"
   ]
  },
  {
   "cell_type": "code",
   "execution_count": 6,
   "metadata": {
    "ExecuteTime": {
     "end_time": "2023-06-13T07:23:20.474900900Z",
     "start_time": "2023-06-13T07:23:20.428556200Z"
    }
   },
   "outputs": [],
   "source": []
  }
 ],
 "metadata": {
  "kernelspec": {
   "display_name": "Python 3",
   "language": "python",
   "name": "python3"
  },
  "language_info": {
   "codemirror_mode": {
    "name": "ipython",
    "version": 3
   },
   "file_extension": ".py",
   "mimetype": "text/x-python",
   "name": "python",
   "nbconvert_exporter": "python",
   "pygments_lexer": "ipython3",
   "version": "3.9.1"
  },
  "orig_nbformat": 4
 },
 "nbformat": 4,
 "nbformat_minor": 2
}
