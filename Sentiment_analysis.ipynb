{
 "cells": [
  {
   "cell_type": "code",
   "execution_count": 1,
   "metadata": {
    "ExecuteTime": {
     "end_time": "2023-06-30T10:03:26.063593300Z",
     "start_time": "2023-06-30T10:03:25.077875500Z"
    }
   },
   "outputs": [
    {
     "name": "stderr",
     "output_type": "stream",
     "text": [
      "C:\\Users\\jacqu\\anaconda3\\lib\\site-packages\\numpy\\_distributor_init.py:30: UserWarning: loaded more than 1 DLL from .libs:\n",
      "C:\\Users\\jacqu\\anaconda3\\lib\\site-packages\\numpy\\.libs\\libopenblas.FB5AE2TYXYH2IJRDKGDGQ3XBKLKTF43H.gfortran-win_amd64.dll\n",
      "C:\\Users\\jacqu\\anaconda3\\lib\\site-packages\\numpy\\.libs\\libopenblas64__v0.3.21-gcc_10_3_0.dll\n",
      "  warnings.warn(\"loaded more than 1 DLL from .libs:\"\n"
     ]
    }
   ],
   "source": [
    "import pandas as pd\n",
    "import matplotlib.pyplot as plt\n",
    "from langdetect import detect, DetectorFactory\n",
    "from langdetect.lang_detect_exception import LangDetectException\n",
    "import numpy as np"
   ]
  },
  {
   "cell_type": "code",
   "execution_count": 2,
   "metadata": {
    "ExecuteTime": {
     "end_time": "2023-06-30T10:03:26.809696200Z",
     "start_time": "2023-06-30T10:03:26.064593800Z"
    }
   },
   "outputs": [
    {
     "data": {
      "text/plain": "                    Name  grading  date  \\\nID                                        \n1          Wissem Smaali        1    11   \n2             ted tenore        1     4   \n3                Sly yo!        1     4   \n4              Emiie.R D        1     1   \n5                Michael        1     1   \n...                  ...      ...   ...   \n3599        sonia bobrie        5     3   \n4482  Aleksander Callaud        5    24   \n4483  La fée toute seule        5    10   \n4484    nicolas gauthier        5    12   \n4487      Cathy Guirriec        5    24   \n\n                                                   Text Target Language  \nID                                                                       \n1     À éviter\\nLe Pirée boulangerie de Vitry , le v...      0       fr  \n2     Je précise l’étoile je le donne que pour les c...      0       fr  \n3     Dommage pour le pâtissier qui ce démène et mes...      0       fr  \n4     Dommage les produits sont très bon mais les ve...      0       fr  \n5     Si je pouvais mettre -1000 je l’aurais fait, j...      0       fr  \n...                                                 ...    ...      ...  \n3599  Service de qualité au rayon dressing/rangement...      2       fr  \n4482  Très bon restaurant, avec un personnel très sy...      2       fr  \n4483  Une valeur sûre à Beauvais. Bon accueil et tar...      2       fr  \n4484  Très bon burger, et très bonne bière en pressi...      2       fr  \n4487  Restaurant sympa et très bon service. Je recom...      2       fr  \n\n[87 rows x 6 columns]",
      "text/html": "<div>\n<style scoped>\n    .dataframe tbody tr th:only-of-type {\n        vertical-align: middle;\n    }\n\n    .dataframe tbody tr th {\n        vertical-align: top;\n    }\n\n    .dataframe thead th {\n        text-align: right;\n    }\n</style>\n<table border=\"1\" class=\"dataframe\">\n  <thead>\n    <tr style=\"text-align: right;\">\n      <th></th>\n      <th>Name</th>\n      <th>grading</th>\n      <th>date</th>\n      <th>Text</th>\n      <th>Target</th>\n      <th>Language</th>\n    </tr>\n    <tr>\n      <th>ID</th>\n      <th></th>\n      <th></th>\n      <th></th>\n      <th></th>\n      <th></th>\n      <th></th>\n    </tr>\n  </thead>\n  <tbody>\n    <tr>\n      <th>1</th>\n      <td>Wissem Smaali</td>\n      <td>1</td>\n      <td>11</td>\n      <td>À éviter\\nLe Pirée boulangerie de Vitry , le v...</td>\n      <td>0</td>\n      <td>fr</td>\n    </tr>\n    <tr>\n      <th>2</th>\n      <td>ted tenore</td>\n      <td>1</td>\n      <td>4</td>\n      <td>Je précise l’étoile je le donne que pour les c...</td>\n      <td>0</td>\n      <td>fr</td>\n    </tr>\n    <tr>\n      <th>3</th>\n      <td>Sly yo!</td>\n      <td>1</td>\n      <td>4</td>\n      <td>Dommage pour le pâtissier qui ce démène et mes...</td>\n      <td>0</td>\n      <td>fr</td>\n    </tr>\n    <tr>\n      <th>4</th>\n      <td>Emiie.R D</td>\n      <td>1</td>\n      <td>1</td>\n      <td>Dommage les produits sont très bon mais les ve...</td>\n      <td>0</td>\n      <td>fr</td>\n    </tr>\n    <tr>\n      <th>5</th>\n      <td>Michael</td>\n      <td>1</td>\n      <td>1</td>\n      <td>Si je pouvais mettre -1000 je l’aurais fait, j...</td>\n      <td>0</td>\n      <td>fr</td>\n    </tr>\n    <tr>\n      <th>...</th>\n      <td>...</td>\n      <td>...</td>\n      <td>...</td>\n      <td>...</td>\n      <td>...</td>\n      <td>...</td>\n    </tr>\n    <tr>\n      <th>3599</th>\n      <td>sonia bobrie</td>\n      <td>5</td>\n      <td>3</td>\n      <td>Service de qualité au rayon dressing/rangement...</td>\n      <td>2</td>\n      <td>fr</td>\n    </tr>\n    <tr>\n      <th>4482</th>\n      <td>Aleksander Callaud</td>\n      <td>5</td>\n      <td>24</td>\n      <td>Très bon restaurant, avec un personnel très sy...</td>\n      <td>2</td>\n      <td>fr</td>\n    </tr>\n    <tr>\n      <th>4483</th>\n      <td>La fée toute seule</td>\n      <td>5</td>\n      <td>10</td>\n      <td>Une valeur sûre à Beauvais. Bon accueil et tar...</td>\n      <td>2</td>\n      <td>fr</td>\n    </tr>\n    <tr>\n      <th>4484</th>\n      <td>nicolas gauthier</td>\n      <td>5</td>\n      <td>12</td>\n      <td>Très bon burger, et très bonne bière en pressi...</td>\n      <td>2</td>\n      <td>fr</td>\n    </tr>\n    <tr>\n      <th>4487</th>\n      <td>Cathy Guirriec</td>\n      <td>5</td>\n      <td>24</td>\n      <td>Restaurant sympa et très bon service. Je recom...</td>\n      <td>2</td>\n      <td>fr</td>\n    </tr>\n  </tbody>\n</table>\n<p>87 rows × 6 columns</p>\n</div>"
     },
     "execution_count": 2,
     "metadata": {},
     "output_type": "execute_result"
    }
   ],
   "source": [
    "# Convertir le dictionnaire en DataFrame\n",
    "\n",
    "df = pd.read_csv('dataset1.csv', sep=';')\n",
    "# df = pd.read_csv('data.csv')\n",
    "df = df.dropna()\n",
    "\n",
    "# Remplacer les valeurs dans grading par des int\n",
    "df[\"grading\"] = [int(x[0]) if x[0].isdigit() and \"/\" not in x else int(5*float(x.split('/')[0])/float(x.split('/')[1])) for x in df[\"grading\"]]\n",
    "\n",
    "# Remplace date par un dictionnaire {months: number, years: number}\n",
    "def transform_date(date):\n",
    "    weeks_or_days = ['week', 'day', 'semaine', 'jour']\n",
    "    date_array = date.split()\n",
    "    if any(word in date_array for word in weeks_or_days):\n",
    "        return 0\n",
    "    elif 'month' in date or 'mois' in date:\n",
    "        if date_array[0].isdigit():\n",
    "            return int(date_array[0])\n",
    "        return 1\n",
    "    elif date_array[0].isdigit():\n",
    "        return int(date_array[0])*12\n",
    "    return 12\n",
    "\n",
    "df[\"date\"] = df[\"date\"].apply(transform_date)\n",
    "\n",
    "df.index_name = 'ID'\n",
    "# Renommer la colonne d'index en \"ID\"\n",
    "df = df.rename_axis('ID').reset_index()\n",
    "df.set_index('ID', inplace=True)\n",
    "# Ajouter la colonne Language à la DataFrame\n",
    "\n",
    "# Pour que les détections soient consistent\n",
    "DetectorFactory.seed = 0\n",
    "def detect_language(text):\n",
    "    try:\n",
    "        return detect(text)\n",
    "    except LangDetectException:\n",
    "        return 'unknown'\n",
    "\n",
    "df['Language'] = df['Text'].apply(detect_language)\n",
    "df.drop(df.loc[df['Language'] == 'unknown'].index, inplace=True)\n",
    "\n",
    "df"
   ]
  },
  {
   "cell_type": "markdown",
   "source": [
    "## Translation"
   ],
   "metadata": {
    "collapsed": false
   }
  },
  {
   "cell_type": "code",
   "execution_count": 3,
   "outputs": [
    {
     "data": {
      "text/plain": "                    Name  grading  date  \\\nID                                        \n1          Wissem Smaali        1    11   \n2             ted tenore        1     4   \n3                Sly yo!        1     4   \n4              Emiie.R D        1     1   \n5                Michael        1     1   \n...                  ...      ...   ...   \n3599        sonia bobrie        5     3   \n4482  Aleksander Callaud        5    24   \n4483  La fée toute seule        5    10   \n4484    nicolas gauthier        5    12   \n4487      Cathy Guirriec        5    24   \n\n                                                   Text Target Language  \nID                                                                       \n1     To avoid\\nThe Piraeus bakery in Vitry, the sal...      0       en  \n2     I specify the star I give it only for the croi...      0       en  \n3     Too bad for the pastry chef who struggles and ...      0       en  \n4     Too bad the products are very good but the sal...      0       en  \n5     If I could put -1000 I would have, I asked for...      0       en  \n...                                                 ...    ...      ...  \n3599  Quality service in the dressing room/storage d...      2       en  \n4482  Very good restaurant, with very friendly staff...      2       en  \n4483  A safe bet in Beauvais. Good reception and fai...      2       en  \n4484  Very good burger, and very good draft beer. Go...      2       en  \n4487  Nice restaurant and very good service. I recom...      2       en  \n\n[87 rows x 6 columns]",
      "text/html": "<div>\n<style scoped>\n    .dataframe tbody tr th:only-of-type {\n        vertical-align: middle;\n    }\n\n    .dataframe tbody tr th {\n        vertical-align: top;\n    }\n\n    .dataframe thead th {\n        text-align: right;\n    }\n</style>\n<table border=\"1\" class=\"dataframe\">\n  <thead>\n    <tr style=\"text-align: right;\">\n      <th></th>\n      <th>Name</th>\n      <th>grading</th>\n      <th>date</th>\n      <th>Text</th>\n      <th>Target</th>\n      <th>Language</th>\n    </tr>\n    <tr>\n      <th>ID</th>\n      <th></th>\n      <th></th>\n      <th></th>\n      <th></th>\n      <th></th>\n      <th></th>\n    </tr>\n  </thead>\n  <tbody>\n    <tr>\n      <th>1</th>\n      <td>Wissem Smaali</td>\n      <td>1</td>\n      <td>11</td>\n      <td>To avoid\\nThe Piraeus bakery in Vitry, the sal...</td>\n      <td>0</td>\n      <td>en</td>\n    </tr>\n    <tr>\n      <th>2</th>\n      <td>ted tenore</td>\n      <td>1</td>\n      <td>4</td>\n      <td>I specify the star I give it only for the croi...</td>\n      <td>0</td>\n      <td>en</td>\n    </tr>\n    <tr>\n      <th>3</th>\n      <td>Sly yo!</td>\n      <td>1</td>\n      <td>4</td>\n      <td>Too bad for the pastry chef who struggles and ...</td>\n      <td>0</td>\n      <td>en</td>\n    </tr>\n    <tr>\n      <th>4</th>\n      <td>Emiie.R D</td>\n      <td>1</td>\n      <td>1</td>\n      <td>Too bad the products are very good but the sal...</td>\n      <td>0</td>\n      <td>en</td>\n    </tr>\n    <tr>\n      <th>5</th>\n      <td>Michael</td>\n      <td>1</td>\n      <td>1</td>\n      <td>If I could put -1000 I would have, I asked for...</td>\n      <td>0</td>\n      <td>en</td>\n    </tr>\n    <tr>\n      <th>...</th>\n      <td>...</td>\n      <td>...</td>\n      <td>...</td>\n      <td>...</td>\n      <td>...</td>\n      <td>...</td>\n    </tr>\n    <tr>\n      <th>3599</th>\n      <td>sonia bobrie</td>\n      <td>5</td>\n      <td>3</td>\n      <td>Quality service in the dressing room/storage d...</td>\n      <td>2</td>\n      <td>en</td>\n    </tr>\n    <tr>\n      <th>4482</th>\n      <td>Aleksander Callaud</td>\n      <td>5</td>\n      <td>24</td>\n      <td>Very good restaurant, with very friendly staff...</td>\n      <td>2</td>\n      <td>en</td>\n    </tr>\n    <tr>\n      <th>4483</th>\n      <td>La fée toute seule</td>\n      <td>5</td>\n      <td>10</td>\n      <td>A safe bet in Beauvais. Good reception and fai...</td>\n      <td>2</td>\n      <td>en</td>\n    </tr>\n    <tr>\n      <th>4484</th>\n      <td>nicolas gauthier</td>\n      <td>5</td>\n      <td>12</td>\n      <td>Very good burger, and very good draft beer. Go...</td>\n      <td>2</td>\n      <td>en</td>\n    </tr>\n    <tr>\n      <th>4487</th>\n      <td>Cathy Guirriec</td>\n      <td>5</td>\n      <td>24</td>\n      <td>Nice restaurant and very good service. I recom...</td>\n      <td>2</td>\n      <td>en</td>\n    </tr>\n  </tbody>\n</table>\n<p>87 rows × 6 columns</p>\n</div>"
     },
     "execution_count": 3,
     "metadata": {},
     "output_type": "execute_result"
    }
   ],
   "source": [
    "from deep_translator import GoogleTranslator\n",
    "\n",
    "def translate_text(df):\n",
    "    for i, row in df.iterrows():\n",
    "        if row['Language'] != 'en':\n",
    "            text = row['Text']\n",
    "            translated_text = GoogleTranslator(source='auto', target='en').translate(text)\n",
    "            df.at[i, 'Text'] = translated_text\n",
    "            df.at[i, 'Language'] = 'en'\n",
    "    return df\n",
    "\n",
    "# Apply the function to the DataFrame\n",
    "df = translate_text(df)\n",
    "df"
   ],
   "metadata": {
    "collapsed": false,
    "ExecuteTime": {
     "end_time": "2023-06-30T10:03:35.712012200Z",
     "start_time": "2023-06-30T10:03:26.809696200Z"
    }
   }
  },
  {
   "attachments": {},
   "cell_type": "markdown",
   "metadata": {},
   "source": [
    "## EDA"
   ]
  },
  {
   "cell_type": "code",
   "execution_count": 4,
   "metadata": {
    "ExecuteTime": {
     "end_time": "2023-06-30T10:03:35.899345500Z",
     "start_time": "2023-06-30T10:03:35.713301Z"
    }
   },
   "outputs": [
    {
     "data": {
      "text/plain": "<Figure size 1000x500 with 1 Axes>",
      "image/png": "[encoded data removed]"
     },
     "metadata": {},
     "output_type": "display_data"
    }
   ],
   "source": [
    "ax = df['grading'].value_counts().sort_index() \\\n",
    "    .plot(kind='bar',\n",
    "          title='Count of Reviews by Stars',\n",
    "          figsize=(10, 5))\n",
    "ax.set_xlabel('Review Stars')\n",
    "plt.show()"
   ]
  },
  {
   "attachments": {},
   "cell_type": "markdown",
   "metadata": {},
   "source": [
    "## Sentiment Analysis"
   ]
  },
  {
   "attachments": {},
   "cell_type": "markdown",
   "metadata": {},
   "source": [
    "### Roberta"
   ]
  },
  {
   "cell_type": "code",
   "execution_count": 5,
   "metadata": {
    "ExecuteTime": {
     "end_time": "2023-06-30T10:03:42.312018900Z",
     "start_time": "2023-06-30T10:03:35.899345500Z"
    }
   },
   "outputs": [
    {
     "name": "stderr",
     "output_type": "stream",
     "text": [
      "C:\\Users\\jacqu\\anaconda3\\lib\\site-packages\\tqdm\\auto.py:21: TqdmWarning: IProgress not found. Please update jupyter and ipywidgets. See https://ipywidgets.readthedocs.io/en/stable/user_install.html\n",
      "  from .autonotebook import tqdm as notebook_tqdm\n"
     ]
    }
   ],
   "source": [
    "from transformers import pipeline\n",
    "from transformers import AutoTokenizer"
   ]
  },
  {
   "cell_type": "code",
   "execution_count": 6,
   "metadata": {
    "ExecuteTime": {
     "end_time": "2023-06-30T10:03:54.639730600Z",
     "start_time": "2023-06-30T10:03:42.319122500Z"
    }
   },
   "outputs": [
    {
     "name": "stderr",
     "output_type": "stream",
     "text": [
      "WARNING[XFORMERS]: xFormers can't load C++/CUDA extensions. xFormers was built for:\n",
      "    PyTorch 2.0.1+cu118 with CUDA 1108 (you have 2.0.1+cpu)\n",
      "    Python  3.10.11 (you have 3.10.9)\n",
      "  Please reinstall xformers (see https://github.com/facebookresearch/xformers#installing-xformers)\n",
      "  Memory-efficient attention, SwiGLU, sparse and more won't be available.\n",
      "  Set XFORMERS_MORE_DETAILS=1 for more details\n"
     ]
    },
    {
     "data": {
      "text/plain": "                    Name  grading  date  \\\nID                                        \n1          Wissem Smaali        1    11   \n2             ted tenore        1     4   \n3                Sly yo!        1     4   \n4              Emiie.R D        1     1   \n5                Michael        1     1   \n...                  ...      ...   ...   \n3599        sonia bobrie        5     3   \n4482  Aleksander Callaud        5    24   \n4483  La fée toute seule        5    10   \n4484    nicolas gauthier        5    12   \n4487      Cathy Guirriec        5    24   \n\n                                                   Text Target Language  \\\nID                                                                        \n1     To avoid\\nThe Piraeus bakery in Vitry, the sal...      0       en   \n2     I specify the star I give it only for the croi...      0       en   \n3     Too bad for the pastry chef who struggles and ...      0       en   \n4     Too bad the products are very good but the sal...      0       en   \n5     If I could put -1000 I would have, I asked for...      0       en   \n...                                                 ...    ...      ...   \n3599  Quality service in the dressing room/storage d...      2       en   \n4482  Very good restaurant, with very friendly staff...      2       en   \n4483  A safe bet in Beauvais. Good reception and fai...      2       en   \n4484  Very good burger, and very good draft beer. Go...      2       en   \n4487  Nice restaurant and very good service. I recom...      2       en   \n\n     label (roberta)  score (roberta)  \nID                                     \n1           NEGATIVE         0.889870  \n2           NEGATIVE         0.558830  \n3           NEGATIVE         0.916203  \n4           NEGATIVE         0.777332  \n5            NEUTRAL         0.500744  \n...              ...              ...  \n3599        POSITIVE         0.989260  \n4482        POSITIVE         0.987408  \n4483        POSITIVE         0.952969  \n4484        POSITIVE         0.974670  \n4487        POSITIVE         0.987349  \n\n[87 rows x 8 columns]",
      "text/html": "<div>\n<style scoped>\n    .dataframe tbody tr th:only-of-type {\n        vertical-align: middle;\n    }\n\n    .dataframe tbody tr th {\n        vertical-align: top;\n    }\n\n    .dataframe thead th {\n        text-align: right;\n    }\n</style>\n<table border=\"1\" class=\"dataframe\">\n  <thead>\n    <tr style=\"text-align: right;\">\n      <th></th>\n      <th>Name</th>\n      <th>grading</th>\n      <th>date</th>\n      <th>Text</th>\n      <th>Target</th>\n      <th>Language</th>\n      <th>label (roberta)</th>\n      <th>score (roberta)</th>\n    </tr>\n    <tr>\n      <th>ID</th>\n      <th></th>\n      <th></th>\n      <th></th>\n      <th></th>\n      <th></th>\n      <th></th>\n      <th></th>\n      <th></th>\n    </tr>\n  </thead>\n  <tbody>\n    <tr>\n      <th>1</th>\n      <td>Wissem Smaali</td>\n      <td>1</td>\n      <td>11</td>\n      <td>To avoid\\nThe Piraeus bakery in Vitry, the sal...</td>\n      <td>0</td>\n      <td>en</td>\n      <td>NEGATIVE</td>\n      <td>0.889870</td>\n    </tr>\n    <tr>\n      <th>2</th>\n      <td>ted tenore</td>\n      <td>1</td>\n      <td>4</td>\n      <td>I specify the star I give it only for the croi...</td>\n      <td>0</td>\n      <td>en</td>\n      <td>NEGATIVE</td>\n      <td>0.558830</td>\n    </tr>\n    <tr>\n      <th>3</th>\n      <td>Sly yo!</td>\n      <td>1</td>\n      <td>4</td>\n      <td>Too bad for the pastry chef who struggles and ...</td>\n      <td>0</td>\n      <td>en</td>\n      <td>NEGATIVE</td>\n      <td>0.916203</td>\n    </tr>\n    <tr>\n      <th>4</th>\n      <td>Emiie.R D</td>\n      <td>1</td>\n      <td>1</td>\n      <td>Too bad the products are very good but the sal...</td>\n      <td>0</td>\n      <td>en</td>\n      <td>NEGATIVE</td>\n      <td>0.777332</td>\n    </tr>\n    <tr>\n      <th>5</th>\n      <td>Michael</td>\n      <td>1</td>\n      <td>1</td>\n      <td>If I could put -1000 I would have, I asked for...</td>\n      <td>0</td>\n      <td>en</td>\n      <td>NEUTRAL</td>\n      <td>0.500744</td>\n    </tr>\n    <tr>\n      <th>...</th>\n      <td>...</td>\n      <td>...</td>\n      <td>...</td>\n      <td>...</td>\n      <td>...</td>\n      <td>...</td>\n      <td>...</td>\n      <td>...</td>\n    </tr>\n    <tr>\n      <th>3599</th>\n      <td>sonia bobrie</td>\n      <td>5</td>\n      <td>3</td>\n      <td>Quality service in the dressing room/storage d...</td>\n      <td>2</td>\n      <td>en</td>\n      <td>POSITIVE</td>\n      <td>0.989260</td>\n    </tr>\n    <tr>\n      <th>4482</th>\n      <td>Aleksander Callaud</td>\n      <td>5</td>\n      <td>24</td>\n      <td>Very good restaurant, with very friendly staff...</td>\n      <td>2</td>\n      <td>en</td>\n      <td>POSITIVE</td>\n      <td>0.987408</td>\n    </tr>\n    <tr>\n      <th>4483</th>\n      <td>La fée toute seule</td>\n      <td>5</td>\n      <td>10</td>\n      <td>A safe bet in Beauvais. Good reception and fai...</td>\n      <td>2</td>\n      <td>en</td>\n      <td>POSITIVE</td>\n      <td>0.952969</td>\n    </tr>\n    <tr>\n      <th>4484</th>\n      <td>nicolas gauthier</td>\n      <td>5</td>\n      <td>12</td>\n      <td>Very good burger, and very good draft beer. Go...</td>\n      <td>2</td>\n      <td>en</td>\n      <td>POSITIVE</td>\n      <td>0.974670</td>\n    </tr>\n    <tr>\n      <th>4487</th>\n      <td>Cathy Guirriec</td>\n      <td>5</td>\n      <td>24</td>\n      <td>Nice restaurant and very good service. I recom...</td>\n      <td>2</td>\n      <td>en</td>\n      <td>POSITIVE</td>\n      <td>0.987349</td>\n    </tr>\n  </tbody>\n</table>\n<p>87 rows × 8 columns</p>\n</div>"
     },
     "execution_count": 6,
     "metadata": {},
     "output_type": "execute_result"
    }
   ],
   "source": [
    "# Sentiment Analysis with Roberta\n",
    "\n",
    "tokenizer = AutoTokenizer.from_pretrained(\"cardiffnlp/twitter-roberta-base-sentiment\")\n",
    "\n",
    "nlp = pipeline(\"sentiment-analysis\", model=\"cardiffnlp/twitter-roberta-base-sentiment\", tokenizer=tokenizer)\n",
    "\n",
    "res = pd.DataFrame(columns=['label', 'score'])\n",
    "for index, row in df.iterrows():\n",
    "    text = row['Text']\n",
    "    langue = row['Language']\n",
    "\n",
    "    # If the language is English and the token length doesn't exceed the limit\n",
    "    if langue == 'en':\n",
    "        tokens = tokenizer.encode(text, return_tensors='pt')\n",
    "\n",
    "        if len(tokens[0]) <= 512:\n",
    "            dict = pd.DataFrame(nlp(text))\n",
    "            dict['ID'] = index\n",
    "            res = pd.concat([res, dict], axis=0)\n",
    "\n",
    "# Remplacement des valeurs\n",
    "res['label'] = res['label'].replace('LABEL_0', 'NEGATIVE')\n",
    "res['label'] = res['label'].replace('LABEL_1', 'NEUTRAL')\n",
    "res['label'] = res['label'].replace('LABEL_2', 'POSITIVE')\n",
    "res[\"ID\"] = res['ID'].astype(int)\n",
    "res = res.rename(columns={\"label\": \"label (roberta)\", \"score\": \"score (roberta)\"})\n",
    "res.set_index('ID', inplace=True)\n",
    "\n",
    "# Merge the two dataframes\n",
    "df = df.merge(res, left_index=True, right_index=True, how='left')\n",
    "df\n"
   ]
  },
  {
   "attachments": {},
   "cell_type": "markdown",
   "metadata": {},
   "source": [
    "## Exportation des données"
   ]
  },
  {
   "cell_type": "code",
   "execution_count": 9,
   "metadata": {
    "ExecuteTime": {
     "end_time": "2023-06-30T10:03:54.742492400Z",
     "start_time": "2023-06-30T10:03:54.673811700Z"
    }
   },
   "outputs": [],
   "source": [
    "import csv\n",
    "\n",
    "chemin_fichier = 'processed_data.csv'\n",
    "\n",
    "# Exporter le DataFrame dans un fichier CSV\n",
    "df.to_csv(chemin_fichier, index=False)"
   ]
  },
  {
   "cell_type": "markdown",
   "source": [
    "## Score du modèle"
   ],
   "metadata": {
    "collapsed": false
   }
  },
  {
   "cell_type": "code",
   "execution_count": 10,
   "outputs": [
    {
     "name": "stdout",
     "output_type": "stream",
     "text": [
      "(5015, 5)\n"
     ]
    },
    {
     "data": {
      "text/plain": "            Name grading           date  \\\n0    Alvin Alias  1 star   7 months ago   \n1  Wissem Smaali  1 star  11 months ago   \n2     ted tenore  1 star   4 months ago   \n3        Sly yo!  1 star   4 months ago   \n4      Emiie.R D  1 star    a month ago   \n\n                                                Text Target  \n0                   Over priced and unfriendly staff    NaN  \n1  À éviter\\nLe Pirée boulangerie de Vitry , le v...      0  \n2  Je précise l’étoile je le donne que pour les c...      0  \n3  Dommage pour le pâtissier qui ce démène et mes...      0  \n4  Dommage les produits sont très bon mais les ve...      0  ",
      "text/html": "<div>\n<style scoped>\n    .dataframe tbody tr th:only-of-type {\n        vertical-align: middle;\n    }\n\n    .dataframe tbody tr th {\n        vertical-align: top;\n    }\n\n    .dataframe thead th {\n        text-align: right;\n    }\n</style>\n<table border=\"1\" class=\"dataframe\">\n  <thead>\n    <tr style=\"text-align: right;\">\n      <th></th>\n      <th>Name</th>\n      <th>grading</th>\n      <th>date</th>\n      <th>Text</th>\n      <th>Target</th>\n    </tr>\n  </thead>\n  <tbody>\n    <tr>\n      <th>0</th>\n      <td>Alvin Alias</td>\n      <td>1 star</td>\n      <td>7 months ago</td>\n      <td>Over priced and unfriendly staff</td>\n      <td>NaN</td>\n    </tr>\n    <tr>\n      <th>1</th>\n      <td>Wissem Smaali</td>\n      <td>1 star</td>\n      <td>11 months ago</td>\n      <td>À éviter\\nLe Pirée boulangerie de Vitry , le v...</td>\n      <td>0</td>\n    </tr>\n    <tr>\n      <th>2</th>\n      <td>ted tenore</td>\n      <td>1 star</td>\n      <td>4 months ago</td>\n      <td>Je précise l’étoile je le donne que pour les c...</td>\n      <td>0</td>\n    </tr>\n    <tr>\n      <th>3</th>\n      <td>Sly yo!</td>\n      <td>1 star</td>\n      <td>4 months ago</td>\n      <td>Dommage pour le pâtissier qui ce démène et mes...</td>\n      <td>0</td>\n    </tr>\n    <tr>\n      <th>4</th>\n      <td>Emiie.R D</td>\n      <td>1 star</td>\n      <td>a month ago</td>\n      <td>Dommage les produits sont très bon mais les ve...</td>\n      <td>0</td>\n    </tr>\n  </tbody>\n</table>\n</div>"
     },
     "execution_count": 10,
     "metadata": {},
     "output_type": "execute_result"
    }
   ],
   "source": [
    "test_df = pd.read_csv('dataset1.csv', sep=';')\n",
    "# test_df = pd.read_csv('data.csv')\n",
    "print(test_df.shape)\n",
    "test_df.head()"
   ],
   "metadata": {
    "collapsed": false,
    "ExecuteTime": {
     "end_time": "2023-06-30T10:03:54.783525800Z",
     "start_time": "2023-06-30T10:03:54.688132400Z"
    }
   }
  },
  {
   "cell_type": "code",
   "execution_count": 11,
   "outputs": [
    {
     "data": {
      "text/plain": "(87, 5)"
     },
     "execution_count": 11,
     "metadata": {},
     "output_type": "execute_result"
    }
   ],
   "source": [
    "test_df = test_df.dropna()\n",
    "test_df.shape"
   ],
   "metadata": {
    "collapsed": false,
    "ExecuteTime": {
     "end_time": "2023-06-30T10:03:54.870948900Z",
     "start_time": "2023-06-30T10:03:54.738416700Z"
    }
   }
  },
  {
   "cell_type": "code",
   "execution_count": 12,
   "outputs": [
    {
     "data": {
      "text/plain": "1       À éviter\\nLe Pirée boulangerie de Vitry , le v...\n2       Je précise l’étoile je le donne que pour les c...\n3       Dommage pour le pâtissier qui ce démène et mes...\n4       Dommage les produits sont très bon mais les ve...\n5       Si je pouvais mettre -1000 je l’aurais fait, j...\n                              ...                        \n3599    Service de qualité au rayon dressing/rangement...\n4482    Très bon restaurant, avec un personnel très sy...\n4483    Une valeur sûre à Beauvais. Bon accueil et tar...\n4484    Très bon burger, et très bonne bière en pressi...\n4487    Restaurant sympa et très bon service. Je recom...\nName: Text, Length: 87, dtype: object"
     },
     "execution_count": 12,
     "metadata": {},
     "output_type": "execute_result"
    }
   ],
   "source": [
    "X_test = test_df['Text']\n",
    "y_test = test_df['Target']\n",
    "X_test"
   ],
   "metadata": {
    "collapsed": false,
    "ExecuteTime": {
     "end_time": "2023-06-30T10:03:54.871952800Z",
     "start_time": "2023-06-30T10:03:54.749501Z"
    }
   }
  },
  {
   "cell_type": "code",
   "execution_count": 13,
   "outputs": [
    {
     "data": {
      "text/plain": "1       To avoid\\nThe Piraeus bakery in Vitry, the sal...\n2       I specify the star I give it only for the croi...\n3       Too bad for the pastry chef who struggles and ...\n4       Too bad the products are very good but the sal...\n5       If I could put -1000 I would have, I asked for...\n                              ...                        \n3599    Quality service in the dressing room/storage d...\n4482    Very good restaurant, with very friendly staff...\n4483    A safe bet in Beauvais. Good reception and fai...\n4484    Very good burger, and very good draft beer. Go...\n4487    Nice restaurant and very good service. I recom...\nName: Text, Length: 87, dtype: object"
     },
     "execution_count": 13,
     "metadata": {},
     "output_type": "execute_result"
    }
   ],
   "source": [
    "# Traduire les phrases en anglais\n",
    "\n",
    "X_test = X_test.apply(GoogleTranslator(source='auto', target='en').translate)\n",
    "X_test"
   ],
   "metadata": {
    "collapsed": false,
    "ExecuteTime": {
     "end_time": "2023-06-30T10:04:03.621241400Z",
     "start_time": "2023-06-30T10:03:54.766879800Z"
    }
   }
  },
  {
   "cell_type": "code",
   "execution_count": 14,
   "outputs": [],
   "source": [
    "y_pred = X_test.apply(lambda x: nlp(x)[0]['label'])"
   ],
   "metadata": {
    "collapsed": false,
    "ExecuteTime": {
     "end_time": "2023-06-30T10:04:12.720156200Z",
     "start_time": "2023-06-30T10:04:03.615507Z"
    }
   }
  },
  {
   "cell_type": "code",
   "execution_count": 15,
   "outputs": [
    {
     "data": {
      "text/plain": "1       0\n2       0\n3       0\n4       0\n5       1\n       ..\n3599    2\n4482    2\n4483    2\n4484    2\n4487    2\nName: Text, Length: 87, dtype: int64"
     },
     "execution_count": 15,
     "metadata": {},
     "output_type": "execute_result"
    }
   ],
   "source": [
    "# remplacer LABEL_0 par 0, LABEL_1 par 1 et LABEL_2 par 2\n",
    "y_pred = y_pred.replace('LABEL_0', 0)\n",
    "y_pred = y_pred.replace('LABEL_1', 1)\n",
    "y_pred = y_pred.replace('LABEL_2', 2)\n",
    "y_pred"
   ],
   "metadata": {
    "collapsed": false,
    "ExecuteTime": {
     "end_time": "2023-06-30T10:04:12.734679200Z",
     "start_time": "2023-06-30T10:04:12.720156200Z"
    }
   }
  },
  {
   "cell_type": "code",
   "execution_count": 16,
   "outputs": [],
   "source": [
    "def accuracy(y_test, y_pred):\n",
    "    return np.mean(y_test == y_pred)"
   ],
   "metadata": {
    "collapsed": false,
    "ExecuteTime": {
     "end_time": "2023-06-30T10:04:12.759268900Z",
     "start_time": "2023-06-30T10:04:12.737019900Z"
    }
   }
  },
  {
   "cell_type": "code",
   "execution_count": 17,
   "outputs": [],
   "source": [
    "# Remplacer la valeur de la ligne 1515 par 0\n",
    "y_test = y_test.replace('À', 0)"
   ],
   "metadata": {
    "collapsed": false,
    "ExecuteTime": {
     "end_time": "2023-06-30T10:04:12.767749Z",
     "start_time": "2023-06-30T10:04:12.752222600Z"
    }
   }
  },
  {
   "cell_type": "code",
   "execution_count": 18,
   "outputs": [],
   "source": [
    "y_pred = y_pred.astype(int)\n",
    "y_test = y_test.astype(int)"
   ],
   "metadata": {
    "collapsed": false,
    "ExecuteTime": {
     "end_time": "2023-06-30T10:04:12.787538300Z",
     "start_time": "2023-06-30T10:04:12.767749Z"
    }
   }
  },
  {
   "cell_type": "code",
   "execution_count": 19,
   "outputs": [
    {
     "name": "stdout",
     "output_type": "stream",
     "text": [
      "Accuracy: 0.70\n"
     ]
    }
   ],
   "source": [
    "score = accuracy(y_test, y_pred)\n",
    "print(f\"Accuracy: {score:.2f}\")"
   ],
   "metadata": {
    "collapsed": false,
    "ExecuteTime": {
     "end_time": "2023-06-30T10:04:12.825541100Z",
     "start_time": "2023-06-30T10:04:12.785535600Z"
    }
   }
  },
  {
   "cell_type": "markdown",
   "source": [],
   "metadata": {
    "collapsed": false
   }
  }
 ],
 "metadata": {
  "kernelspec": {
   "display_name": "Python 3",
   "language": "python",
   "name": "python3"
  },
  "language_info": {
   "codemirror_mode": {
    "name": "ipython",
    "version": 3
   },
   "file_extension": ".py",
   "mimetype": "text/x-python",
   "name": "python",
   "nbconvert_exporter": "python",
   "pygments_lexer": "ipython3",
   "version": "3.9.1"
  },
  "orig_nbformat": 4
 },
 "nbformat": 4,
 "nbformat_minor": 2
}
