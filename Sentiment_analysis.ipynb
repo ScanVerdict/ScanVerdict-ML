{
 "cells": [
  {
   "cell_type": "code",
   "execution_count": 63,
   "metadata": {
    "ExecuteTime": {
     "end_time": "2023-06-20T16:25:01.363133500Z",
     "start_time": "2023-06-20T16:25:01.331624900Z"
    }
   },
   "outputs": [],
   "source": [
    "import pandas as pd\n",
    "import matplotlib.pyplot as plt\n",
    "from langdetect import detect, DetectorFactory\n",
    "from langdetect.lang_detect_exception import LangDetectException\n",
    "import numpy as np"
   ]
  },
  {
   "cell_type": "code",
   "execution_count": 64,
   "metadata": {
    "ExecuteTime": {
     "end_time": "2023-06-20T16:25:02.347234900Z",
     "start_time": "2023-06-20T16:25:01.363133500Z"
    }
   },
   "outputs": [
    {
     "data": {
      "text/plain": "                    Name  grading                        date  \\\nID                                                              \n1          Wissem Smaali        1  {'months': 11, 'years': 0}   \n2             ted tenore        1   {'months': 4, 'years': 0}   \n3                Sly yo!        1   {'months': 4, 'years': 0}   \n4              Emiie.R D        1   {'months': 1, 'years': 0}   \n5                Michael        1   {'months': 1, 'years': 0}   \n...                  ...      ...                         ...   \n3599        sonia bobrie        5   {'months': 3, 'years': 0}   \n4482  Aleksander Callaud        5  {'months': 24, 'years': 2}   \n4483  La fée toute seule        5  {'months': 10, 'years': 0}   \n4484    nicolas gauthier        5  {'months': 12, 'years': 1}   \n4487      Cathy Guirriec        5  {'months': 24, 'years': 2}   \n\n                                                   Text Target Language  \nID                                                                       \n1     À éviter\\nLe Pirée boulangerie de Vitry , le v...      0       fr  \n2     Je précise l’étoile je le donne que pour les c...      0       fr  \n3     Dommage pour le pâtissier qui ce démène et mes...      0       fr  \n4     Dommage les produits sont très bon mais les ve...      0       fr  \n5     Si je pouvais mettre -1000 je l’aurais fait, j...      0       fr  \n...                                                 ...    ...      ...  \n3599  Service de qualité au rayon dressing/rangement...      2       fr  \n4482  Très bon restaurant, avec un personnel très sy...      2       fr  \n4483  Une valeur sûre à Beauvais. Bon accueil et tar...      2       fr  \n4484  Très bon burger, et très bonne bière en pressi...      2       fr  \n4487  Restaurant sympa et très bon service. Je recom...      2       fr  \n\n[87 rows x 6 columns]",
      "text/html": "<div>\n<style scoped>\n    .dataframe tbody tr th:only-of-type {\n        vertical-align: middle;\n    }\n\n    .dataframe tbody tr th {\n        vertical-align: top;\n    }\n\n    .dataframe thead th {\n        text-align: right;\n    }\n</style>\n<table border=\"1\" class=\"dataframe\">\n  <thead>\n    <tr style=\"text-align: right;\">\n      <th></th>\n      <th>Name</th>\n      <th>grading</th>\n      <th>date</th>\n      <th>Text</th>\n      <th>Target</th>\n      <th>Language</th>\n    </tr>\n    <tr>\n      <th>ID</th>\n      <th></th>\n      <th></th>\n      <th></th>\n      <th></th>\n      <th></th>\n      <th></th>\n    </tr>\n  </thead>\n  <tbody>\n    <tr>\n      <th>1</th>\n      <td>Wissem Smaali</td>\n      <td>1</td>\n      <td>{'months': 11, 'years': 0}</td>\n      <td>À éviter\\nLe Pirée boulangerie de Vitry , le v...</td>\n      <td>0</td>\n      <td>fr</td>\n    </tr>\n    <tr>\n      <th>2</th>\n      <td>ted tenore</td>\n      <td>1</td>\n      <td>{'months': 4, 'years': 0}</td>\n      <td>Je précise l’étoile je le donne que pour les c...</td>\n      <td>0</td>\n      <td>fr</td>\n    </tr>\n    <tr>\n      <th>3</th>\n      <td>Sly yo!</td>\n      <td>1</td>\n      <td>{'months': 4, 'years': 0}</td>\n      <td>Dommage pour le pâtissier qui ce démène et mes...</td>\n      <td>0</td>\n      <td>fr</td>\n    </tr>\n    <tr>\n      <th>4</th>\n      <td>Emiie.R D</td>\n      <td>1</td>\n      <td>{'months': 1, 'years': 0}</td>\n      <td>Dommage les produits sont très bon mais les ve...</td>\n      <td>0</td>\n      <td>fr</td>\n    </tr>\n    <tr>\n      <th>5</th>\n      <td>Michael</td>\n      <td>1</td>\n      <td>{'months': 1, 'years': 0}</td>\n      <td>Si je pouvais mettre -1000 je l’aurais fait, j...</td>\n      <td>0</td>\n      <td>fr</td>\n    </tr>\n    <tr>\n      <th>...</th>\n      <td>...</td>\n      <td>...</td>\n      <td>...</td>\n      <td>...</td>\n      <td>...</td>\n      <td>...</td>\n    </tr>\n    <tr>\n      <th>3599</th>\n      <td>sonia bobrie</td>\n      <td>5</td>\n      <td>{'months': 3, 'years': 0}</td>\n      <td>Service de qualité au rayon dressing/rangement...</td>\n      <td>2</td>\n      <td>fr</td>\n    </tr>\n    <tr>\n      <th>4482</th>\n      <td>Aleksander Callaud</td>\n      <td>5</td>\n      <td>{'months': 24, 'years': 2}</td>\n      <td>Très bon restaurant, avec un personnel très sy...</td>\n      <td>2</td>\n      <td>fr</td>\n    </tr>\n    <tr>\n      <th>4483</th>\n      <td>La fée toute seule</td>\n      <td>5</td>\n      <td>{'months': 10, 'years': 0}</td>\n      <td>Une valeur sûre à Beauvais. Bon accueil et tar...</td>\n      <td>2</td>\n      <td>fr</td>\n    </tr>\n    <tr>\n      <th>4484</th>\n      <td>nicolas gauthier</td>\n      <td>5</td>\n      <td>{'months': 12, 'years': 1}</td>\n      <td>Très bon burger, et très bonne bière en pressi...</td>\n      <td>2</td>\n      <td>fr</td>\n    </tr>\n    <tr>\n      <th>4487</th>\n      <td>Cathy Guirriec</td>\n      <td>5</td>\n      <td>{'months': 24, 'years': 2}</td>\n      <td>Restaurant sympa et très bon service. Je recom...</td>\n      <td>2</td>\n      <td>fr</td>\n    </tr>\n  </tbody>\n</table>\n<p>87 rows × 6 columns</p>\n</div>"
     },
     "execution_count": 64,
     "metadata": {},
     "output_type": "execute_result"
    }
   ],
   "source": [
    "# Convertir le dictionnaire en DataFrame\n",
    "\n",
    "df = pd.read_csv('dataset1.csv', sep=';')\n",
    "df = df.dropna()\n",
    "\n",
    "# Remplacer les valeurs dans grading par des int\n",
    "df[\"grading\"] = [int(x[0]) if x[0].isdigit() and \"/\" not in x else int(5*float(x.split('/')[0])/float(x.split('/')[1])) for x in df[\"grading\"]]\n",
    "\n",
    "# Remplace date par un dictionnaire {months: number, years: number}\n",
    "def transform_date(date):\n",
    "    weeks_or_days = ['week', 'day', 'semaine', 'jour']\n",
    "    date_array = date.split()\n",
    "    if any(word in date_array for word in weeks_or_days):\n",
    "        return {'months': 0, 'years': 0}\n",
    "    elif 'month' in date or 'mois' in date:\n",
    "        if date_array[0].isdigit():\n",
    "            return {'months': int(date_array[0]), 'years': 0}\n",
    "        return {'months': 1, 'years': 0}\n",
    "    elif date_array[0].isdigit():\n",
    "        return {'months': int(date_array[0])*12, 'years': int(date_array[0])}\n",
    "    return {'months': 12, 'years': 1}\n",
    "\n",
    "df[\"date\"] = df[\"date\"].apply(transform_date)\n",
    "\n",
    "df.index_name = 'ID'\n",
    "# Renommer la colonne d'index en \"ID\"\n",
    "df = df.rename_axis('ID').reset_index()\n",
    "df.set_index('ID', inplace=True)\n",
    "# Ajouter la colonne Language à la DataFrame\n",
    "\n",
    "# Pour que les détections soient consistent\n",
    "DetectorFactory.seed = 0\n",
    "def detect_language(text):\n",
    "    try:\n",
    "        return detect(text)\n",
    "    except LangDetectException:\n",
    "        return 'unknown'\n",
    "\n",
    "df['Language'] = df['Text'].apply(detect_language)\n",
    "df.drop(df.loc[df['Language'] == 'unknown'].index, inplace=True)\n",
    "\n",
    "df"
   ]
  },
  {
   "cell_type": "markdown",
   "source": [
    "## Translation"
   ],
   "metadata": {
    "collapsed": false
   }
  },
  {
   "cell_type": "code",
   "execution_count": 65,
   "outputs": [
    {
     "data": {
      "text/plain": "                    Name  grading                        date  \\\nID                                                              \n1          Wissem Smaali        1  {'months': 11, 'years': 0}   \n2             ted tenore        1   {'months': 4, 'years': 0}   \n3                Sly yo!        1   {'months': 4, 'years': 0}   \n4              Emiie.R D        1   {'months': 1, 'years': 0}   \n5                Michael        1   {'months': 1, 'years': 0}   \n...                  ...      ...                         ...   \n3599        sonia bobrie        5   {'months': 3, 'years': 0}   \n4482  Aleksander Callaud        5  {'months': 24, 'years': 2}   \n4483  La fée toute seule        5  {'months': 10, 'years': 0}   \n4484    nicolas gauthier        5  {'months': 12, 'years': 1}   \n4487      Cathy Guirriec        5  {'months': 24, 'years': 2}   \n\n                                                   Text Target Language  \nID                                                                       \n1     To avoid\\nThe Piraeus bakery in Vitry, the sal...      0       en  \n2     I specify the star I give it only for the croi...      0       en  \n3     Too bad for the pastry chef who struggles and ...      0       en  \n4     Too bad the products are very good but the sal...      0       en  \n5     If I could put -1000 I would have, I asked for...      0       en  \n...                                                 ...    ...      ...  \n3599  Quality service in the dressing room/storage d...      2       en  \n4482  Very good restaurant, with very friendly staff...      2       en  \n4483  A safe bet in Beauvais. Good reception and fai...      2       en  \n4484  Very good burger, and very good draft beer. Go...      2       en  \n4487  Nice restaurant and very good service. I recom...      2       en  \n\n[87 rows x 6 columns]",
      "text/html": "<div>\n<style scoped>\n    .dataframe tbody tr th:only-of-type {\n        vertical-align: middle;\n    }\n\n    .dataframe tbody tr th {\n        vertical-align: top;\n    }\n\n    .dataframe thead th {\n        text-align: right;\n    }\n</style>\n<table border=\"1\" class=\"dataframe\">\n  <thead>\n    <tr style=\"text-align: right;\">\n      <th></th>\n      <th>Name</th>\n      <th>grading</th>\n      <th>date</th>\n      <th>Text</th>\n      <th>Target</th>\n      <th>Language</th>\n    </tr>\n    <tr>\n      <th>ID</th>\n      <th></th>\n      <th></th>\n      <th></th>\n      <th></th>\n      <th></th>\n      <th></th>\n    </tr>\n  </thead>\n  <tbody>\n    <tr>\n      <th>1</th>\n      <td>Wissem Smaali</td>\n      <td>1</td>\n      <td>{'months': 11, 'years': 0}</td>\n      <td>To avoid\\nThe Piraeus bakery in Vitry, the sal...</td>\n      <td>0</td>\n      <td>en</td>\n    </tr>\n    <tr>\n      <th>2</th>\n      <td>ted tenore</td>\n      <td>1</td>\n      <td>{'months': 4, 'years': 0}</td>\n      <td>I specify the star I give it only for the croi...</td>\n      <td>0</td>\n      <td>en</td>\n    </tr>\n    <tr>\n      <th>3</th>\n      <td>Sly yo!</td>\n      <td>1</td>\n      <td>{'months': 4, 'years': 0}</td>\n      <td>Too bad for the pastry chef who struggles and ...</td>\n      <td>0</td>\n      <td>en</td>\n    </tr>\n    <tr>\n      <th>4</th>\n      <td>Emiie.R D</td>\n      <td>1</td>\n      <td>{'months': 1, 'years': 0}</td>\n      <td>Too bad the products are very good but the sal...</td>\n      <td>0</td>\n      <td>en</td>\n    </tr>\n    <tr>\n      <th>5</th>\n      <td>Michael</td>\n      <td>1</td>\n      <td>{'months': 1, 'years': 0}</td>\n      <td>If I could put -1000 I would have, I asked for...</td>\n      <td>0</td>\n      <td>en</td>\n    </tr>\n    <tr>\n      <th>...</th>\n      <td>...</td>\n      <td>...</td>\n      <td>...</td>\n      <td>...</td>\n      <td>...</td>\n      <td>...</td>\n    </tr>\n    <tr>\n      <th>3599</th>\n      <td>sonia bobrie</td>\n      <td>5</td>\n      <td>{'months': 3, 'years': 0}</td>\n      <td>Quality service in the dressing room/storage d...</td>\n      <td>2</td>\n      <td>en</td>\n    </tr>\n    <tr>\n      <th>4482</th>\n      <td>Aleksander Callaud</td>\n      <td>5</td>\n      <td>{'months': 24, 'years': 2}</td>\n      <td>Very good restaurant, with very friendly staff...</td>\n      <td>2</td>\n      <td>en</td>\n    </tr>\n    <tr>\n      <th>4483</th>\n      <td>La fée toute seule</td>\n      <td>5</td>\n      <td>{'months': 10, 'years': 0}</td>\n      <td>A safe bet in Beauvais. Good reception and fai...</td>\n      <td>2</td>\n      <td>en</td>\n    </tr>\n    <tr>\n      <th>4484</th>\n      <td>nicolas gauthier</td>\n      <td>5</td>\n      <td>{'months': 12, 'years': 1}</td>\n      <td>Very good burger, and very good draft beer. Go...</td>\n      <td>2</td>\n      <td>en</td>\n    </tr>\n    <tr>\n      <th>4487</th>\n      <td>Cathy Guirriec</td>\n      <td>5</td>\n      <td>{'months': 24, 'years': 2}</td>\n      <td>Nice restaurant and very good service. I recom...</td>\n      <td>2</td>\n      <td>en</td>\n    </tr>\n  </tbody>\n</table>\n<p>87 rows × 6 columns</p>\n</div>"
     },
     "execution_count": 65,
     "metadata": {},
     "output_type": "execute_result"
    }
   ],
   "source": [
    "\"\"\"#pip install google-cloud-translate==2.0.1\n",
    "from google.cloud import translate_v2 as translate\n",
    "import os, json\n",
    "from dotenv import load_dotenv\n",
    "load_dotenv()\n",
    "\n",
    "CREDENTIALS = json.loads(os.environ.get('CREDENTIALS'))\n",
    "\n",
    "if os.path.exists('credentials.json'):\n",
    "    pass\n",
    "else:\n",
    "    with open('credentials.json', 'w') as credFile:\n",
    "        json.dump(CREDENTIALS, credFile)\n",
    "os.environ['GOOGLE_APPLICATION_CREDENTIALS'] = 'credentials.json'\n",
    "\n",
    "def translate_text(row):\n",
    "    translate_client = translate.Client()\n",
    "\n",
    "    text = row['Text']\n",
    "    if isinstance(text, bytes):\n",
    "        text = text.decode(\"utf-8\")\n",
    "\n",
    "    # Only translate the text if the language isn't 'en'.\n",
    "    if row['Language'] != 'en':\n",
    "        try:\n",
    "            result = translate_client.translate(text, target_language='en')\n",
    "            return pd.Series([result[\"translatedText\"], 'en'])\n",
    "        except Exception:\n",
    "            return pd.Series([text, row['Language']])  # if translation fails, return original text and language\n",
    "    else:\n",
    "        return pd.Series([text, row['Language']])  # if text is already in English, return original text and language\n",
    "\n",
    "df[['Text', 'Language']] = df.apply(translate_text, axis=1)\n",
    "df\n",
    "\"\"\"\n",
    "\n",
    "from deep_translator import GoogleTranslator\n",
    "\n",
    "def translate_text(df):\n",
    "    for i, row in df.iterrows():\n",
    "        if row['Language'] != 'en':\n",
    "            text = row['Text']\n",
    "            translated_text = GoogleTranslator(source='auto', target='en').translate(text)\n",
    "            df.at[i, 'Text'] = translated_text\n",
    "            df.at[i, 'Language'] = 'en'\n",
    "    return df\n",
    "\n",
    "# Apply the function to the DataFrame\n",
    "df = translate_text(df)\n",
    "df"
   ],
   "metadata": {
    "collapsed": false,
    "ExecuteTime": {
     "end_time": "2023-06-20T16:25:13.409399800Z",
     "start_time": "2023-06-20T16:25:02.340698400Z"
    }
   }
  },
  {
   "attachments": {},
   "cell_type": "markdown",
   "metadata": {},
   "source": [
    "## EDA"
   ]
  },
  {
   "cell_type": "code",
   "execution_count": 66,
   "metadata": {
    "ExecuteTime": {
     "end_time": "2023-06-20T16:25:13.798537800Z",
     "start_time": "2023-06-20T16:25:13.413060500Z"
    }
   },
   "outputs": [
    {
     "data": {
      "text/plain": "<Figure size 1000x500 with 1 Axes>",
      "image/png": "[encoded data removed]"
     },
     "metadata": {},
     "output_type": "display_data"
    }
   ],
   "source": [
    "ax = df['grading'].value_counts().sort_index() \\\n",
    "    .plot(kind='bar',\n",
    "          title='Count of Reviews by Stars',\n",
    "          figsize=(10, 5))\n",
    "ax.set_xlabel('Review Stars')\n",
    "plt.show()"
   ]
  },
  {
   "attachments": {},
   "cell_type": "markdown",
   "metadata": {},
   "source": [
    "## Sentiment Analysis"
   ]
  },
  {
   "attachments": {},
   "cell_type": "markdown",
   "metadata": {},
   "source": [
    "### Roberta"
   ]
  },
  {
   "cell_type": "code",
   "execution_count": 67,
   "metadata": {
    "ExecuteTime": {
     "end_time": "2023-06-20T16:25:13.810824600Z",
     "start_time": "2023-06-20T16:25:13.796522700Z"
    }
   },
   "outputs": [],
   "source": [
    "from transformers import pipeline\n",
    "from transformers import AutoTokenizer"
   ]
  },
  {
   "cell_type": "code",
   "execution_count": 68,
   "metadata": {
    "ExecuteTime": {
     "end_time": "2023-06-20T16:25:33.113206800Z",
     "start_time": "2023-06-20T16:25:13.810824600Z"
    }
   },
   "outputs": [
    {
     "data": {
      "text/plain": "                    Name  grading                        date  \\\nID                                                              \n1          Wissem Smaali        1  {'months': 11, 'years': 0}   \n2             ted tenore        1   {'months': 4, 'years': 0}   \n3                Sly yo!        1   {'months': 4, 'years': 0}   \n4              Emiie.R D        1   {'months': 1, 'years': 0}   \n5                Michael        1   {'months': 1, 'years': 0}   \n...                  ...      ...                         ...   \n3599        sonia bobrie        5   {'months': 3, 'years': 0}   \n4482  Aleksander Callaud        5  {'months': 24, 'years': 2}   \n4483  La fée toute seule        5  {'months': 10, 'years': 0}   \n4484    nicolas gauthier        5  {'months': 12, 'years': 1}   \n4487      Cathy Guirriec        5  {'months': 24, 'years': 2}   \n\n                                                   Text Target Language  \\\nID                                                                        \n1     To avoid\\nThe Piraeus bakery in Vitry, the sal...      0       en   \n2     I specify the star I give it only for the croi...      0       en   \n3     Too bad for the pastry chef who struggles and ...      0       en   \n4     Too bad the products are very good but the sal...      0       en   \n5     If I could put -1000 I would have, I asked for...      0       en   \n...                                                 ...    ...      ...   \n3599  Quality service in the dressing room/storage d...      2       en   \n4482  Very good restaurant, with very friendly staff...      2       en   \n4483  A safe bet in Beauvais. Good reception and fai...      2       en   \n4484  Very good burger, and very good draft beer. Go...      2       en   \n4487  Nice restaurant and very good service. I recom...      2       en   \n\n     label (roberta)  score (roberta)  \nID                                     \n1           NEGATIVE         0.889870  \n2           NEGATIVE         0.558830  \n3           NEGATIVE         0.916203  \n4           NEGATIVE         0.777332  \n5            NEUTRAL         0.500744  \n...              ...              ...  \n3599        POSITIVE         0.989260  \n4482        POSITIVE         0.987408  \n4483        POSITIVE         0.952969  \n4484        POSITIVE         0.974670  \n4487        POSITIVE         0.987349  \n\n[87 rows x 8 columns]",
      "text/html": "<div>\n<style scoped>\n    .dataframe tbody tr th:only-of-type {\n        vertical-align: middle;\n    }\n\n    .dataframe tbody tr th {\n        vertical-align: top;\n    }\n\n    .dataframe thead th {\n        text-align: right;\n    }\n</style>\n<table border=\"1\" class=\"dataframe\">\n  <thead>\n    <tr style=\"text-align: right;\">\n      <th></th>\n      <th>Name</th>\n      <th>grading</th>\n      <th>date</th>\n      <th>Text</th>\n      <th>Target</th>\n      <th>Language</th>\n      <th>label (roberta)</th>\n      <th>score (roberta)</th>\n    </tr>\n    <tr>\n      <th>ID</th>\n      <th></th>\n      <th></th>\n      <th></th>\n      <th></th>\n      <th></th>\n      <th></th>\n      <th></th>\n      <th></th>\n    </tr>\n  </thead>\n  <tbody>\n    <tr>\n      <th>1</th>\n      <td>Wissem Smaali</td>\n      <td>1</td>\n      <td>{'months': 11, 'years': 0}</td>\n      <td>To avoid\\nThe Piraeus bakery in Vitry, the sal...</td>\n      <td>0</td>\n      <td>en</td>\n      <td>NEGATIVE</td>\n      <td>0.889870</td>\n    </tr>\n    <tr>\n      <th>2</th>\n      <td>ted tenore</td>\n      <td>1</td>\n      <td>{'months': 4, 'years': 0}</td>\n      <td>I specify the star I give it only for the croi...</td>\n      <td>0</td>\n      <td>en</td>\n      <td>NEGATIVE</td>\n      <td>0.558830</td>\n    </tr>\n    <tr>\n      <th>3</th>\n      <td>Sly yo!</td>\n      <td>1</td>\n      <td>{'months': 4, 'years': 0}</td>\n      <td>Too bad for the pastry chef who struggles and ...</td>\n      <td>0</td>\n      <td>en</td>\n      <td>NEGATIVE</td>\n      <td>0.916203</td>\n    </tr>\n    <tr>\n      <th>4</th>\n      <td>Emiie.R D</td>\n      <td>1</td>\n      <td>{'months': 1, 'years': 0}</td>\n      <td>Too bad the products are very good but the sal...</td>\n      <td>0</td>\n      <td>en</td>\n      <td>NEGATIVE</td>\n      <td>0.777332</td>\n    </tr>\n    <tr>\n      <th>5</th>\n      <td>Michael</td>\n      <td>1</td>\n      <td>{'months': 1, 'years': 0}</td>\n      <td>If I could put -1000 I would have, I asked for...</td>\n      <td>0</td>\n      <td>en</td>\n      <td>NEUTRAL</td>\n      <td>0.500744</td>\n    </tr>\n    <tr>\n      <th>...</th>\n      <td>...</td>\n      <td>...</td>\n      <td>...</td>\n      <td>...</td>\n      <td>...</td>\n      <td>...</td>\n      <td>...</td>\n      <td>...</td>\n    </tr>\n    <tr>\n      <th>3599</th>\n      <td>sonia bobrie</td>\n      <td>5</td>\n      <td>{'months': 3, 'years': 0}</td>\n      <td>Quality service in the dressing room/storage d...</td>\n      <td>2</td>\n      <td>en</td>\n      <td>POSITIVE</td>\n      <td>0.989260</td>\n    </tr>\n    <tr>\n      <th>4482</th>\n      <td>Aleksander Callaud</td>\n      <td>5</td>\n      <td>{'months': 24, 'years': 2}</td>\n      <td>Very good restaurant, with very friendly staff...</td>\n      <td>2</td>\n      <td>en</td>\n      <td>POSITIVE</td>\n      <td>0.987408</td>\n    </tr>\n    <tr>\n      <th>4483</th>\n      <td>La fée toute seule</td>\n      <td>5</td>\n      <td>{'months': 10, 'years': 0}</td>\n      <td>A safe bet in Beauvais. Good reception and fai...</td>\n      <td>2</td>\n      <td>en</td>\n      <td>POSITIVE</td>\n      <td>0.952969</td>\n    </tr>\n    <tr>\n      <th>4484</th>\n      <td>nicolas gauthier</td>\n      <td>5</td>\n      <td>{'months': 12, 'years': 1}</td>\n      <td>Very good burger, and very good draft beer. Go...</td>\n      <td>2</td>\n      <td>en</td>\n      <td>POSITIVE</td>\n      <td>0.974670</td>\n    </tr>\n    <tr>\n      <th>4487</th>\n      <td>Cathy Guirriec</td>\n      <td>5</td>\n      <td>{'months': 24, 'years': 2}</td>\n      <td>Nice restaurant and very good service. I recom...</td>\n      <td>2</td>\n      <td>en</td>\n      <td>POSITIVE</td>\n      <td>0.987349</td>\n    </tr>\n  </tbody>\n</table>\n<p>87 rows × 8 columns</p>\n</div>"
     },
     "execution_count": 68,
     "metadata": {},
     "output_type": "execute_result"
    }
   ],
   "source": [
    "# Sentiment Analysis with Roberta\n",
    "\"\"\"\n",
    "nlp = pipeline(\"sentiment-analysis\", model=f\"cardiffnlp/twitter-roberta-base-sentiment\")\n",
    "\n",
    "# Run the polarity score on the entire dataset\n",
    "res = pd.DataFrame(columns=['label', 'score'])\n",
    "for index, row in df.iterrows():\n",
    "    text = row['Text']\n",
    "    langue = row['Language']\n",
    "    if langue == 'en':\n",
    "        dict = pd.DataFrame(nlp(text))\n",
    "        dict['ID'] = index\n",
    "        res = pd.concat([res, dict], axis=0)\n",
    "\"\"\"\n",
    "tokenizer = AutoTokenizer.from_pretrained(\"cardiffnlp/twitter-roberta-base-sentiment\")\n",
    "\n",
    "nlp = pipeline(\"sentiment-analysis\", model=\"cardiffnlp/twitter-roberta-base-sentiment\", tokenizer=tokenizer)\n",
    "\n",
    "res = pd.DataFrame(columns=['label', 'score'])\n",
    "for index, row in df.iterrows():\n",
    "    text = row['Text']\n",
    "    langue = row['Language']\n",
    "\n",
    "    # If the language is English and the token length doesn't exceed the limit\n",
    "    if langue == 'en':\n",
    "        tokens = tokenizer.encode(text, return_tensors='pt')\n",
    "\n",
    "        if len(tokens[0]) <= 512:\n",
    "            dict = pd.DataFrame(nlp(text))\n",
    "            dict['ID'] = index\n",
    "            res = pd.concat([res, dict], axis=0)\n",
    "\n",
    "# Remplacement des valeurs\n",
    "res['label'] = res['label'].replace('LABEL_0', 'NEGATIVE')\n",
    "res['label'] = res['label'].replace('LABEL_1', 'NEUTRAL')\n",
    "res['label'] = res['label'].replace('LABEL_2', 'POSITIVE')\n",
    "res[\"ID\"] = res['ID'].astype(int)\n",
    "res = res.rename(columns={\"label\": \"label (roberta)\", \"score\": \"score (roberta)\"})\n",
    "res.set_index('ID', inplace=True)\n",
    "\n",
    "# Merge the two dataframes\n",
    "df = df.merge(res, left_index=True, right_index=True, how='left')\n",
    "df\n"
   ]
  },
  {
   "attachments": {},
   "cell_type": "markdown",
   "metadata": {},
   "source": [
    "## nlptown/bert-base-multilingual-uncased-sentiment"
   ]
  },
  {
   "cell_type": "code",
   "execution_count": 69,
   "metadata": {
    "ExecuteTime": {
     "end_time": "2023-06-20T16:25:33.166450400Z",
     "start_time": "2023-06-20T16:25:33.119400600Z"
    }
   },
   "outputs": [
    {
     "data": {
      "text/plain": "'\\nnlp = pipeline(\"sentiment-analysis\", model=f\"nlptown/bert-base-multilingual-uncased-sentiment\")\\n\\n# Run the polarity score on the entire dataset\\nres = pd.DataFrame(columns=[\\'label\\', \\'score\\'])\\nfor index, row in df.iterrows():\\n    text = row[\\'Text\\']\\n    langue = row[\\'Language\\']\\n    if langue == \\'en\\' or langue == \\'fr\\' or langue == \\'es\\' or langue == \\'it\\' or langue == \\'de\\' or langue == \\'nl\\':\\n\\n        tokens = tokenizer.encode(text, return_tensors=\\'pt\\')\\n\\n        if len(tokens[0]) <= 512:\\n            dict = pd.DataFrame(nlp(text))\\n            dict[\\'ID\\'] = index\\n            res = pd.concat([res, dict], axis=0)\\n\\n# Remplacement des valeurs\\nres[\\'label\\'] = res[\\'label\\'].replace(\\'1 star\\', int(1))\\nres[\\'label\\'] = res[\\'label\\'].replace(\\'2 stars\\', int(2))\\nres[\\'label\\'] = res[\\'label\\'].replace(\\'3 stars\\', int(3))\\nres[\\'label\\'] = res[\\'label\\'].replace(\\'4 stars\\', int(4))\\nres[\\'label\\'] = res[\\'label\\'].replace(\\'5 stars\\', int(5))\\nres[\"ID\"] = res[\\'ID\\'].astype(int)\\nres = res.rename(columns={\\'label\\': \\'label (Bert), over 5\\', \\'score\\': \\'score (Bert)\\'})\\nres.set_index(\\'ID\\', inplace=True)\\n\\n# Merge the two dataframes\\ndf = df.merge(res, left_index=True, right_index=True, how=\\'left\\')\\ndf\\n'"
     },
     "execution_count": 69,
     "metadata": {},
     "output_type": "execute_result"
    }
   ],
   "source": [
    "# Sentiment Analysis Bert-base-uncased\n",
    "# Plusieurs langages disponibles (dont le français)\n",
    "#English\t150k\n",
    "#Dutch\t80k\n",
    "#German\t137k\n",
    "#French\t140k\n",
    "#Italian\t72k\n",
    "#Spanish\n",
    "# Il classifie les phrases en étoiles (1 à 5)\n",
    "# Ce modèle est connu\n",
    "\"\"\"\n",
    "nlp = pipeline(\"sentiment-analysis\", model=f\"nlptown/bert-base-multilingual-uncased-sentiment\")\n",
    "\n",
    "# Run the polarity score on the entire dataset\n",
    "res = pd.DataFrame(columns=['label', 'score'])\n",
    "for index, row in df.iterrows():\n",
    "    text = row['Text']\n",
    "    langue = row['Language']\n",
    "    if langue == 'en' or langue == 'fr' or langue == 'es' or langue == 'it' or langue == 'de' or langue == 'nl':\n",
    "\n",
    "        tokens = tokenizer.encode(text, return_tensors='pt')\n",
    "\n",
    "        if len(tokens[0]) <= 512:\n",
    "            dict = pd.DataFrame(nlp(text))\n",
    "            dict['ID'] = index\n",
    "            res = pd.concat([res, dict], axis=0)\n",
    "\n",
    "# Remplacement des valeurs\n",
    "res['label'] = res['label'].replace('1 star', int(1))\n",
    "res['label'] = res['label'].replace('2 stars', int(2))\n",
    "res['label'] = res['label'].replace('3 stars', int(3))\n",
    "res['label'] = res['label'].replace('4 stars', int(4))\n",
    "res['label'] = res['label'].replace('5 stars', int(5))\n",
    "res[\"ID\"] = res['ID'].astype(int)\n",
    "res = res.rename(columns={'label': 'label (Bert), over 5', 'score': 'score (Bert)'})\n",
    "res.set_index('ID', inplace=True)\n",
    "\n",
    "# Merge the two dataframes\n",
    "df = df.merge(res, left_index=True, right_index=True, how='left')\n",
    "df\n",
    "\"\"\"\n",
    "# print(df.isnull().sum())\n",
    "# print(f\"Negative: {df[df['label (roberta)'] == 'NEGATIVE'].count()}, Positive: {df[df['label (roberta)'] == 'POSITIVE'].count()}, Neutral: {df[df['label (roberta)'] == 'NEUTRAL'].count()}\")\n"
   ]
  },
  {
   "cell_type": "markdown",
   "source": [
    "## Using Sklearn"
   ],
   "metadata": {
    "collapsed": false
   }
  },
  {
   "cell_type": "code",
   "execution_count": 70,
   "outputs": [
    {
     "data": {
      "text/plain": "\"\\nfrom sklearn.feature_extraction.text import CountVectorizer\\nfrom sklearn.naive_bayes import MultinomialNB\\nfrom sklearn.model_selection import train_test_split\\nfrom sklearn.metrics import accuracy_score, precision_score, recall_score, f1_score\\n\\ndf = df.drop(df[df['label (roberta)'].isna()].index)\\n\\n# Assume X is your list of texts and y is your list of labels\\nX_train, X_test, y_train, y_test = train_test_split(df['Text'], df['label (roberta)'], test_size=0.2)\\n\\n# Transform the text data into numerical vectors\\nvectorizer = CountVectorizer()\\nX_train_vectors = vectorizer.fit_transform(X_train)\\nX_test_vectors = vectorizer.transform(X_test)\\n\\n# Train the classifier\\nclf = MultinomialNB()\\nclf.fit(X_train_vectors, y_train)\\n\\n# Test the classifier\\npredictions = clf.predict(X_test_vectors)\\n\\n# Calculate metrics\\naccuracy = accuracy_score(y_test, predictions)\\nprecision = precision_score(y_test, predictions, average='weighted', zero_division=0)\\nrecall = recall_score(y_test, predictions, average='weighted')\\nf1 = f1_score(y_test, predictions, average='weighted')\\n\\nprint(f'Accuracy: {accuracy}')\\nprint(f'Precision: {precision}')\\nprint(f'Recall: {recall}')\\nprint(f'F1 Score: {f1}')\\n\\nfrom sklearn.metrics import confusion_matrix\\nimport seaborn as sns\\nimport matplotlib.pyplot as plt\\n\\n# Calculate the confusion matrix\\ncm = confusion_matrix(y_test, predictions)\\n\\n# DISPLAY CONFUSION MATRIX\\n# Transpose the confusion matrix\\ncm = cm.T\\n# Define the labels of the matrix\\nlabels = ['Negative', 'Neutral', 'Positive']\\n# Create a dataframe from the confusion matrix for easier plotting\\ncm_df = pd.DataFrame(cm, index=labels, columns=labels)\\n# Display the confusion matrix\\nplt.figure(figsize=(10,7))\\nsns.heatmap(cm_df, annot=True, fmt='d', cmap='Blues')\\nplt.title('Confusion Matrix')\\nplt.ylabel('Predicted Label')\\nplt.xlabel('True Label')\\nplt.show()\\n\""
     },
     "execution_count": 70,
     "metadata": {},
     "output_type": "execute_result"
    }
   ],
   "source": [
    "\"\"\"\n",
    "from sklearn.feature_extraction.text import CountVectorizer\n",
    "from sklearn.naive_bayes import MultinomialNB\n",
    "from sklearn.model_selection import train_test_split\n",
    "from sklearn.metrics import accuracy_score, precision_score, recall_score, f1_score\n",
    "\n",
    "df = df.drop(df[df['label (roberta)'].isna()].index)\n",
    "\n",
    "# Assume X is your list of texts and y is your list of labels\n",
    "X_train, X_test, y_train, y_test = train_test_split(df['Text'], df['label (roberta)'], test_size=0.2)\n",
    "\n",
    "# Transform the text data into numerical vectors\n",
    "vectorizer = CountVectorizer()\n",
    "X_train_vectors = vectorizer.fit_transform(X_train)\n",
    "X_test_vectors = vectorizer.transform(X_test)\n",
    "\n",
    "# Train the classifier\n",
    "clf = MultinomialNB()\n",
    "clf.fit(X_train_vectors, y_train)\n",
    "\n",
    "# Test the classifier\n",
    "predictions = clf.predict(X_test_vectors)\n",
    "\n",
    "# Calculate metrics\n",
    "accuracy = accuracy_score(y_test, predictions)\n",
    "precision = precision_score(y_test, predictions, average='weighted', zero_division=0)\n",
    "recall = recall_score(y_test, predictions, average='weighted')\n",
    "f1 = f1_score(y_test, predictions, average='weighted')\n",
    "\n",
    "print(f'Accuracy: {accuracy}')\n",
    "print(f'Precision: {precision}')\n",
    "print(f'Recall: {recall}')\n",
    "print(f'F1 Score: {f1}')\n",
    "\n",
    "from sklearn.metrics import confusion_matrix\n",
    "import seaborn as sns\n",
    "import matplotlib.pyplot as plt\n",
    "\n",
    "# Calculate the confusion matrix\n",
    "cm = confusion_matrix(y_test, predictions)\n",
    "\n",
    "# DISPLAY CONFUSION MATRIX\n",
    "# Transpose the confusion matrix\n",
    "cm = cm.T\n",
    "# Define the labels of the matrix\n",
    "labels = ['Negative', 'Neutral', 'Positive']\n",
    "# Create a dataframe from the confusion matrix for easier plotting\n",
    "cm_df = pd.DataFrame(cm, index=labels, columns=labels)\n",
    "# Display the confusion matrix\n",
    "plt.figure(figsize=(10,7))\n",
    "sns.heatmap(cm_df, annot=True, fmt='d', cmap='Blues')\n",
    "plt.title('Confusion Matrix')\n",
    "plt.ylabel('Predicted Label')\n",
    "plt.xlabel('True Label')\n",
    "plt.show()\n",
    "\"\"\""
   ],
   "metadata": {
    "collapsed": false,
    "ExecuteTime": {
     "end_time": "2023-06-20T16:25:33.211268200Z",
     "start_time": "2023-06-20T16:25:33.142432800Z"
    }
   }
  },
  {
   "attachments": {},
   "cell_type": "markdown",
   "metadata": {},
   "source": [
    "## Exportation des données"
   ]
  },
  {
   "cell_type": "code",
   "execution_count": 71,
   "metadata": {
    "ExecuteTime": {
     "end_time": "2023-06-20T16:25:33.243306500Z",
     "start_time": "2023-06-20T16:25:33.170445900Z"
    }
   },
   "outputs": [],
   "source": [
    "import csv\n",
    "\n",
    "chemin_fichier = 'processed_data.csv'\n",
    "\n",
    "# Exporter le DataFrame dans un fichier CSV\n",
    "df.to_csv(chemin_fichier, index=False)"
   ]
  },
  {
   "cell_type": "markdown",
   "source": [
    "## Score du modèle"
   ],
   "metadata": {
    "collapsed": false
   }
  },
  {
   "cell_type": "code",
   "execution_count": 72,
   "outputs": [
    {
     "name": "stdout",
     "output_type": "stream",
     "text": [
      "(5015, 5)\n"
     ]
    },
    {
     "data": {
      "text/plain": "            Name grading           date  \\\n0    Alvin Alias  1 star   7 months ago   \n1  Wissem Smaali  1 star  11 months ago   \n2     ted tenore  1 star   4 months ago   \n3        Sly yo!  1 star   4 months ago   \n4      Emiie.R D  1 star    a month ago   \n\n                                                Text Target  \n0                   Over priced and unfriendly staff    NaN  \n1  À éviter\\nLe Pirée boulangerie de Vitry , le v...      0  \n2  Je précise l’étoile je le donne que pour les c...      0  \n3  Dommage pour le pâtissier qui ce démène et mes...      0  \n4  Dommage les produits sont très bon mais les ve...      0  ",
      "text/html": "<div>\n<style scoped>\n    .dataframe tbody tr th:only-of-type {\n        vertical-align: middle;\n    }\n\n    .dataframe tbody tr th {\n        vertical-align: top;\n    }\n\n    .dataframe thead th {\n        text-align: right;\n    }\n</style>\n<table border=\"1\" class=\"dataframe\">\n  <thead>\n    <tr style=\"text-align: right;\">\n      <th></th>\n      <th>Name</th>\n      <th>grading</th>\n      <th>date</th>\n      <th>Text</th>\n      <th>Target</th>\n    </tr>\n  </thead>\n  <tbody>\n    <tr>\n      <th>0</th>\n      <td>Alvin Alias</td>\n      <td>1 star</td>\n      <td>7 months ago</td>\n      <td>Over priced and unfriendly staff</td>\n      <td>NaN</td>\n    </tr>\n    <tr>\n      <th>1</th>\n      <td>Wissem Smaali</td>\n      <td>1 star</td>\n      <td>11 months ago</td>\n      <td>À éviter\\nLe Pirée boulangerie de Vitry , le v...</td>\n      <td>0</td>\n    </tr>\n    <tr>\n      <th>2</th>\n      <td>ted tenore</td>\n      <td>1 star</td>\n      <td>4 months ago</td>\n      <td>Je précise l’étoile je le donne que pour les c...</td>\n      <td>0</td>\n    </tr>\n    <tr>\n      <th>3</th>\n      <td>Sly yo!</td>\n      <td>1 star</td>\n      <td>4 months ago</td>\n      <td>Dommage pour le pâtissier qui ce démène et mes...</td>\n      <td>0</td>\n    </tr>\n    <tr>\n      <th>4</th>\n      <td>Emiie.R D</td>\n      <td>1 star</td>\n      <td>a month ago</td>\n      <td>Dommage les produits sont très bon mais les ve...</td>\n      <td>0</td>\n    </tr>\n  </tbody>\n</table>\n</div>"
     },
     "execution_count": 72,
     "metadata": {},
     "output_type": "execute_result"
    }
   ],
   "source": [
    "test_df = pd.read_csv('dataset1.csv', sep=';')\n",
    "print(test_df.shape)\n",
    "test_df.head()"
   ],
   "metadata": {
    "collapsed": false,
    "ExecuteTime": {
     "end_time": "2023-06-20T16:25:33.309093300Z",
     "start_time": "2023-06-20T16:25:33.203245100Z"
    }
   }
  },
  {
   "cell_type": "code",
   "execution_count": 73,
   "outputs": [
    {
     "data": {
      "text/plain": "(87, 5)"
     },
     "execution_count": 73,
     "metadata": {},
     "output_type": "execute_result"
    }
   ],
   "source": [
    "test_df = test_df.dropna()\n",
    "test_df.shape"
   ],
   "metadata": {
    "collapsed": false,
    "ExecuteTime": {
     "end_time": "2023-06-20T16:25:33.359978800Z",
     "start_time": "2023-06-20T16:25:33.309093300Z"
    }
   }
  },
  {
   "cell_type": "code",
   "execution_count": 74,
   "outputs": [
    {
     "data": {
      "text/plain": "1       À éviter\\nLe Pirée boulangerie de Vitry , le v...\n2       Je précise l’étoile je le donne que pour les c...\n3       Dommage pour le pâtissier qui ce démène et mes...\n4       Dommage les produits sont très bon mais les ve...\n5       Si je pouvais mettre -1000 je l’aurais fait, j...\n                              ...                        \n3599    Service de qualité au rayon dressing/rangement...\n4482    Très bon restaurant, avec un personnel très sy...\n4483    Une valeur sûre à Beauvais. Bon accueil et tar...\n4484    Très bon burger, et très bonne bière en pressi...\n4487    Restaurant sympa et très bon service. Je recom...\nName: Text, Length: 87, dtype: object"
     },
     "execution_count": 74,
     "metadata": {},
     "output_type": "execute_result"
    }
   ],
   "source": [
    "X_test = test_df['Text']\n",
    "y_test = test_df['Target']\n",
    "X_test"
   ],
   "metadata": {
    "collapsed": false,
    "ExecuteTime": {
     "end_time": "2023-06-20T16:25:33.439348200Z",
     "start_time": "2023-06-20T16:25:33.341748700Z"
    }
   }
  },
  {
   "cell_type": "code",
   "execution_count": 75,
   "outputs": [
    {
     "data": {
      "text/plain": "1       To avoid\\nThe Piraeus bakery in Vitry, the sal...\n2       I specify the star I give it only for the croi...\n3       Too bad for the pastry chef who struggles and ...\n4       Too bad the products are very good but the sal...\n5       If I could put -1000 I would have, I asked for...\n                              ...                        \n3599    Quality service in the dressing room/storage d...\n4482    Very good restaurant, with very friendly staff...\n4483    A safe bet in Beauvais. Good reception and fai...\n4484    Very good burger, and very good draft beer. Go...\n4487    Nice restaurant and very good service. I recom...\nName: Text, Length: 87, dtype: object"
     },
     "execution_count": 75,
     "metadata": {},
     "output_type": "execute_result"
    }
   ],
   "source": [
    "# Traduire les phrases en anglais\n",
    "\n",
    "X_test = X_test.apply(GoogleTranslator(source='auto', target='en').translate)\n",
    "X_test"
   ],
   "metadata": {
    "collapsed": false,
    "ExecuteTime": {
     "end_time": "2023-06-20T16:25:44.456222Z",
     "start_time": "2023-06-20T16:25:33.379128600Z"
    }
   }
  },
  {
   "cell_type": "code",
   "execution_count": 76,
   "outputs": [],
   "source": [
    "y_pred = X_test.apply(lambda x: nlp(x)[0]['label'])"
   ],
   "metadata": {
    "collapsed": false
   }
  },
  {
   "cell_type": "code",
   "execution_count": 77,
   "outputs": [
    {
     "data": {
      "text/plain": "1       0\n2       0\n3       0\n4       0\n5       1\n       ..\n3599    2\n4482    2\n4483    2\n4484    2\n4487    2\nName: Text, Length: 87, dtype: int64"
     },
     "execution_count": 58,
     "metadata": {},
     "output_type": "execute_result"
    },
    {
     "data": {
      "text/plain": "1       0\n2       0\n3       0\n4       0\n5       1\n       ..\n3599    2\n4482    2\n4483    2\n4484    2\n4487    2\nName: Text, Length: 87, dtype: int64"
     },
     "execution_count": 77,
     "metadata": {},
     "output_type": "execute_result"
    }
   ],
   "source": [
    "# remplacer LABEL_0 par 0, LABEL_1 par 1 et LABEL_2 par 2\n",
    "y_pred = y_pred.replace('LABEL_0', 0)\n",
    "y_pred = y_pred.replace('LABEL_1', 1)\n",
    "y_pred = y_pred.replace('LABEL_2', 2)\n",
    "y_pred"
   ],
   "metadata": {
    "collapsed": false,
    "ExecuteTime": {
     "end_time": "2023-06-20T16:26:01.315424500Z",
     "start_time": "2023-06-20T16:25:01.218374Z"
    }
   }
  },
  {
   "cell_type": "code",
   "execution_count": 78,
   "outputs": [],
   "source": [
    "def accuracy(y_test, y_pred):\n",
    "    return np.mean(y_test == y_pred)"
   ],
   "metadata": {
    "collapsed": false,
    "ExecuteTime": {
     "end_time": "2023-06-20T16:26:01.325101900Z",
     "start_time": "2023-06-20T16:25:01.246245300Z"
    }
   }
  },
  {
   "cell_type": "code",
   "execution_count": 79,
   "outputs": [],
   "source": [
    "# Remplacer la valeur de la ligne 1515 par 0\n",
    "y_test = y_test.replace('À', 0)"
   ],
   "metadata": {
    "collapsed": false,
    "ExecuteTime": {
     "end_time": "2023-06-20T16:26:01.341912400Z",
     "start_time": "2023-06-20T16:25:01.262420200Z"
    }
   }
  },
  {
   "cell_type": "code",
   "execution_count": 80,
   "outputs": [],
   "source": [
    "y_pred = y_pred.astype(int)\n",
    "y_test = y_test.astype(int)"
   ],
   "metadata": {
    "collapsed": false,
    "ExecuteTime": {
     "end_time": "2023-06-20T16:26:01.360719200Z",
     "start_time": "2023-06-20T16:25:01.280300400Z"
    }
   }
  },
  {
   "cell_type": "code",
   "execution_count": 81,
   "outputs": [
    {
     "name": "stdout",
     "output_type": "stream",
     "text": [
      "Accuracy: 0.70\n",
      "Accuracy: 0.70\n"
     ]
    }
   ],
   "source": [
    "score = accuracy(y_test, y_pred)\n",
    "print(f\"Accuracy: {score:.2f}\")"
   ],
   "metadata": {
    "collapsed": false,
    "ExecuteTime": {
     "end_time": "2023-06-20T16:26:01.381818800Z",
     "start_time": "2023-06-20T16:25:01.305446Z"
    }
   }
  },
  {
   "cell_type": "markdown",
   "source": [],
   "metadata": {
    "collapsed": false
   }
  }
 ],
 "metadata": {
  "kernelspec": {
   "display_name": "Python 3",
   "language": "python",
   "name": "python3"
  },
  "language_info": {
   "codemirror_mode": {
    "name": "ipython",
    "version": 3
   },
   "file_extension": ".py",
   "mimetype": "text/x-python",
   "name": "python",
   "nbconvert_exporter": "python",
   "pygments_lexer": "ipython3",
   "version": "3.9.1"
  },
  "orig_nbformat": 4
 },
 "nbformat": 4,
 "nbformat_minor": 2
}
