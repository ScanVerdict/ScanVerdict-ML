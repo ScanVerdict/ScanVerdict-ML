{
 "cells": [
  {
   "cell_type": "code",
   "execution_count": 2,
   "metadata": {
    "collapsed": true,
    "ExecuteTime": {
     "end_time": "2023-06-12T08:44:28.961104500Z",
     "start_time": "2023-06-12T08:44:12.072618300Z"
    }
   },
   "outputs": [
    {
     "name": "stdout",
     "output_type": "stream",
     "text": [
      "1955\n",
      "newheight 2300 lastheight 1955\n",
      "newheight 2300 lastheight 2300\n",
      "{'Sinnay sinay': ('5 stars', 'a year ago', 'Hi-tec'), 'Luis Alba Sanchez': ('5 stars', 'a year ago', 'Excellent 👌 malgré des problèmes de wifi pour mon professeur …'), 'Super Bastodon (Bastodon)': ('2 stars', 'a year ago', ''), 'Axel Daoudongar': ('4 stars', 'a year ago', ''), 'Moe Lester': ('5 stars', '7 months ago', ''), 'Blaise': ('3 stars', '6 months ago', ''), 'César OMBREDANE': ('4 stars', 'a year ago', ''), 'jérémie-louis NDJE': ('4 stars', '5 months ago', ''), 'Tanguy Libert': ('5 stars', 'a year ago', ''), 'mendes voufo': ('5 stars', '9 months ago', ''), 'Jean Mhamoud': ('4 stars', '6 months ago', ''), 'Annabelle': ('5 stars', '4 months ago', ''), 'Victor Steimberg': ('5 stars', 'a year ago', '')}\n"
     ]
    }
   ],
   "source": [
    "from selenium.common import NoSuchElementException\n",
    "from selenium.webdriver.support.wait import WebDriverWait\n",
    "from selenium.webdriver.common.by import By\n",
    "from selenium import webdriver\n",
    "from selenium.webdriver.support import expected_conditions as EC\n",
    "import time\n",
    "\n",
    "driver = webdriver.Chrome()\n",
    "driver.set_window_size(1024, 600)\n",
    "driver.maximize_window()\n",
    "\n",
    "driver.get(\"https://www.google.com/maps/place/Efrei+Paris+-+Campus+Gorki+-+Université+Paris-Panthéon-Assas/@48.7898571,2.3663896,17z/data=!3m1!4b1!4m6!3m5!1s0x47e673d0937ba945:0x63829c5f9fb306a!8m2!3d48.7898571!4d2.3685783!16s%2Fg%2F11nxd0nvh8?entry=ttu\")\n",
    "\n",
    "names = []\n",
    "rating = []\n",
    "dates = []\n",
    "comments = []\n",
    "\n",
    "try:\n",
    "    # Wait for consent page to load\n",
    "    accept_all_button = WebDriverWait(driver, 10).until(\n",
    "        # By css_selector (1 or more classes) is more robust choice because by class_name can only handle 1 class\n",
    "        EC.presence_of_element_located((By.CSS_SELECTOR, \"[jsname='b3VHJd']\"))\n",
    "    )\n",
    "    # Accept cookies because they are good\n",
    "    accept_all_button.click()\n",
    "except:\n",
    "    print(\"An error occurred when trying to accept Google's terms of conditions.\")\n",
    "\n",
    "# get to reviews\n",
    "try:\n",
    "    reviews_button = WebDriverWait(driver, 10).until(\n",
    "        # By css_selector (1 or more classes) is more robust choice because by class_name can only handle 1 class\n",
    "        EC.presence_of_element_located((By.CSS_SELECTOR, \"[aria-label^='Reviews for']\"))\n",
    "    )\n",
    "    reviews_button.click()\n",
    "except:\n",
    "    print(\"An error occurred when trying to get to reviews.\")\n",
    "\n",
    "# scroll until the end\n",
    "try:\n",
    "    #.BHymgf.eiJcBe\n",
    "    #.m6QErb.WNBkOb\n",
    "    scrollable_div = driver.find_element(By.CSS_SELECTOR, \".m6QErb.DxyBCb.kA9KIf.dS8AEf\")\n",
    "    last_height = driver.execute_script(\"return arguments[0].scrollHeight\", scrollable_div)\n",
    "    print(last_height)\n",
    "    while True:\n",
    "        # scroll to the bottom\n",
    "        driver.execute_script(\n",
    "            \"arguments[0].scrollTop = arguments[0].scrollHeight\", scrollable_div\n",
    "        )\n",
    "        # wait for the page to load\n",
    "        time.sleep(2)\n",
    "\n",
    "        # calculate new scroll height and compare with the last scroll height\n",
    "        new_height = driver.execute_script(\"return arguments[0].scrollHeight\", scrollable_div)\n",
    "        print(\"newheight\", new_height, \"lastheight\", last_height)\n",
    "        if new_height == last_height:\n",
    "            break\n",
    "        last_height = new_height\n",
    "except:\n",
    "    print(\"Couldn't scroll...\")\n",
    "\n",
    "# solution to problem: get the coordinates (lat, long) between '@' and ',' and then use Google Maps api, enter coord, retrieve first element of search and get its place_id and get this url: https://www.google.com/maps/place/?q=place_id:\"the_place_id\"\n",
    "\n",
    "# open the comments fully (see more)\n",
    "try:\n",
    "    # gather all see more buttons and click them\n",
    "    all_see_more_buttons = driver.find_elements(By.CSS_SELECTOR, \"[aria-label = 'See more'\")\n",
    "    for button in all_see_more_buttons:\n",
    "        button.click()\n",
    "except:\n",
    "    print(\"Couldn't click all see more buttons.\")\n",
    "\n",
    "# extract text\n",
    "try:\n",
    "    comment_divs = driver.find_elements(By.CSS_SELECTOR, \".jftiEf.fontBodyMedium \")\n",
    "    # there is necessarily a name, rating and a date but not comment\n",
    "    for comment in comment_divs:\n",
    "        names.append(comment.find_element(By.CLASS_NAME, \"d4r55 \").text)\n",
    "        rating.append(comment.find_element(By.CLASS_NAME, \"kvMYJc\").get_attribute(\"aria-label\"))\n",
    "        dates.append(comment.find_element(By.CLASS_NAME, \"rsqaWe\").text)\n",
    "        # verify that there is comment and add, else add empty string\n",
    "        text = \"\"\n",
    "        try:\n",
    "            myened_element = comment.find_element(By.CLASS_NAME, \"MyEned\")\n",
    "            text = myened_element.find_element(By.CLASS_NAME, \"wiI7pd\").text\n",
    "        except NoSuchElementException:\n",
    "            text = \"\"\n",
    "        comments.append(text)\n",
    "except:\n",
    "    print(\"Something happened when trying to parse reviews...\")\n",
    "\n",
    "finally:\n",
    "    driver.quit()\n",
    "\n",
    "zipped = list(zip(names, rating, dates, comments))\n",
    "dictionary = {key: (v1, v2, v3) for key, v1, v2, v3 in zipped}\n",
    "\n",
    "print(dictionary)"
   ]
  },
  {
   "cell_type": "code",
   "execution_count": 2,
   "outputs": [],
   "source": [],
   "metadata": {
    "collapsed": false,
    "ExecuteTime": {
     "end_time": "2023-06-12T08:44:28.985001600Z",
     "start_time": "2023-06-12T08:44:28.961104500Z"
    }
   }
  }
 ],
 "metadata": {
  "kernelspec": {
   "display_name": "Python 3",
   "language": "python",
   "name": "python3"
  },
  "language_info": {
   "codemirror_mode": {
    "name": "ipython",
    "version": 2
   },
   "file_extension": ".py",
   "mimetype": "text/x-python",
   "name": "python",
   "nbconvert_exporter": "python",
   "pygments_lexer": "ipython2",
   "version": "2.7.6"
  }
 },
 "nbformat": 4,
 "nbformat_minor": 0
}
