{
 "cells": [
  {
   "cell_type": "code",
   "execution_count": 8,
   "metadata": {
    "ExecuteTime": {
     "end_time": "2023-06-13T07:43:10.027520600Z",
     "start_time": "2023-06-13T07:42:55.118721400Z"
    },
    "collapsed": true
   },
   "outputs": [
    {
     "name": "stdout",
     "output_type": "stream",
     "text": [
      "An error occurred when trying to get to reviews.\n",
      "Couldn't scroll...\n",
      "{'': ('5\\xa0étoiles', '', '')}\n"
     ]
    }
   ],
   "source": [
    "from selenium.common import NoSuchElementException\n",
    "from selenium.webdriver.support.wait import WebDriverWait\n",
    "from selenium.webdriver.common.by import By\n",
    "from selenium import webdriver\n",
    "from selenium.webdriver.support import expected_conditions as EC\n",
    "import time\n",
    "import chromedriver_autoinstaller\n",
    "\n",
    "chromedriver_autoinstaller.install()\n",
    "\n",
    "driver = webdriver.Chrome()\n",
    "driver.set_window_size(1024, 600)\n",
    "driver.maximize_window()\n",
    "\n",
    "driver.get(\"https://www.google.fr/maps/place/Tour+Eiffel/@48.8583701,2.2919064,17z/data=!3m2!4b1!5s0x47e66fe1ee0293a1:0x213fe992eb6cca0c!4m6!3m5!1s0x47e66e2964e34e2d:0x8ddca9ee380ef7e0!8m2!3d48.8583701!4d2.2944813!16zL20vMDJqODE?entry=ttu\")\n",
    "names = []\n",
    "rating = []\n",
    "dates = []\n",
    "comments = []\n",
    "\n",
    "try:\n",
    "    # Wait for consent page to load\n",
    "    accept_all_button = WebDriverWait(driver, 10).until(\n",
    "        # By css_selector (1 or more classes) is more robust choice because by class_name can only handle 1 class\n",
    "        EC.presence_of_element_located((By.CSS_SELECTOR, \"[jsname='b3VHJd']\"))\n",
    "    )\n",
    "    # Accept cookies because they are good\n",
    "    accept_all_button.click()\n",
    "except:\n",
    "    print(\"An error occurred when trying to accept Google's terms of conditions.\")\n",
    "\n",
    "# get to reviews\n",
    "try:\n",
    "    reviews_button = WebDriverWait(driver, 10).until(\n",
    "        # By css_selector (1 or more classes) is more robust choice because by class_name can only handle 1 class\n",
    "        EC.presence_of_element_located((By.CSS_SELECTOR, \"[aria-label^='Reviews for']\"))\n",
    "    )\n",
    "    reviews_button.click()\n",
    "except:\n",
    "    print(\"An error occurred when trying to get to reviews.\")\n",
    "\n",
    "# scroll until the end\n",
    "try:\n",
    "    scrollable_div = WebDriverWait(driver, 10).until(\n",
    "        # By css_selector (1 or more classes) is more robust choice because by class_name can only handle 1 class\n",
    "        EC.presence_of_element_located((By.CSS_SELECTOR, \".m6QErb.DxyBCb.kA9KIf.dS8AEf\"))\n",
    "    )\n",
    "    last_height = driver.execute_script(\"return arguments[0].scrollHeight\", scrollable_div)\n",
    "    print(last_height)\n",
    "    while True:\n",
    "        # scroll to the bottom\n",
    "        driver.execute_script(\n",
    "            \"arguments[0].scrollTop = arguments[0].scrollHeight\", scrollable_div\n",
    "        )\n",
    "        # wait for the page to load\n",
    "        time.sleep(2)\n",
    "\n",
    "        # calculate new scroll height and compare with the last scroll height\n",
    "        new_height = driver.execute_script(\"return arguments[0].scrollHeight\", scrollable_div)\n",
    "        print(\"newheight\", new_height, \"lastheight\", last_height)\n",
    "        if new_height == last_height:\n",
    "            break\n",
    "        last_height = new_height\n",
    "except:\n",
    "    print(\"Couldn't scroll...\")\n",
    "\n",
    "# open the comments fully (see more)\n",
    "try:\n",
    "    # gather all see more buttons and click them\n",
    "    all_see_more_buttons = driver.find_elements(By.CSS_SELECTOR, \"[aria-label = 'See more'\")\n",
    "    for button in all_see_more_buttons:\n",
    "        button.click()\n",
    "except:\n",
    "    print(\"Couldn't click all see more buttons.\")\n",
    "\n",
    "# extract text\n",
    "try:\n",
    "    comment_divs = driver.find_elements(By.CSS_SELECTOR, \".jftiEf.fontBodyMedium \")\n",
    "    # there is necessarily a name, rating and a date but not comment\n",
    "    for comment in comment_divs:\n",
    "        names.append(comment.find_element(By.CLASS_NAME, \"d4r55 \").text)\n",
    "        rating.append(comment.find_element(By.CLASS_NAME, \"kvMYJc\").get_attribute(\"aria-label\"))\n",
    "        dates.append(comment.find_element(By.CLASS_NAME, \"rsqaWe\").text)\n",
    "        # verify that there is comment and add, else add empty string\n",
    "        text = \"\"\n",
    "        try:\n",
    "            myened_element = comment.find_element(By.CLASS_NAME, \"MyEned\")\n",
    "            text = myened_element.find_element(By.CLASS_NAME, \"wiI7pd\").text\n",
    "        except NoSuchElementException:\n",
    "            text = \"\"\n",
    "        comments.append(text)\n",
    "except:\n",
    "    print(\"Something happened when trying to parse reviews...\")\n",
    "\n",
    "finally:\n",
    "    driver.quit()\n",
    "\n",
    "zipped = list(zip(names, rating, dates, comments))\n",
    "dictionary = {key: (v1, v2, v3) for key, v1, v2, v3 in zipped}\n",
    "\n",
    "print(dictionary)"
   ]
  },
  {
   "cell_type": "code",
   "execution_count": null,
   "metadata": {
    "ExecuteTime": {
     "end_time": "2023-06-13T07:43:10.046398400Z",
     "start_time": "2023-06-13T07:43:10.029173Z"
    },
    "collapsed": false
   },
   "outputs": [],
   "source": []
  }
 ],
 "metadata": {
  "kernelspec": {
   "display_name": "Python 3",
   "language": "python",
   "name": "python3"
  },
  "language_info": {
   "codemirror_mode": {
    "name": "ipython",
    "version": 3
   },
   "file_extension": ".py",
   "mimetype": "text/x-python",
   "name": "python",
   "nbconvert_exporter": "python",
   "pygments_lexer": "ipython3",
   "version": "3.9.1"
  }
 },
 "nbformat": 4,
 "nbformat_minor": 0
}
