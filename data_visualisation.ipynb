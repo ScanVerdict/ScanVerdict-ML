{
 "cells": [
  {
   "cell_type": "markdown",
   "source": [
    "Répartition des scores : histogramme (pour chaque mois ?)\n",
    "Positif, neutre, négatif : diagramme circulaire (camembert)\n",
    "Pourcentage de sentiments positifs, neutres, négatifs au fil du temps ? (3 courbes, un pour chaque?)\n",
    "Moyenne des scores au fil du temps (pour chaque mois ?), graphique avec des points\n",
    "Top 3/5 du positif : histogramme horizontal\n",
    "Top 3/5 du négatif : histogramme horizontal aussi ?\n",
    "Nuage de mots pertinents\n",
    "Idées de données : Nombre total d'avis, nombre d'avis sur une période donnée, amélioration de la note au cours du temps"
   ],
   "metadata": {
    "collapsed": false
   }
  },
  {
   "cell_type": "code",
   "execution_count": 1,
   "metadata": {
    "collapsed": true,
    "ExecuteTime": {
     "end_time": "2023-06-20T15:23:23.254099800Z",
     "start_time": "2023-06-20T15:23:22.873932700Z"
    }
   },
   "outputs": [
    {
     "data": {
      "text/plain": "                  Name  grading           date  \\\n0     Reezaane Bundhoo        4     a year ago   \n1     Akram Althawbani        5   3 months ago   \n2         Ibrahim Sobh        4    a month ago   \n3        Mareike Engel        5   5 months ago   \n4    shrishail kurangi        3   6 months ago   \n..                 ...      ...            ...   \n191       RF 94 (RF94)        5    2 years ago   \n192   Stéphane Bouland        2  10 months ago   \n193     KANDE TOUNKARA        5   9 months ago   \n194          Choopa AB        5    2 years ago   \n195   Nassim Bourguiba        5     a year ago   \n\n                                                  Text Language  \\\n0    Delicious cakes, hot/cold beverages and great ...       en   \n1    Best place but it's still camels man opinion. ...       en   \n2    Amazing place to buy bread and sweets , always...       en   \n3    Love the baguette and croissant. Staff is alwa...       en   \n4    All the items I have tried here are really gre...       en   \n..                                                 ...      ...   \n191                                Really heja the top       en   \n192                                     Cold employees       en   \n193                                         Top places       en   \n194                             The delicious bread 😋…       en   \n195                                   Top notch bakery       en   \n\n    label (roberta)  score (roberta)  \n0          POSITIVE         0.909130  \n1          POSITIVE         0.802349  \n2           NEUTRAL         0.368061  \n3          POSITIVE         0.991683  \n4          NEGATIVE         0.392930  \n..              ...              ...  \n191         NEUTRAL         0.725054  \n192         NEUTRAL         0.608334  \n193         NEUTRAL         0.618987  \n194        POSITIVE         0.884680  \n195        POSITIVE         0.748434  \n\n[196 rows x 7 columns]",
      "text/html": "<div>\n<style scoped>\n    .dataframe tbody tr th:only-of-type {\n        vertical-align: middle;\n    }\n\n    .dataframe tbody tr th {\n        vertical-align: top;\n    }\n\n    .dataframe thead th {\n        text-align: right;\n    }\n</style>\n<table border=\"1\" class=\"dataframe\">\n  <thead>\n    <tr style=\"text-align: right;\">\n      <th></th>\n      <th>Name</th>\n      <th>grading</th>\n      <th>date</th>\n      <th>Text</th>\n      <th>Language</th>\n      <th>label (roberta)</th>\n      <th>score (roberta)</th>\n    </tr>\n  </thead>\n  <tbody>\n    <tr>\n      <th>0</th>\n      <td>Reezaane Bundhoo</td>\n      <td>4</td>\n      <td>a year ago</td>\n      <td>Delicious cakes, hot/cold beverages and great ...</td>\n      <td>en</td>\n      <td>POSITIVE</td>\n      <td>0.909130</td>\n    </tr>\n    <tr>\n      <th>1</th>\n      <td>Akram Althawbani</td>\n      <td>5</td>\n      <td>3 months ago</td>\n      <td>Best place but it's still camels man opinion. ...</td>\n      <td>en</td>\n      <td>POSITIVE</td>\n      <td>0.802349</td>\n    </tr>\n    <tr>\n      <th>2</th>\n      <td>Ibrahim Sobh</td>\n      <td>4</td>\n      <td>a month ago</td>\n      <td>Amazing place to buy bread and sweets , always...</td>\n      <td>en</td>\n      <td>NEUTRAL</td>\n      <td>0.368061</td>\n    </tr>\n    <tr>\n      <th>3</th>\n      <td>Mareike Engel</td>\n      <td>5</td>\n      <td>5 months ago</td>\n      <td>Love the baguette and croissant. Staff is alwa...</td>\n      <td>en</td>\n      <td>POSITIVE</td>\n      <td>0.991683</td>\n    </tr>\n    <tr>\n      <th>4</th>\n      <td>shrishail kurangi</td>\n      <td>3</td>\n      <td>6 months ago</td>\n      <td>All the items I have tried here are really gre...</td>\n      <td>en</td>\n      <td>NEGATIVE</td>\n      <td>0.392930</td>\n    </tr>\n    <tr>\n      <th>...</th>\n      <td>...</td>\n      <td>...</td>\n      <td>...</td>\n      <td>...</td>\n      <td>...</td>\n      <td>...</td>\n      <td>...</td>\n    </tr>\n    <tr>\n      <th>191</th>\n      <td>RF 94 (RF94)</td>\n      <td>5</td>\n      <td>2 years ago</td>\n      <td>Really heja the top</td>\n      <td>en</td>\n      <td>NEUTRAL</td>\n      <td>0.725054</td>\n    </tr>\n    <tr>\n      <th>192</th>\n      <td>Stéphane Bouland</td>\n      <td>2</td>\n      <td>10 months ago</td>\n      <td>Cold employees</td>\n      <td>en</td>\n      <td>NEUTRAL</td>\n      <td>0.608334</td>\n    </tr>\n    <tr>\n      <th>193</th>\n      <td>KANDE TOUNKARA</td>\n      <td>5</td>\n      <td>9 months ago</td>\n      <td>Top places</td>\n      <td>en</td>\n      <td>NEUTRAL</td>\n      <td>0.618987</td>\n    </tr>\n    <tr>\n      <th>194</th>\n      <td>Choopa AB</td>\n      <td>5</td>\n      <td>2 years ago</td>\n      <td>The delicious bread 😋…</td>\n      <td>en</td>\n      <td>POSITIVE</td>\n      <td>0.884680</td>\n    </tr>\n    <tr>\n      <th>195</th>\n      <td>Nassim Bourguiba</td>\n      <td>5</td>\n      <td>a year ago</td>\n      <td>Top notch bakery</td>\n      <td>en</td>\n      <td>POSITIVE</td>\n      <td>0.748434</td>\n    </tr>\n  </tbody>\n</table>\n<p>196 rows × 7 columns</p>\n</div>"
     },
     "execution_count": 1,
     "metadata": {},
     "output_type": "execute_result"
    }
   ],
   "source": [
    "import pandas as pd\n",
    "import plotly.express as px\n",
    "\n",
    "df = pd.read_csv('processed_data.csv')\n",
    "df\n",
    "\n"
   ]
  },
  {
   "cell_type": "code",
   "execution_count": null,
   "outputs": [],
   "source": [],
   "metadata": {
    "collapsed": false
   }
  }
 ],
 "metadata": {
  "kernelspec": {
   "display_name": "Python 3",
   "language": "python",
   "name": "python3"
  },
  "language_info": {
   "codemirror_mode": {
    "name": "ipython",
    "version": 2
   },
   "file_extension": ".py",
   "mimetype": "text/x-python",
   "name": "python",
   "nbconvert_exporter": "python",
   "pygments_lexer": "ipython2",
   "version": "2.7.6"
  }
 },
 "nbformat": 4,
 "nbformat_minor": 0
}
